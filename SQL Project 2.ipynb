{
 "cells": [
  {
   "source": [
    "# SQL project 2\n",
    "\n",
    "[Link to keys](https://github.com/dataquestio/solutions/blob/master/Mission191Solutions.ipynb)\n",
    "\n",
    "In this guided project, we're going to practice using our SQL skills to answer business questions.\n",
    "\n",
    "We'll continue to use the Chinook database that we've used in earlier missions of this course. The Chinook database is provided as a SQLite database file called chinook.db. A copy of the database schema is below - you'll need to come back to this step often to consult the schema as you write your queries.\n",
    "\n",
    "<img src=\"chinook-schema.svg\" alt=\"drawing\" width=\"500\"/>\n",
    "\n",
    "\n"
   ],
   "cell_type": "markdown",
   "metadata": {}
  },
  {
   "cell_type": "code",
   "execution_count": 2,
   "metadata": {
    "collapsed": true
   },
   "outputs": [],
   "source": [
    "%%capture\n",
    "%load_ext sql\n",
    "%sql sqlite:///chinook.db"
   ]
  },
  {
   "cell_type": "code",
   "execution_count": 3,
   "metadata": {},
   "outputs": [
    {
     "output_type": "stream",
     "name": "stdout",
     "text": [
      " * sqlite:///chinook.db\nDone.\n"
     ]
    },
    {
     "output_type": "execute_result",
     "data": {
      "text/plain": [
       "[('album', 'table'),\n",
       " ('artist', 'table'),\n",
       " ('customer', 'table'),\n",
       " ('employee', 'table'),\n",
       " ('genre', 'table'),\n",
       " ('invoice', 'table'),\n",
       " ('invoice_line', 'table'),\n",
       " ('media_type', 'table'),\n",
       " ('playlist', 'table'),\n",
       " ('playlist_track', 'table'),\n",
       " ('track', 'table')]"
      ],
      "text/html": "<table>\n    <tr>\n        <th>name</th>\n        <th>type</th>\n    </tr>\n    <tr>\n        <td>album</td>\n        <td>table</td>\n    </tr>\n    <tr>\n        <td>artist</td>\n        <td>table</td>\n    </tr>\n    <tr>\n        <td>customer</td>\n        <td>table</td>\n    </tr>\n    <tr>\n        <td>employee</td>\n        <td>table</td>\n    </tr>\n    <tr>\n        <td>genre</td>\n        <td>table</td>\n    </tr>\n    <tr>\n        <td>invoice</td>\n        <td>table</td>\n    </tr>\n    <tr>\n        <td>invoice_line</td>\n        <td>table</td>\n    </tr>\n    <tr>\n        <td>media_type</td>\n        <td>table</td>\n    </tr>\n    <tr>\n        <td>playlist</td>\n        <td>table</td>\n    </tr>\n    <tr>\n        <td>playlist_track</td>\n        <td>table</td>\n    </tr>\n    <tr>\n        <td>track</td>\n        <td>table</td>\n    </tr>\n</table>"
     },
     "metadata": {},
     "execution_count": 3
    }
   ],
   "source": [
    "%%sql\n",
    "SELECT\n",
    "    name,\n",
    "    type\n",
    "FROM sqlite_master\n",
    "WHERE type IN (\"table\",\"view\");"
   ]
  },
  {
   "cell_type": "code",
   "execution_count": 50,
   "metadata": {},
   "outputs": [
    {
     "output_type": "stream",
     "name": "stdout",
     "text": [
      " * sqlite:///chinook.db\nDone.\n"
     ]
    },
    {
     "output_type": "execute_result",
     "data": {
      "text/plain": [
       "[(1, 'For Those About To Rock (We Salute You)', 1, 1, 1, 'Angus Young, Malcolm Young, Brian Johnson', 343719, 11170334, 0.99),\n",
       " (2, 'Balls to the Wall', 2, 2, 1, None, 342562, 5510424, 0.99),\n",
       " (3, 'Fast As a Shark', 3, 2, 1, 'F. Baltes, S. Kaufman, U. Dirkscneider & W. Hoffman', 230619, 3990994, 0.99),\n",
       " (4, 'Restless and Wild', 3, 2, 1, 'F. Baltes, R.A. Smith-Diesel, S. Kaufman, U. Dirkscneider & W. Hoffman', 252051, 4331779, 0.99),\n",
       " (5, 'Princess of the Dawn', 3, 2, 1, 'Deaffy & R.A. Smith-Diesel', 375418, 6290521, 0.99)]"
      ],
      "text/html": "<table>\n    <tr>\n        <th>track_id</th>\n        <th>name</th>\n        <th>album_id</th>\n        <th>media_type_id</th>\n        <th>genre_id</th>\n        <th>composer</th>\n        <th>milliseconds</th>\n        <th>bytes</th>\n        <th>unit_price</th>\n    </tr>\n    <tr>\n        <td>1</td>\n        <td>For Those About To Rock (We Salute You)</td>\n        <td>1</td>\n        <td>1</td>\n        <td>1</td>\n        <td>Angus Young, Malcolm Young, Brian Johnson</td>\n        <td>343719</td>\n        <td>11170334</td>\n        <td>0.99</td>\n    </tr>\n    <tr>\n        <td>2</td>\n        <td>Balls to the Wall</td>\n        <td>2</td>\n        <td>2</td>\n        <td>1</td>\n        <td>None</td>\n        <td>342562</td>\n        <td>5510424</td>\n        <td>0.99</td>\n    </tr>\n    <tr>\n        <td>3</td>\n        <td>Fast As a Shark</td>\n        <td>3</td>\n        <td>2</td>\n        <td>1</td>\n        <td>F. Baltes, S. Kaufman, U. Dirkscneider &amp; W. Hoffman</td>\n        <td>230619</td>\n        <td>3990994</td>\n        <td>0.99</td>\n    </tr>\n    <tr>\n        <td>4</td>\n        <td>Restless and Wild</td>\n        <td>3</td>\n        <td>2</td>\n        <td>1</td>\n        <td>F. Baltes, R.A. Smith-Diesel, S. Kaufman, U. Dirkscneider &amp; W. Hoffman</td>\n        <td>252051</td>\n        <td>4331779</td>\n        <td>0.99</td>\n    </tr>\n    <tr>\n        <td>5</td>\n        <td>Princess of the Dawn</td>\n        <td>3</td>\n        <td>2</td>\n        <td>1</td>\n        <td>Deaffy &amp; R.A. Smith-Diesel</td>\n        <td>375418</td>\n        <td>6290521</td>\n        <td>0.99</td>\n    </tr>\n</table>"
     },
     "metadata": {},
     "execution_count": 50
    }
   ],
   "source": [
    "%%sql\n",
    "SELECT *\n",
    "FROM track\n",
    "LIMIT 5;"
   ]
  },
  {
   "cell_type": "code",
   "execution_count": 33,
   "metadata": {},
   "outputs": [
    {
     "output_type": "stream",
     "name": "stdout",
     "text": [
      " * sqlite:///chinook.db\nDone.\n"
     ]
    },
    {
     "output_type": "execute_result",
     "data": {
      "text/plain": [
       "[(1, 'Luís', 'Gonçalves', 'Embraer - Empresa Brasileira de Aeronáutica S.A.', 'Av. Brigadeiro Faria Lima, 2170', 'São José dos Campos', 'SP', 'Brazil', '12227-000', '+55 (12) 3923-5555', '+55 (12) 3923-5566', 'luisg@embraer.com.br', 3),\n",
       " (2, 'Leonie', 'Köhler', None, 'Theodor-Heuss-Straße 34', 'Stuttgart', None, 'Germany', '70174', '+49 0711 2842222', None, 'leonekohler@surfeu.de', 5),\n",
       " (3, 'François', 'Tremblay', None, '1498 rue Bélanger', 'Montréal', 'QC', 'Canada', 'H2G 1A7', '+1 (514) 721-4711', None, 'ftremblay@gmail.com', 3),\n",
       " (4, 'Bjørn', 'Hansen', None, 'Ullevålsveien 14', 'Oslo', None, 'Norway', '0171', '+47 22 44 22 22', None, 'bjorn.hansen@yahoo.no', 4),\n",
       " (5, 'František', 'Wichterlová', 'JetBrains s.r.o.', 'Klanova 9/506', 'Prague', None, 'Czech Republic', '14700', '+420 2 4172 5555', '+420 2 4172 5555', 'frantisekw@jetbrains.com', 4)]"
      ],
      "text/html": "<table>\n    <tr>\n        <th>customer_id</th>\n        <th>first_name</th>\n        <th>last_name</th>\n        <th>company</th>\n        <th>address</th>\n        <th>city</th>\n        <th>state</th>\n        <th>country</th>\n        <th>postal_code</th>\n        <th>phone</th>\n        <th>fax</th>\n        <th>email</th>\n        <th>support_rep_id</th>\n    </tr>\n    <tr>\n        <td>1</td>\n        <td>Luís</td>\n        <td>Gonçalves</td>\n        <td>Embraer - Empresa Brasileira de Aeronáutica S.A.</td>\n        <td>Av. Brigadeiro Faria Lima, 2170</td>\n        <td>São José dos Campos</td>\n        <td>SP</td>\n        <td>Brazil</td>\n        <td>12227-000</td>\n        <td>+55 (12) 3923-5555</td>\n        <td>+55 (12) 3923-5566</td>\n        <td>luisg@embraer.com.br</td>\n        <td>3</td>\n    </tr>\n    <tr>\n        <td>2</td>\n        <td>Leonie</td>\n        <td>Köhler</td>\n        <td>None</td>\n        <td>Theodor-Heuss-Straße 34</td>\n        <td>Stuttgart</td>\n        <td>None</td>\n        <td>Germany</td>\n        <td>70174</td>\n        <td>+49 0711 2842222</td>\n        <td>None</td>\n        <td>leonekohler@surfeu.de</td>\n        <td>5</td>\n    </tr>\n    <tr>\n        <td>3</td>\n        <td>François</td>\n        <td>Tremblay</td>\n        <td>None</td>\n        <td>1498 rue Bélanger</td>\n        <td>Montréal</td>\n        <td>QC</td>\n        <td>Canada</td>\n        <td>H2G 1A7</td>\n        <td>+1 (514) 721-4711</td>\n        <td>None</td>\n        <td>ftremblay@gmail.com</td>\n        <td>3</td>\n    </tr>\n    <tr>\n        <td>4</td>\n        <td>Bjørn</td>\n        <td>Hansen</td>\n        <td>None</td>\n        <td>Ullevålsveien 14</td>\n        <td>Oslo</td>\n        <td>None</td>\n        <td>Norway</td>\n        <td>0171</td>\n        <td>+47 22 44 22 22</td>\n        <td>None</td>\n        <td>bjorn.hansen@yahoo.no</td>\n        <td>4</td>\n    </tr>\n    <tr>\n        <td>5</td>\n        <td>František</td>\n        <td>Wichterlová</td>\n        <td>JetBrains s.r.o.</td>\n        <td>Klanova 9/506</td>\n        <td>Prague</td>\n        <td>None</td>\n        <td>Czech Republic</td>\n        <td>14700</td>\n        <td>+420 2 4172 5555</td>\n        <td>+420 2 4172 5555</td>\n        <td>frantisekw@jetbrains.com</td>\n        <td>4</td>\n    </tr>\n</table>"
     },
     "metadata": {},
     "execution_count": 33
    }
   ],
   "source": [
    "%%sql\n",
    "SELECT *\n",
    "FROM customer\n",
    "LIMIT 5;"
   ]
  },
  {
   "source": [
    "# Selecting New Albums to Purchase"
   ],
   "cell_type": "markdown",
   "metadata": {}
  },
  {
   "cell_type": "code",
   "execution_count": 46,
   "metadata": {},
   "outputs": [
    {
     "output_type": "stream",
     "name": "stdout",
     "text": [
      " * sqlite:///chinook.db\nDone.\n"
     ]
    },
    {
     "output_type": "execute_result",
     "data": {
      "text/plain": [
       "[('Rock', 561),\n",
       " ('Alternative & Punk', 130),\n",
       " ('Metal', 124),\n",
       " ('R&B/Soul', 53),\n",
       " ('Blues', 36),\n",
       " ('Alternative', 35),\n",
       " ('Pop', 22),\n",
       " ('Latin', 22),\n",
       " ('Hip Hop/Rap', 20),\n",
       " ('Jazz', 14)]"
      ],
      "text/html": "<table>\n    <tr>\n        <th>name</th>\n        <th>COUNT(*)</th>\n    </tr>\n    <tr>\n        <td>Rock</td>\n        <td>561</td>\n    </tr>\n    <tr>\n        <td>Alternative &amp; Punk</td>\n        <td>130</td>\n    </tr>\n    <tr>\n        <td>Metal</td>\n        <td>124</td>\n    </tr>\n    <tr>\n        <td>R&amp;B/Soul</td>\n        <td>53</td>\n    </tr>\n    <tr>\n        <td>Blues</td>\n        <td>36</td>\n    </tr>\n    <tr>\n        <td>Alternative</td>\n        <td>35</td>\n    </tr>\n    <tr>\n        <td>Pop</td>\n        <td>22</td>\n    </tr>\n    <tr>\n        <td>Latin</td>\n        <td>22</td>\n    </tr>\n    <tr>\n        <td>Hip Hop/Rap</td>\n        <td>20</td>\n    </tr>\n    <tr>\n        <td>Jazz</td>\n        <td>14</td>\n    </tr>\n</table>"
     },
     "metadata": {},
     "execution_count": 46
    }
   ],
   "source": [
    "%%sql\n",
    "SELECT g.name, COUNT(*)\n",
    "FROM invoice_line l\n",
    "INNER JOIN invoice i ON l.invoice_id=i.invoice_id\n",
    "INNER JOIN customer c ON i.customer_id=c.customer_id\n",
    "INNER JOIN track t on t.track_id = l.track_id\n",
    "INNER JOIN genre g on g.genre_id = t.genre_id\n",
    "WHERE i.billing_country=\"USA\"\n",
    "GROUP BY g.name\n",
    "ORDER BY 2 DESC\n",
    "LIMIT 10;\n"
   ]
  },
  {
   "source": [
    "Based on the sales of tracks across different genres in the USA, we should purchase the new albums by the following artists:\n",
    "\n",
    "- Red Tone (Punk)\n",
    "- Slim Jim Bites (Blues)\n",
    "- Meteor and the Girls (Pop)\n",
    "\n",
    "It's worth keeping in mind that combined, these three genres only make up only 17% of total sales, so we should be on the lookout for artists and albums from the 'rock' genre, which accounts for 53% of sales.\n",
    "\n",
    "# Analyzing Employee Sales Performance\n"
   ],
   "cell_type": "markdown",
   "metadata": {}
  },
  {
   "cell_type": "code",
   "execution_count": 47,
   "metadata": {},
   "outputs": [
    {
     "output_type": "stream",
     "name": "stdout",
     "text": [
      " * sqlite:///chinook.db\nDone.\n"
     ]
    },
    {
     "output_type": "execute_result",
     "data": {
      "text/plain": [
       "[('Jane Peacock', '2017-04-01 00:00:00', 1731.5099999999998),\n",
       " ('Margaret Park', '2017-05-03 00:00:00', 1584.0000000000002),\n",
       " ('Steve Johnson', '2017-10-17 00:00:00', 1393.92)]"
      ],
      "text/html": "<table>\n    <tr>\n        <th>employee</th>\n        <th>hire_date</th>\n        <th>total_sales</th>\n    </tr>\n    <tr>\n        <td>Jane Peacock</td>\n        <td>2017-04-01 00:00:00</td>\n        <td>1731.5099999999998</td>\n    </tr>\n    <tr>\n        <td>Margaret Park</td>\n        <td>2017-05-03 00:00:00</td>\n        <td>1584.0000000000002</td>\n    </tr>\n    <tr>\n        <td>Steve Johnson</td>\n        <td>2017-10-17 00:00:00</td>\n        <td>1393.92</td>\n    </tr>\n</table>"
     },
     "metadata": {},
     "execution_count": 47
    }
   ],
   "source": [
    "%%sql\n",
    "\n",
    "WITH customer_support_rep_sales AS\n",
    "    (\n",
    "     SELECT\n",
    "         i.customer_id,\n",
    "         c.support_rep_id,\n",
    "         SUM(i.total) total\n",
    "     FROM invoice i\n",
    "     INNER JOIN customer c ON i.customer_id = c.customer_id\n",
    "     GROUP BY 1,2\n",
    "    )\n",
    "\n",
    "SELECT\n",
    "    e.first_name || \" \" || e.last_name employee,\n",
    "    e.hire_date,\n",
    "    SUM(csrs.total) total_sales\n",
    "FROM customer_support_rep_sales csrs\n",
    "INNER JOIN employee e ON e.employee_id = csrs.support_rep_id\n",
    "GROUP BY 1;"
   ]
  },
  {
   "source": [
    "While there is a 20% difference in sales between Jane (the top employee) and Steve (the bottom employee), the difference roughly corresponds with the differences in their hiring dates.\n",
    "\n",
    "# Analyzing Sales by Country"
   ],
   "cell_type": "markdown",
   "metadata": {}
  },
  {
   "cell_type": "code",
   "execution_count": 49,
   "metadata": {},
   "outputs": [
    {
     "output_type": "stream",
     "name": "stdout",
     "text": [
      " * sqlite:///chinook.db\nDone.\n"
     ]
    },
    {
     "output_type": "execute_result",
     "data": {
      "text/plain": [
       "[('USA', 13, 1040.490000000008, 7.942671755725252, 80.03769230769292),\n",
       " ('Canada', 8, 535.5900000000034, 7.047236842105309, 66.94875000000043),\n",
       " ('Brazil', 5, 427.68000000000245, 7.011147540983647, 85.53600000000048),\n",
       " ('France', 5, 389.0700000000021, 7.781400000000042, 77.81400000000042),\n",
       " ('Germany', 4, 334.6200000000016, 8.161463414634186, 83.6550000000004),\n",
       " ('Czech Republic', 2, 273.24000000000103, 9.108000000000034, 136.62000000000052),\n",
       " ('United Kingdom', 3, 245.52000000000078, 8.768571428571457, 81.84000000000026),\n",
       " ('Portugal', 2, 185.13000000000022, 6.3837931034482835, 92.56500000000011),\n",
       " ('India', 2, 183.1500000000002, 8.72142857142858, 91.5750000000001),\n",
       " ('Other', 15, 1094.9400000000085, 7.448571428571486, 72.99600000000056)]"
      ],
      "text/html": "<table>\n    <tr>\n        <th>country</th>\n        <th>customers</th>\n        <th>total_sales</th>\n        <th>average_order</th>\n        <th>customer_lifetime_value</th>\n    </tr>\n    <tr>\n        <td>USA</td>\n        <td>13</td>\n        <td>1040.490000000008</td>\n        <td>7.942671755725252</td>\n        <td>80.03769230769292</td>\n    </tr>\n    <tr>\n        <td>Canada</td>\n        <td>8</td>\n        <td>535.5900000000034</td>\n        <td>7.047236842105309</td>\n        <td>66.94875000000043</td>\n    </tr>\n    <tr>\n        <td>Brazil</td>\n        <td>5</td>\n        <td>427.68000000000245</td>\n        <td>7.011147540983647</td>\n        <td>85.53600000000048</td>\n    </tr>\n    <tr>\n        <td>France</td>\n        <td>5</td>\n        <td>389.0700000000021</td>\n        <td>7.781400000000042</td>\n        <td>77.81400000000042</td>\n    </tr>\n    <tr>\n        <td>Germany</td>\n        <td>4</td>\n        <td>334.6200000000016</td>\n        <td>8.161463414634186</td>\n        <td>83.6550000000004</td>\n    </tr>\n    <tr>\n        <td>Czech Republic</td>\n        <td>2</td>\n        <td>273.24000000000103</td>\n        <td>9.108000000000034</td>\n        <td>136.62000000000052</td>\n    </tr>\n    <tr>\n        <td>United Kingdom</td>\n        <td>3</td>\n        <td>245.52000000000078</td>\n        <td>8.768571428571457</td>\n        <td>81.84000000000026</td>\n    </tr>\n    <tr>\n        <td>Portugal</td>\n        <td>2</td>\n        <td>185.13000000000022</td>\n        <td>6.3837931034482835</td>\n        <td>92.56500000000011</td>\n    </tr>\n    <tr>\n        <td>India</td>\n        <td>2</td>\n        <td>183.1500000000002</td>\n        <td>8.72142857142858</td>\n        <td>91.5750000000001</td>\n    </tr>\n    <tr>\n        <td>Other</td>\n        <td>15</td>\n        <td>1094.9400000000085</td>\n        <td>7.448571428571486</td>\n        <td>72.99600000000056</td>\n    </tr>\n</table>"
     },
     "metadata": {},
     "execution_count": 49
    }
   ],
   "source": [
    "%%sql\n",
    "\n",
    "WITH country_or_other AS\n",
    "    (\n",
    "     SELECT\n",
    "       CASE\n",
    "           WHEN (\n",
    "                 SELECT count(*)\n",
    "                 FROM customer\n",
    "                 where country = c.country\n",
    "                ) = 1 THEN \"Other\"\n",
    "           ELSE c.country\n",
    "       END AS country,\n",
    "       c.customer_id,\n",
    "       il.*\n",
    "     FROM invoice_line il\n",
    "     INNER JOIN invoice i ON i.invoice_id = il.invoice_id\n",
    "     INNER JOIN customer c ON c.customer_id = i.customer_id\n",
    "    )\n",
    "\n",
    "SELECT\n",
    "    country,\n",
    "    customers,\n",
    "    total_sales,\n",
    "    average_order,\n",
    "    customer_lifetime_value\n",
    "FROM\n",
    "    (\n",
    "    SELECT\n",
    "        country,\n",
    "        count(distinct customer_id) customers,\n",
    "        SUM(unit_price) total_sales,\n",
    "        SUM(unit_price) / count(distinct customer_id) customer_lifetime_value,\n",
    "        SUM(unit_price) / count(distinct invoice_id) average_order,\n",
    "        CASE\n",
    "            WHEN country = \"Other\" THEN 1\n",
    "            ELSE 0\n",
    "        END AS sort\n",
    "    FROM country_or_other\n",
    "    GROUP BY country\n",
    "    ORDER BY sort ASC, total_sales DESC\n",
    "    );"
   ]
  },
  {
   "source": [
    "\n",
    "Based on the data, there may be opportunity in the following countries:\n",
    "\n",
    "- Czech Republic\n",
    "- United Kingdom\n",
    "- India\n",
    "\n",
    "It's worth keeping in mind that because the amount of data from each of these countries is relatively low. Because of this, we should be cautious spending too much money on new marketing campaigns, as the sample size is not large enough to give us high confidence. A better approach would be to run small campaigns in these countries, collecting and analyzing the new customers to make sure that these trends hold with new customers.\n",
    "\n",
    "# Albums vs Individual Tracks"
   ],
   "cell_type": "markdown",
   "metadata": {}
  },
  {
   "cell_type": "code",
   "execution_count": 51,
   "metadata": {},
   "outputs": [
    {
     "output_type": "stream",
     "name": "stdout",
     "text": [
      " * sqlite:///chinook.db\nDone.\n"
     ]
    },
    {
     "output_type": "execute_result",
     "data": {
      "text/plain": [
       "[('no', 500, 0.8143322475570033), ('yes', 114, 0.18566775244299674)]"
      ],
      "text/html": "<table>\n    <tr>\n        <th>album_purchase</th>\n        <th>number_of_invoices</th>\n        <th>percent</th>\n    </tr>\n    <tr>\n        <td>no</td>\n        <td>500</td>\n        <td>0.8143322475570033</td>\n    </tr>\n    <tr>\n        <td>yes</td>\n        <td>114</td>\n        <td>0.18566775244299674</td>\n    </tr>\n</table>"
     },
     "metadata": {},
     "execution_count": 51
    }
   ],
   "source": [
    "\n",
    "%%sql\n",
    "\n",
    "WITH invoice_first_track AS\n",
    "    (\n",
    "     SELECT\n",
    "         il.invoice_id invoice_id,\n",
    "         MIN(il.track_id) first_track_id\n",
    "     FROM invoice_line il\n",
    "     GROUP BY 1\n",
    "    )\n",
    "\n",
    "SELECT\n",
    "    album_purchase,\n",
    "    COUNT(invoice_id) number_of_invoices,\n",
    "    CAST(count(invoice_id) AS FLOAT) / (\n",
    "                                         SELECT COUNT(*) FROM invoice\n",
    "                                      ) percent\n",
    "FROM\n",
    "    (\n",
    "    SELECT\n",
    "        ifs.*,\n",
    "        CASE\n",
    "            WHEN\n",
    "                 (\n",
    "                  SELECT t.track_id FROM track t\n",
    "                  WHERE t.album_id = (\n",
    "                                      SELECT t2.album_id FROM track t2\n",
    "                                      WHERE t2.track_id = ifs.first_track_id\n",
    "                                     ) \n",
    "\n",
    "                  EXCEPT \n",
    "\n",
    "                  SELECT il2.track_id FROM invoice_line il2\n",
    "                  WHERE il2.invoice_id = ifs.invoice_id\n",
    "                 ) IS NULL\n",
    "             AND\n",
    "                 (\n",
    "                  SELECT il2.track_id FROM invoice_line il2\n",
    "                  WHERE il2.invoice_id = ifs.invoice_id\n",
    "\n",
    "                  EXCEPT \n",
    "\n",
    "                  SELECT t.track_id FROM track t\n",
    "                  WHERE t.album_id = (\n",
    "                                      SELECT t2.album_id FROM track t2\n",
    "                                      WHERE t2.track_id = ifs.first_track_id\n",
    "                                     ) \n",
    "                 ) IS NULL\n",
    "             THEN \"yes\"\n",
    "             ELSE \"no\"\n",
    "         END AS \"album_purchase\"\n",
    "     FROM invoice_first_track ifs\n",
    "    )\n",
    "GROUP BY album_purchase;\n"
   ]
  },
  {
   "source": [
    "Album purchases account for 18.6% of purchases. Based on this data, I would recommend against purchasing only select tracks from albums from record companies, since there is potential to lose one fifth of revenue."
   ],
   "cell_type": "markdown",
   "metadata": {}
  },
  {
   "cell_type": "code",
   "execution_count": null,
   "metadata": {},
   "outputs": [],
   "source": []
  }
 ],
 "metadata": {
  "kernelspec": {
   "name": "python395jvsc74a57bd0b0fa6594d8f4cbf19f97940f81e996739fb7646882a419484c72d19e05852a7e",
   "display_name": "Python 3.9.5 64-bit"
  },
  "language_info": {
   "codemirror_mode": {
    "name": "ipython",
    "version": 3
   },
   "file_extension": ".py",
   "mimetype": "text/x-python",
   "name": "python",
   "nbconvert_exporter": "python",
   "pygments_lexer": "ipython3",
   "version": "3.9.5"
  },
  "metadata": {
   "interpreter": {
    "hash": "b0fa6594d8f4cbf19f97940f81e996739fb7646882a419484c72d19e05852a7e"
   }
  }
 },
 "nbformat": 4,
 "nbformat_minor": 2
}