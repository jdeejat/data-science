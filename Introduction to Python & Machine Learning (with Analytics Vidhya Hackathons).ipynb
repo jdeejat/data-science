{
 "cells": [
  {
   "cell_type": "markdown",
   "metadata": {},
   "source": [
    "# Introduction to Python & Machine Learning (with Analytics Vidhya Hackathons)"
   ]
  },
  {
   "cell_type": "markdown",
   "metadata": {},
   "source": [
    "# Chapter 1 - Introduction to Python for Data Analysis"
   ]
  },
  {
   "cell_type": "markdown",
   "metadata": {},
   "source": [
    "## Why learn Python for data analysis?\n",
    "\n",
    "Python (an interpreted language) has gathered a lot of interest recently as a preferred choice of language for data analysis. Here are some reasons in favour of learning Python:\n",
    "\n",
    "It is open source – free to install and use\n",
    "Python has an awesome online community - latest algorithms come to Python in a matter of days\n",
    "It is easy to learn\n",
    "It can become a common language for data science and production of web-based analytics products\n",
    "Which of the following is not a reason to learn Python for data analysis?\n",
    "\n",
    "## Python 2.7 vs. Python 3.5?\n",
    "\n",
    "You will come across this question soon after you start using Python. Python has 2 popular competing versions. Both versions have their pros and cons.\n",
    "\n",
    "Benefits of Python 2.7\n",
    "\n",
    "Awesome online community. Easier to find answers when you get stuck at places.\n",
    "Tonnes of third party libraries\n",
    "Benefits of Python 3.5\n",
    "\n",
    "Cleaner and faster\n",
    "It is the future!\n",
    "You can read a more detailed answer [here](http://discuss.analyticsvidhya.com/t/python-2-7-or-3-5-which-one-to-choose-for-data-science/7151)\n",
    "\n",
    "Which version of Python would you recommend to someone who needs to use several third party libraries?\n",
    "\n",
    "## Python installation\n",
    "\n",
    "While DataCamp provides an awesome interface to get you started, you will need to run a local instance of Python for any serious Data Science work. The simplest way would be to download Anaconda. An open source distribution of Python, it has most of the libraries & packages you would need, and removes any version conflicts. I strongly recommend this for beginners. For this course, we will be using Python 3.x\n",
    "\n",
    "Should you install a local instance of Python on your machine to continue this course?"
   ]
  },
  {
   "cell_type": "markdown",
   "metadata": {},
   "source": [
    "# Chapter 2 - Python Libraries and data structures"
   ]
  },
  {
   "cell_type": "markdown",
   "metadata": {},
   "source": [
    "## Create a List\n",
    "\n",
    "Lists are probably the most versatile data structures in Python. A list can be defined by writing a list of comma separated values in square brackets. Lists might contain items of different types. Python lists are mutable - individual elements of a list can be changed while the identity does not change.\n",
    "\n",
    "Country =['INDIA','USA','GERMANY','UK','AUSTRALIA']\n",
    "\n",
    "Temperature =[44, 28, 20, 18, 25, 45, 67]\n",
    "\n",
    "We just created two lists, one for Country names (strings) and another one for Temperature data (whole numbers).\n",
    "\n",
    "Accessing individual elements of a list\n",
    "Individual elements of a list can be accessed by writing an index number in square bracket. The first index of a list starts with 0 (zero) not 1. For example, Country[0] can be used to access the first element, 'INDIA'\n",
    "A range of elements can be accessed by using start index and end index but it does not return the value of the end index. For example, Temperature[1:4] returns three elements, the second through fourth elements [28, 20, 18], but not the fifth element"
   ]
  },
  {
   "cell_type": "code",
   "execution_count": 403,
   "metadata": {},
   "outputs": [
    {
     "name": "stdout",
     "output_type": "stream",
     "text": [
      "0\n",
      "[1, 4, 9]\n"
     ]
    }
   ],
   "source": [
    "# Create a list of squared numbers\n",
    "squares_list = [0, 1, 4, 9, 16, 25]\n",
    "\n",
    "# Now write a line of code to create a list of the first five odd numbers and store it in a variable odd_numbers\n",
    "odd_numbers= [1, 3, 5, 7, 9]\n",
    "\n",
    "# Print the first element of squares_list\n",
    "print (squares_list[0])\n",
    "\n",
    "# Print the second to fourth elements of squares_list\n",
    "print(squares_list[1:4])"
   ]
  },
  {
   "cell_type": "markdown",
   "metadata": {},
   "source": [
    "## Create a String\n",
    "\n",
    "Strings can simply be defined by use of single ( ‘ ), double ( ” ) or triple ( ”’ ) inverted commas. Strings enclosed in triple quotes ( ”’ ) can span over multiple lines. A few things to keep in mind about strings:\n",
    "\n",
    "Strings are immutable in Python, so you can not change the content of a string.\n",
    "Function len() can be used to get length of a string\n",
    "You can access the elements using indexes as you do for lists\n",
    "String =\"String elements can also be accessed using index numbers, just like lists\"\n",
    "\n",
    "~~~\n",
    "print (String[0:7])\n",
    "~~~\n",
    "\n",
    "#Above print command displays \"String \" on screen.\n",
    "You can use '+' operator to concatenate two strings"
   ]
  },
  {
   "cell_type": "code",
   "execution_count": 404,
   "metadata": {},
   "outputs": [
    {
     "name": "stdout",
     "output_type": "stream",
     "text": [
      "25\n",
      "awesome!\n",
      "I am doing a course Introduction to Hackathon using Python\n"
     ]
    }
   ],
   "source": [
    "# Create a string str1\n",
    "str1 = \"Introduction with strings\"\n",
    "\n",
    "# Now store the length of string str1 in variable str_len\n",
    "str_len = len(str1)\n",
    "print(str_len)\n",
    "str_new = \"Machine Learning is awesome!\"\n",
    "# Print last eight characters of string str_new (the length of str_new is 28 characters).\n",
    "print (str_new[20:28])\n",
    "\n",
    "str2 = \"I am doing a course Introduction to Hackathon using \"\n",
    "str3 = \"Python\"\n",
    "\n",
    "# Write a line of code to store concatenated string of str2 and str3 into variable str4\n",
    "str4 = str2 + str3\n",
    "print(str4)"
   ]
  },
  {
   "cell_type": "markdown",
   "metadata": {},
   "source": [
    "## Create a Dictionary\n",
    "\n",
    "A Dictionary is an unordered set of key:value pairs, with the requirement that the keys are unique (within a Dictionary). A few pointers about dictionary:\n",
    "\n",
    "An empty dictionary can be created by a pair of braces: {}.\n",
    "Dictionary elements can be accessed by dictionary keys\n",
    "DICT.keys() will return all the keys of given dictionary \"DICT\"\n",
    "~~~\n",
    "DICT = {\n",
    "  'Name':'Kunal',\n",
    "  'Company':'Analytics Vidhya'\n",
    "  }\n",
    "~~~\n",
    "#Dictionary elements can be accessed by keys\n",
    "\n",
    "~~~\n",
    "print (DICT['Name'])\n",
    "~~~\n",
    "\n",
    "#The above print statement will print Kunal\n",
    "\n",
    "In dictionary \"DICT\", Name and Company are dictionary keys whereas \"Kunal\" and \"Analytics Vidhya\" are their respective values."
   ]
  },
  {
   "cell_type": "code",
   "execution_count": 405,
   "metadata": {
    "scrolled": true
   },
   "outputs": [
    {
     "name": "stdout",
     "output_type": "stream",
     "text": [
      "18\n",
      "dict_keys(['Age', 'Name', 'Sports'])\n"
     ]
    }
   ],
   "source": [
    "# Create a dictionary dict1\n",
    "dict1 = { 'Age': 16, 'Name': 'Max', 'Sports': 'Cricket'}\n",
    "\n",
    "# Update the value of Age to 18\n",
    "dict1['Age'] = 18\n",
    "\n",
    "# Print the value of Age\n",
    "print (dict1['Age'])\n",
    "\n",
    "# Store the keys of dictionary dict1 to dict_keys\n",
    "dict_keys = dict1.keys()\n",
    "print(dict_keys)"
   ]
  },
  {
   "cell_type": "markdown",
   "metadata": {},
   "source": [
    "## How to use Python libraries?\n",
    "\n",
    "First of all - great progress! You now know some of the important data structures in Python.\n",
    "\n",
    "Let's take another step ahead in our journey to learn Python, by getting acquainted with some useful libraries. The first step is to learn to import them into your environment. There are several ways of doing so in Python:\n",
    "\n",
    "~~~\n",
    "import math as m\n",
    "\n",
    "from math import *\n",
    "~~~\n",
    "\n",
    "In the first manner, we have defined an alias m to library math. We can now use various functions from math library (e.g. factorial) by referencing it using the alias m.factorial().\n",
    "\n",
    "In the second manner, you have imported the entire name space in math i.e. you can directly use factorial() without referring to math.\n",
    "\n",
    "Following are a list of libraries, you will need for any scientific computations and data analysis:\n",
    "\n",
    "- Numpy\n",
    "- Scipy\n",
    "- Pandas\n",
    "- Matplotlib\n",
    "- Scikit Learn\n",
    "\n",
    "Which of the following is a valid import statement for below code?\n",
    "~~~print (factorial(5))~~~"
   ]
  },
  {
   "cell_type": "code",
   "execution_count": 406,
   "metadata": {},
   "outputs": [],
   "source": [
    "import pandas as pd\n",
    "import numpy as np"
   ]
  },
  {
   "cell_type": "markdown",
   "metadata": {},
   "source": [
    "## Why are conditional statements required?\n",
    "\n",
    "Conditional statements are used to execute code fragments based on a given condition. The most commonly used construct is if-else, with the following syntax:\n",
    "\n",
    "~~~\n",
    "if [condition]:\n",
    "  __execution if true__\n",
    "else:\n",
    "  __execution if false__\n",
    "~~~"
   ]
  },
  {
   "cell_type": "code",
   "execution_count": 407,
   "metadata": {},
   "outputs": [
    {
     "name": "stdout",
     "output_type": "stream",
     "text": [
      "7\n",
      "6\n",
      "Greater than 5\n"
     ]
    }
   ],
   "source": [
    "# Create a two integer variables a and b\n",
    "a=3\n",
    "b=4\n",
    "\n",
    "# if a is greater than b print a-b else a+b\n",
    "if a > b:\n",
    "    print (a-b)\n",
    "else:\n",
    "    print (a+b)\n",
    "\n",
    "# Create a list of squared numbers\n",
    "squares_list = [0, 1, 4, 9, 16, 25]\n",
    "\n",
    "# Store the length of squares_list in square_len\n",
    "square_len = len(squares_list)\n",
    "print(square_len)\n",
    "\n",
    "# if square_len is less than 5 then print \"Less than 5\" else \"Greater than 5\"\n",
    "if square_len < 5:\n",
    "    print (\"Less than 5\")\n",
    "else:\n",
    "    print (\"Greater than 5\")"
   ]
  },
  {
   "cell_type": "markdown",
   "metadata": {},
   "source": [
    "## How iterative statements help?\n",
    "\n",
    "Computers are often used to automate repetitive tasks. Repeating identical or similar tasks without making errors is something that computers do well. Repeated execution of a set of statements is called iteration.\n",
    "\n",
    "Like most languages, Python also has a FOR-loop which is the most widely used method for iteration. It has a simple syntax:\n",
    "\n",
    "```\n",
    "for i in [Python Iterable]:\n",
    "  expression(i)\n",
    "```\n",
    "\n",
    "“Python Iterable” can be a list or other advanced data structures which we will explore in later sections. Let’s take a look at a simple example, determining the factorial of a number."
   ]
  },
  {
   "cell_type": "code",
   "execution_count": 408,
   "metadata": {},
   "outputs": [
    {
     "name": "stdout",
     "output_type": "stream",
     "text": [
      "[0, 1, 2, 3, 4]\n",
      "6\n"
     ]
    }
   ],
   "source": [
    "# this declares eampty list 'ls' and appends x first 5 numbers\n",
    "ls=[]\n",
    "for x in range(5):\n",
    "    ls.append(x)\n",
    "print(ls)\n",
    "\n",
    "sum=0\n",
    "# Store sum all the even numbers of the list ls in sum and print it\n",
    "\n",
    "for x in ls:\n",
    "    if x%2 == 0:\n",
    "        sum += x\n",
    "\n",
    "print (sum)"
   ]
  },
  {
   "cell_type": "markdown",
   "metadata": {},
   "source": [
    "# Chapter 3 - Exploratory analysis in Python using Pandas"
   ]
  },
  {
   "cell_type": "markdown",
   "metadata": {},
   "source": [
    "## Case study - Who is eligible for loan?\n",
    "\n",
    "Introduction - Analytics Vidhya (AV) DataHack\n",
    "At [Analytics Vidhya](http://www.analyticsvidhya.com/), we are building a knowledge platform for data science professionals across the globe. Among several things, we host several hackathons for our community on our [DataHack platform](http://datahack.analyticsvidhya.com/). The case study for today's problem is one of the practice problem on our platform. You can check out the practice problem [here](http://datahack.analyticsvidhya.com/contest/practice-problem-loan-prediction-iii).\n",
    "\n",
    "The case study - Dream Housing Finance\n",
    "Dream Housing Finance company deals in all home loans. They have a presence across all urban, semi-urban and rural areas. Customers first apply for a home loan after that company validates the customer's eligibility. The company wants to automate the loan eligibility process (real-time) based on customer detail provided while filling online application form.\n",
    "\n",
    "Let's start with loading the training and testing set into your python environment. You will use the training set to build your model, and the test set to validate it. Both the files are stored on the web as CSV files; their URLs are already available as character strings in the sample code.\n",
    "\n",
    "You can load this data with the pandas.read_csv() function. It converts the data set to a python dataframe. In simple words, Python dataframe can be imagined as an equivalent of a spreadsheet or a SQL table."
   ]
  },
  {
   "cell_type": "code",
   "execution_count": 409,
   "metadata": {},
   "outputs": [
    {
     "name": "stdout",
     "output_type": "stream",
     "text": [
      "     Loan_ID Gender Married Dependents     Education Self_Employed  \\\n",
      "0   LP001002   Male      No          0      Graduate            No   \n",
      "1   LP001003   Male     Yes          1      Graduate            No   \n",
      "2   LP001005   Male     Yes          0      Graduate           Yes   \n",
      "3   LP001006   Male     Yes          0  Not Graduate            No   \n",
      "4   LP001008   Male      No          0      Graduate            No   \n",
      "5   LP001011   Male     Yes          2      Graduate           Yes   \n",
      "6   LP001013   Male     Yes          0  Not Graduate            No   \n",
      "7   LP001014   Male     Yes         3+      Graduate            No   \n",
      "8   LP001018   Male     Yes          2      Graduate            No   \n",
      "9   LP001020   Male     Yes          1      Graduate            No   \n",
      "10  LP001024   Male     Yes          2      Graduate            No   \n",
      "11  LP001027   Male     Yes          2      Graduate           NaN   \n",
      "12  LP001028   Male     Yes          2      Graduate            No   \n",
      "13  LP001029   Male      No          0      Graduate            No   \n",
      "14  LP001030   Male     Yes          2      Graduate            No   \n",
      "15  LP001032   Male      No          0      Graduate            No   \n",
      "16  LP001034   Male      No          1  Not Graduate            No   \n",
      "\n",
      "    ApplicantIncome  CoapplicantIncome  LoanAmount  Loan_Amount_Term  \\\n",
      "0              5849                0.0         NaN             360.0   \n",
      "1              4583             1508.0       128.0             360.0   \n",
      "2              3000                0.0        66.0             360.0   \n",
      "3              2583             2358.0       120.0             360.0   \n",
      "4              6000                0.0       141.0             360.0   \n",
      "5              5417             4196.0       267.0             360.0   \n",
      "6              2333             1516.0        95.0             360.0   \n",
      "7              3036             2504.0       158.0             360.0   \n",
      "8              4006             1526.0       168.0             360.0   \n",
      "9             12841            10968.0       349.0             360.0   \n",
      "10             3200              700.0        70.0             360.0   \n",
      "11             2500             1840.0       109.0             360.0   \n",
      "12             3073             8106.0       200.0             360.0   \n",
      "13             1853             2840.0       114.0             360.0   \n",
      "14             1299             1086.0        17.0             120.0   \n",
      "15             4950                0.0       125.0             360.0   \n",
      "16             3596                0.0       100.0             240.0   \n",
      "\n",
      "    Credit_History Property_Area Loan_Status  \n",
      "0              1.0         Urban           Y  \n",
      "1              1.0         Rural           N  \n",
      "2              1.0         Urban           Y  \n",
      "3              1.0         Urban           Y  \n",
      "4              1.0         Urban           Y  \n",
      "5              1.0         Urban           Y  \n",
      "6              1.0         Urban           Y  \n",
      "7              0.0     Semiurban           N  \n",
      "8              1.0         Urban           Y  \n",
      "9              1.0     Semiurban           N  \n",
      "10             1.0         Urban           Y  \n",
      "11             1.0         Urban           Y  \n",
      "12             1.0         Urban           Y  \n",
      "13             1.0         Rural           N  \n",
      "14             1.0         Urban           Y  \n",
      "15             1.0         Urban           Y  \n",
      "16             NaN         Urban           Y  \n",
      "614\n",
      "12\n"
     ]
    }
   ],
   "source": [
    "# import library pandas\n",
    "import pandas as pd\n",
    "\n",
    "# Import training data as train\n",
    "train = pd.read_csv(\"https://s3-ap-southeast-1.amazonaws.com/av-datahack-datacamp/train.csv\")\n",
    "# replace balnk or na with zero using pandas to do this for the whole dataframe use df.fillna(0)\n",
    "# train['Credit_History'] = train['Credit_History'].fillna(0.0)\n",
    "\n",
    "\n",
    "# Import testing data as test\n",
    "test = pd.read_csv(\"https://s3-ap-southeast-1.amazonaws.com/av-datahack-datacamp/test.csv\")\n",
    "\n",
    "# Print top 5 observation of train dataset\n",
    "print (train.head(17) )\n",
    "\n",
    "# Store total number of observation in training dataset\n",
    "train_length = len (train)\n",
    "print(train_length)\n",
    "\n",
    "# Store total number of columns in testing data set\n",
    "test_col = len (test.columns)\n",
    "print(test_col)"
   ]
  },
  {
   "cell_type": "markdown",
   "metadata": {},
   "source": [
    "## Understanding the Data\n",
    "\n",
    "You can look at a summary of numerical fields by using dataframe.describe(). It provides the count, mean, standard deviation (std), min, quartiles and max in its output.\n",
    "```\n",
    "dataframe.describe()\n",
    "```\n",
    "For the non-numeric values (e.g. PropertyArea, CreditHistory etc.), we can look at frequency distribution. The frequency table can be printed by the following command:\n",
    "\n",
    "```\n",
    "df[column_name].value_counts()\n",
    "OR\n",
    "df.column_name.value_counts()\n",
    "```"
   ]
  },
  {
   "cell_type": "code",
   "execution_count": 410,
   "metadata": {},
   "outputs": [
    {
     "name": "stdout",
     "output_type": "stream",
     "text": [
      "       ApplicantIncome  CoapplicantIncome  LoanAmount  Loan_Amount_Term  \\\n",
      "count       614.000000         614.000000  592.000000         600.00000   \n",
      "mean       5403.459283        1621.245798  146.412162         342.00000   \n",
      "std        6109.041673        2926.248369   85.587325          65.12041   \n",
      "min         150.000000           0.000000    9.000000          12.00000   \n",
      "25%        2877.500000           0.000000  100.000000         360.00000   \n",
      "50%        3812.500000        1188.500000  128.000000         360.00000   \n",
      "75%        5795.000000        2297.250000  168.000000         360.00000   \n",
      "max       81000.000000       41667.000000  700.000000         480.00000   \n",
      "\n",
      "       Credit_History  \n",
      "count      564.000000  \n",
      "mean         0.842199  \n",
      "std          0.364878  \n",
      "min          0.000000  \n",
      "25%          1.000000  \n",
      "50%          1.000000  \n",
      "75%          1.000000  \n",
      "max          1.000000  \n",
      "Semiurban    233\n",
      "Urban        202\n",
      "Rural        179\n",
      "Name: Property_Area, dtype: int64\n"
     ]
    }
   ],
   "source": [
    "#Training and Testing data set are loaded in train and test dataframe respectively\n",
    "\n",
    "# Look at the summary of numerical variables for train data set\n",
    "df= train.describe()\n",
    "print (df)\n",
    "\n",
    "# Print the unique values and their frequency of variable Property_Area\n",
    "df1=train.Property_Area.value_counts()\n",
    "print (df1)\n"
   ]
  },
  {
   "cell_type": "markdown",
   "metadata": {},
   "source": [
    "## Understanding distribution of numerical variables\n",
    "\n",
    "Now that we are familiar with basic data characteristics, let us study the distribution of numerical variables. Let us start with numeric variable \"ApplicantIncome\".\n",
    "\n",
    "Let's start by plotting the histogram of ApplicantIncome using the following command:\n",
    "\n",
    "```\n",
    "train['ApplicantIncome'].hist(bins=50)\n",
    "```\n",
    "Or\n",
    "```\n",
    "train.ApplicantIncome.hist(bins=50)\n",
    "```\n",
    "Next, we can also look at box plots to understand the distributions. Box plot for ApplicantIncome can be plotted by\n",
    "```\n",
    "train.boxplot(column='ApplicantIncome')\n",
    "```"
   ]
  },
  {
   "cell_type": "code",
   "execution_count": 411,
   "metadata": {},
   "outputs": [
    {
     "data": {
      "text/plain": [
       "<AxesSubplot:title={'center':'LoanAmount'}, xlabel='Gender'>"
      ]
     },
     "execution_count": 411,
     "metadata": {},
     "output_type": "execute_result"
    },
    {
     "data": {
      "image/png": "[encoded data removed]",
      "text/plain": [
       "<Figure size 432x288 with 1 Axes>"
      ]
     },
     "metadata": {
      "needs_background": "light"
     },
     "output_type": "display_data"
    },
    {
     "data": {
      "image/png": "[encoded data removed]",
      "text/plain": [
       "<Figure size 432x288 with 1 Axes>"
      ]
     },
     "metadata": {
      "needs_background": "light"
     },
     "output_type": "display_data"
    }
   ],
   "source": [
    "# Training and Testing dataset are loaded in train and test dataframe respectively\n",
    "# Plot histogram for variable LoanAmount\n",
    "train.LoanAmount.hist(bins=50)\n",
    "\n",
    "\n",
    "# Plot a box plot for variable LoanAmount by variable Gender of training data set\n",
    "train.boxplot(column='LoanAmount', by = 'Gender')\n"
   ]
  },
  {
   "cell_type": "markdown",
   "metadata": {},
   "source": [
    "## Understanding distribution of categorical variables\n",
    "\n",
    "We have looked at the distributions of ApplicantIncome and LoanIncome, now it's time for looking at categorical variables in more details. For instance, let's see whether Gender is affecting the loan status or not. This can be tested using cross-tabulation as shown below:\n",
    "```\n",
    "pd.crosstab( train ['Gender'], train [\"Loan_Status\"], margins=True)\n",
    "```\n",
    "Next, we can also look at proportions can be more intuitive in making some quick insights. We can do this using the apply function. You can read more about cross tab and apply functions [here](http://www.analyticsvidhya.com/blog/2016/01/12-pandas-techniques-python-data-manipulation/).\n",
    "\n",
    "```\n",
    "def percentageConvert(ser):\n",
    "  return ser/float(ser[-1])\n",
    "\n",
    "pd.crosstab(train [\"Gender\"], train [\"Loan_Status\"], margins=True).apply(percentageConvert, axis=1)\n",
    "```"
   ]
  },
  {
   "cell_type": "code",
   "execution_count": 412,
   "metadata": {},
   "outputs": [
    {
     "name": "stdout",
     "output_type": "stream",
     "text": [
      "Y    422\n",
      "N    192\n",
      "Name: Loan_Status, dtype: int64\n",
      "count     614\n",
      "unique      2\n",
      "top         Y\n",
      "freq      422\n",
      "Name: Loan_Status, dtype: object\n",
      "1.0    475\n",
      "0.0     89\n",
      "Name: Credit_History, dtype: int64\n",
      "count    564.000000\n",
      "mean       0.842199\n",
      "std        0.364878\n",
      "min        0.000000\n",
      "25%        1.000000\n",
      "50%        1.000000\n",
      "75%        1.000000\n",
      "max        1.000000\n",
      "Name: Credit_History, dtype: float64\n",
      "Loan_Status       N    Y  All\n",
      "Credit_History               \n",
      "0.0              82    7   89\n",
      "1.0              97  378  475\n",
      "All             179  385  564\n"
     ]
    }
   ],
   "source": [
    "# Training and Testing dataset are loaded in train and test dataframe respectively\n",
    "\n",
    "# Approved Loan in absolute numbers\n",
    "loan_approval = train['Loan_Status'].value_counts()['Y']\n",
    "print(train['Loan_Status'].value_counts())\n",
    "print(train['Loan_Status'].describe())\n",
    "\n",
    "print(train['Credit_History'].value_counts())\n",
    "print(train['Credit_History'].describe())\n",
    "\n",
    "# Two-way comparison: Credit History and Loan Status\n",
    "twowaytable = pd.crosstab(train [\"Credit_History\"], train [\"Loan_Status\"], margins=True)\n",
    "print(twowaytable)"
   ]
  },
  {
   "cell_type": "markdown",
   "metadata": {},
   "source": [
    "## Pandas Crosstab\n",
    "\n",
    "This function is used to get an initial “feel” (view) of the data. Here, we can validate some basic hypothesis. For instance, in this case, “Credit_History” is expected to affect the loan status significantly. This can be tested using cross-tabulation as shown below:\n",
    "\n",
    "```\n",
    "pd.crosstab(data[\"Credit_History\"],data[\"Loan_Status\"],margins=True)\n",
    "```\n",
    "These are absolute numbers. But, percentages can be more intuitive in making some quick insights. We can do this using the Pandas apply function:\n",
    "```\n",
    "def percConvert(ser):\n",
    "  return ser/float(ser[-1])\n",
    "  pd.crosstab(data[\"Credit_History\"],data[\"Loan_Status\"],margins=True).apply(percConvert, axis=1)\n",
    "```"
   ]
  },
  {
   "cell_type": "code",
   "execution_count": 413,
   "metadata": {},
   "outputs": [
    {
     "data": {
      "text/html": [
       "<div>\n",
       "<style scoped>\n",
       "    .dataframe tbody tr th:only-of-type {\n",
       "        vertical-align: middle;\n",
       "    }\n",
       "\n",
       "    .dataframe tbody tr th {\n",
       "        vertical-align: top;\n",
       "    }\n",
       "\n",
       "    .dataframe thead th {\n",
       "        text-align: right;\n",
       "    }\n",
       "</style>\n",
       "<table border=\"1\" class=\"dataframe\">\n",
       "  <thead>\n",
       "    <tr style=\"text-align: right;\">\n",
       "      <th>Loan_Status</th>\n",
       "      <th>N</th>\n",
       "      <th>Y</th>\n",
       "      <th>All</th>\n",
       "    </tr>\n",
       "    <tr>\n",
       "      <th>Credit_History</th>\n",
       "      <th></th>\n",
       "      <th></th>\n",
       "      <th></th>\n",
       "    </tr>\n",
       "  </thead>\n",
       "  <tbody>\n",
       "    <tr>\n",
       "      <th>0.0</th>\n",
       "      <td>82</td>\n",
       "      <td>7</td>\n",
       "      <td>89</td>\n",
       "    </tr>\n",
       "    <tr>\n",
       "      <th>1.0</th>\n",
       "      <td>97</td>\n",
       "      <td>378</td>\n",
       "      <td>475</td>\n",
       "    </tr>\n",
       "    <tr>\n",
       "      <th>All</th>\n",
       "      <td>179</td>\n",
       "      <td>385</td>\n",
       "      <td>564</td>\n",
       "    </tr>\n",
       "  </tbody>\n",
       "</table>\n",
       "</div>"
      ],
      "text/plain": [
       "Loan_Status       N    Y  All\n",
       "Credit_History               \n",
       "0.0              82    7   89\n",
       "1.0              97  378  475\n",
       "All             179  385  564"
      ]
     },
     "execution_count": 413,
     "metadata": {},
     "output_type": "execute_result"
    }
   ],
   "source": [
    "pd.crosstab(train[\"Credit_History\"],train[\"Loan_Status\"],margins=True)"
   ]
  },
  {
   "cell_type": "code",
   "execution_count": 414,
   "metadata": {},
   "outputs": [
    {
     "data": {
      "text/html": [
       "<div>\n",
       "<style scoped>\n",
       "    .dataframe tbody tr th:only-of-type {\n",
       "        vertical-align: middle;\n",
       "    }\n",
       "\n",
       "    .dataframe tbody tr th {\n",
       "        vertical-align: top;\n",
       "    }\n",
       "\n",
       "    .dataframe thead th {\n",
       "        text-align: right;\n",
       "    }\n",
       "</style>\n",
       "<table border=\"1\" class=\"dataframe\">\n",
       "  <thead>\n",
       "    <tr style=\"text-align: right;\">\n",
       "      <th>Loan_Status</th>\n",
       "      <th>N</th>\n",
       "      <th>Y</th>\n",
       "      <th>All</th>\n",
       "    </tr>\n",
       "    <tr>\n",
       "      <th>Credit_History</th>\n",
       "      <th></th>\n",
       "      <th></th>\n",
       "      <th></th>\n",
       "    </tr>\n",
       "  </thead>\n",
       "  <tbody>\n",
       "    <tr>\n",
       "      <th>0.0</th>\n",
       "      <td>0.921348</td>\n",
       "      <td>0.078652</td>\n",
       "      <td>1.0</td>\n",
       "    </tr>\n",
       "    <tr>\n",
       "      <th>1.0</th>\n",
       "      <td>0.204211</td>\n",
       "      <td>0.795789</td>\n",
       "      <td>1.0</td>\n",
       "    </tr>\n",
       "    <tr>\n",
       "      <th>All</th>\n",
       "      <td>0.317376</td>\n",
       "      <td>0.682624</td>\n",
       "      <td>1.0</td>\n",
       "    </tr>\n",
       "  </tbody>\n",
       "</table>\n",
       "</div>"
      ],
      "text/plain": [
       "Loan_Status            N         Y  All\n",
       "Credit_History                         \n",
       "0.0             0.921348  0.078652  1.0\n",
       "1.0             0.204211  0.795789  1.0\n",
       "All             0.317376  0.682624  1.0"
      ]
     },
     "execution_count": 414,
     "metadata": {},
     "output_type": "execute_result"
    }
   ],
   "source": [
    "def percConvert(ser):\n",
    "  return ser/float(ser[-1])\n",
    "\n",
    "pd.crosstab(train[\"Credit_History\"],train[\"Loan_Status\"],margins=True).apply(percConvert, axis=1)"
   ]
  },
  {
   "cell_type": "markdown",
   "metadata": {},
   "source": [
    "# Chapter 4 - Data Munging in Python using Pandas"
   ]
  },
  {
   "cell_type": "markdown",
   "metadata": {},
   "source": [
    "## The curious case of missing values\n",
    "\n",
    "Rarely is the data captured perfectly in real world. People might not disclose few details or those details might not be available in the first place. This data set is no different. There are missing values in variables.\n",
    "\n",
    "We need to first find out which variables have missing values, and then see what is the best way to handle these missing values. The way to handle a missing value can depend on the number of missing values, the type of variable and the expected importance of those variables.\n",
    "\n",
    "So, let's start by finding out whether variable \"Credit_history\" has missing values or not and if so, how many observations are missing.\n",
    "```\n",
    "train['Credit_History'].isnull().sum()\n",
    "```\n",
    "isnull() helps to check the observation has missing value or not (It returns a boolean value TRUE or FALSE)\n",
    "sum() used to return the number of records have missing values"
   ]
  },
  {
   "cell_type": "code",
   "execution_count": 415,
   "metadata": {},
   "outputs": [
    {
     "name": "stdout",
     "output_type": "stream",
     "text": [
      "32\n",
      "50\n"
     ]
    },
    {
     "data": {
      "text/plain": [
       "True"
      ]
     },
     "execution_count": 415,
     "metadata": {},
     "output_type": "execute_result"
    }
   ],
   "source": [
    "# How many missing values in variable \"Self_Employed\" ?\n",
    "n_missing_value_Self_Employed = train['Self_Employed'].isnull().sum()\n",
    "print(n_missing_value_Self_Employed)\n",
    "print(train['Credit_History'].isnull().sum())\n",
    "\n",
    "# Variable Loan amount has missing values or not?\n",
    "train['LoanAmount'].isnull().sum() > 0"
   ]
  },
  {
   "cell_type": "markdown",
   "metadata": {},
   "source": [
    "## How many variables have missing values?\n",
    "\n",
    "Till now, we have checked the variable has missing value or not? Next action is to check how many variables have missing values. One way of doing this check would be to evaluate each individual variable. This would not be easy if we have hundred of columns. This action can be performed simply by using isnull() on dataframe object.\n",
    "```\n",
    "train.isnull().sum()\n",
    "```\n",
    "This statement will return the column names with the number of observation that have missing (null) values."
   ]
  },
  {
   "cell_type": "code",
   "execution_count": 416,
   "metadata": {},
   "outputs": [
    {
     "name": "stdout",
     "output_type": "stream",
     "text": [
      "Loan_ID               0\n",
      "Gender               11\n",
      "Married               0\n",
      "Dependents           10\n",
      "Education             0\n",
      "Self_Employed        23\n",
      "ApplicantIncome       0\n",
      "CoapplicantIncome     0\n",
      "LoanAmount            5\n",
      "Loan_Amount_Term      6\n",
      "Credit_History       29\n",
      "Property_Area         0\n",
      "dtype: int64\n"
     ]
    },
    {
     "data": {
      "text/plain": [
       "Loan_ID               0\n",
       "Gender               13\n",
       "Married               3\n",
       "Dependents           15\n",
       "Education             0\n",
       "Self_Employed        32\n",
       "ApplicantIncome       0\n",
       "CoapplicantIncome     0\n",
       "LoanAmount           22\n",
       "Loan_Amount_Term     14\n",
       "Credit_History       50\n",
       "Property_Area         0\n",
       "Loan_Status           0\n",
       "dtype: int64"
      ]
     },
     "execution_count": 416,
     "metadata": {},
     "output_type": "execute_result"
    }
   ],
   "source": [
    "# Check variables have missing values in test data set\n",
    "print(test.isnull().sum())\n",
    "train.isnull().sum()"
   ]
  },
  {
   "cell_type": "markdown",
   "metadata": {},
   "source": [
    "## Imputing missing values of LoanAmount\n",
    "\n",
    "There are multiple ways to fill the missing values of continuous variables. You can replace them with mean, median or estimate values based on other features of the data set.\n",
    "\n",
    "For the sake of simplicity, we would impute the missing values of LoanAmount by mean value (Mean of available values of LoanAmount).\n",
    "```\n",
    "train['LoanAmount'].fillna(train['LoanAmount'].mean(), inplace=True)\n",
    "```"
   ]
  },
  {
   "cell_type": "code",
   "execution_count": 417,
   "metadata": {},
   "outputs": [],
   "source": [
    "# Impute missing value of LoanAmount with 168 for test data set\n",
    "test['LoanAmount'].fillna(168, inplace=True)"
   ]
  },
  {
   "cell_type": "markdown",
   "metadata": {},
   "source": [
    "## Impute missing values of SelfEmployed\n",
    "\n",
    "Similarly, to impute missing values of Categorical variables, we look at the frequency table. The simplest way is to impute with value which has highest frequency because there is a higher probability of success.\n",
    "\n",
    "For example, if you look at the distribution of SelfEmployed 500 out of 582 which is ~86% of total values falls under the category \"No\". Here we will replace missing values of SelfEmployed with \"No\".\n",
    "```\n",
    "train['Self_Employed'].fillna('No',inplace=True)\n",
    "```"
   ]
  },
  {
   "cell_type": "code",
   "execution_count": 418,
   "metadata": {},
   "outputs": [
    {
     "name": "stdout",
     "output_type": "stream",
     "text": [
      "Male      489\n",
      "Female    112\n",
      "Name: Gender, dtype: int64\n",
      "1.0    475\n",
      "0.0     89\n",
      "Name: Credit_History, dtype: int64\n"
     ]
    }
   ],
   "source": [
    "# Impute missing value of Gender (Male is more frequent category)\n",
    "print(train['Gender'].value_counts())\n",
    "train['Gender'].fillna(\"Male\",inplace=True)\n",
    "\n",
    "\n",
    "# Impute missing value of Credit_History ( 1 is more frequent category)\n",
    "print(train['Credit_History'].value_counts())\n",
    "train['Credit_History'].fillna(1.0,inplace=True)\n",
    "\n",
    "train['LoanAmount'].fillna(train['LoanAmount'].mean(),inplace=True)"
   ]
  },
  {
   "cell_type": "markdown",
   "metadata": {},
   "source": [
    "## Treat / Tranform extreme values of LoanAmount and ApplicantIncome\n",
    "\n",
    "Let’s analyze LoanAmount first. Since the extreme values are practically possible, i.e. some people might apply for high-value loans due to specific needs.\n",
    "```\n",
    "train ['LoanAmount'].hist(bins=20)\n",
    "```\n",
    "So instead of treating them as outliers, let’s try a log transformation to nullify their effect:\n",
    "```\n",
    "import numpy as np\n",
    "train ['LoanAmount_log'] = np.log(train['LoanAmount'])\n",
    "train ['LoanAmount_log'].hist(bins=20)\n",
    "```\n",
    "Now the distribution looks much closer to normal and effect of extreme values has been significantly subsided."
   ]
  },
  {
   "cell_type": "code",
   "execution_count": 419,
   "metadata": {},
   "outputs": [
    {
     "data": {
      "text/plain": [
       "<AxesSubplot:>"
      ]
     },
     "execution_count": 419,
     "metadata": {},
     "output_type": "execute_result"
    },
    {
     "data": {
      "image/png": "[encoded data removed]",
      "text/plain": [
       "<Figure size 432x288 with 1 Axes>"
      ]
     },
     "metadata": {
      "needs_background": "light"
     },
     "output_type": "display_data"
    }
   ],
   "source": [
    "train ['LoanAmount'].hist(bins=20)"
   ]
  },
  {
   "cell_type": "code",
   "execution_count": 420,
   "metadata": {},
   "outputs": [
    {
     "data": {
      "text/html": [
       "<div>\n",
       "<style scoped>\n",
       "    .dataframe tbody tr th:only-of-type {\n",
       "        vertical-align: middle;\n",
       "    }\n",
       "\n",
       "    .dataframe tbody tr th {\n",
       "        vertical-align: top;\n",
       "    }\n",
       "\n",
       "    .dataframe thead th {\n",
       "        text-align: right;\n",
       "    }\n",
       "</style>\n",
       "<table border=\"1\" class=\"dataframe\">\n",
       "  <thead>\n",
       "    <tr style=\"text-align: right;\">\n",
       "      <th></th>\n",
       "      <th>ApplicantIncome</th>\n",
       "      <th>CoapplicantIncome</th>\n",
       "      <th>LoanAmount</th>\n",
       "      <th>Loan_Amount_Term</th>\n",
       "      <th>Credit_History</th>\n",
       "    </tr>\n",
       "  </thead>\n",
       "  <tbody>\n",
       "    <tr>\n",
       "      <th>count</th>\n",
       "      <td>614.000000</td>\n",
       "      <td>614.000000</td>\n",
       "      <td>614.000000</td>\n",
       "      <td>600.00000</td>\n",
       "      <td>614.000000</td>\n",
       "    </tr>\n",
       "    <tr>\n",
       "      <th>mean</th>\n",
       "      <td>5403.459283</td>\n",
       "      <td>1621.245798</td>\n",
       "      <td>146.412162</td>\n",
       "      <td>342.00000</td>\n",
       "      <td>0.855049</td>\n",
       "    </tr>\n",
       "    <tr>\n",
       "      <th>std</th>\n",
       "      <td>6109.041673</td>\n",
       "      <td>2926.248369</td>\n",
       "      <td>84.037468</td>\n",
       "      <td>65.12041</td>\n",
       "      <td>0.352339</td>\n",
       "    </tr>\n",
       "    <tr>\n",
       "      <th>min</th>\n",
       "      <td>150.000000</td>\n",
       "      <td>0.000000</td>\n",
       "      <td>9.000000</td>\n",
       "      <td>12.00000</td>\n",
       "      <td>0.000000</td>\n",
       "    </tr>\n",
       "    <tr>\n",
       "      <th>25%</th>\n",
       "      <td>2877.500000</td>\n",
       "      <td>0.000000</td>\n",
       "      <td>100.250000</td>\n",
       "      <td>360.00000</td>\n",
       "      <td>1.000000</td>\n",
       "    </tr>\n",
       "    <tr>\n",
       "      <th>50%</th>\n",
       "      <td>3812.500000</td>\n",
       "      <td>1188.500000</td>\n",
       "      <td>129.000000</td>\n",
       "      <td>360.00000</td>\n",
       "      <td>1.000000</td>\n",
       "    </tr>\n",
       "    <tr>\n",
       "      <th>75%</th>\n",
       "      <td>5795.000000</td>\n",
       "      <td>2297.250000</td>\n",
       "      <td>164.750000</td>\n",
       "      <td>360.00000</td>\n",
       "      <td>1.000000</td>\n",
       "    </tr>\n",
       "    <tr>\n",
       "      <th>max</th>\n",
       "      <td>81000.000000</td>\n",
       "      <td>41667.000000</td>\n",
       "      <td>700.000000</td>\n",
       "      <td>480.00000</td>\n",
       "      <td>1.000000</td>\n",
       "    </tr>\n",
       "  </tbody>\n",
       "</table>\n",
       "</div>"
      ],
      "text/plain": [
       "       ApplicantIncome  CoapplicantIncome  LoanAmount  Loan_Amount_Term  \\\n",
       "count       614.000000         614.000000  614.000000         600.00000   \n",
       "mean       5403.459283        1621.245798  146.412162         342.00000   \n",
       "std        6109.041673        2926.248369   84.037468          65.12041   \n",
       "min         150.000000           0.000000    9.000000          12.00000   \n",
       "25%        2877.500000           0.000000  100.250000         360.00000   \n",
       "50%        3812.500000        1188.500000  129.000000         360.00000   \n",
       "75%        5795.000000        2297.250000  164.750000         360.00000   \n",
       "max       81000.000000       41667.000000  700.000000         480.00000   \n",
       "\n",
       "       Credit_History  \n",
       "count      614.000000  \n",
       "mean         0.855049  \n",
       "std          0.352339  \n",
       "min          0.000000  \n",
       "25%          1.000000  \n",
       "50%          1.000000  \n",
       "75%          1.000000  \n",
       "max          1.000000  "
      ]
     },
     "execution_count": 420,
     "metadata": {},
     "output_type": "execute_result"
    }
   ],
   "source": [
    "train.describe()"
   ]
  },
  {
   "cell_type": "code",
   "execution_count": 421,
   "metadata": {},
   "outputs": [
    {
     "data": {
      "text/plain": [
       "<AxesSubplot:>"
      ]
     },
     "execution_count": 421,
     "metadata": {},
     "output_type": "execute_result"
    },
    {
     "data": {
      "image/png": "[encoded data removed]",
      "text/plain": [
       "<Figure size 432x288 with 1 Axes>"
      ]
     },
     "metadata": {
      "needs_background": "light"
     },
     "output_type": "display_data"
    }
   ],
   "source": [
    "import numpy as np\n",
    "train ['LoanAmount_log'] = np.log(train['LoanAmount'])\n",
    "train ['LoanAmount_log'].hist(bins=20)"
   ]
  },
  {
   "cell_type": "code",
   "execution_count": 422,
   "metadata": {},
   "outputs": [
    {
     "data": {
      "text/html": [
       "<div>\n",
       "<style scoped>\n",
       "    .dataframe tbody tr th:only-of-type {\n",
       "        vertical-align: middle;\n",
       "    }\n",
       "\n",
       "    .dataframe tbody tr th {\n",
       "        vertical-align: top;\n",
       "    }\n",
       "\n",
       "    .dataframe thead th {\n",
       "        text-align: right;\n",
       "    }\n",
       "</style>\n",
       "<table border=\"1\" class=\"dataframe\">\n",
       "  <thead>\n",
       "    <tr style=\"text-align: right;\">\n",
       "      <th></th>\n",
       "      <th>ApplicantIncome</th>\n",
       "      <th>CoapplicantIncome</th>\n",
       "      <th>LoanAmount</th>\n",
       "      <th>Loan_Amount_Term</th>\n",
       "      <th>Credit_History</th>\n",
       "      <th>LoanAmount_log</th>\n",
       "    </tr>\n",
       "  </thead>\n",
       "  <tbody>\n",
       "    <tr>\n",
       "      <th>count</th>\n",
       "      <td>614.000000</td>\n",
       "      <td>614.000000</td>\n",
       "      <td>614.000000</td>\n",
       "      <td>600.00000</td>\n",
       "      <td>614.000000</td>\n",
       "      <td>614.000000</td>\n",
       "    </tr>\n",
       "    <tr>\n",
       "      <th>mean</th>\n",
       "      <td>5403.459283</td>\n",
       "      <td>1621.245798</td>\n",
       "      <td>146.412162</td>\n",
       "      <td>342.00000</td>\n",
       "      <td>0.855049</td>\n",
       "      <td>4.862066</td>\n",
       "    </tr>\n",
       "    <tr>\n",
       "      <th>std</th>\n",
       "      <td>6109.041673</td>\n",
       "      <td>2926.248369</td>\n",
       "      <td>84.037468</td>\n",
       "      <td>65.12041</td>\n",
       "      <td>0.352339</td>\n",
       "      <td>0.496575</td>\n",
       "    </tr>\n",
       "    <tr>\n",
       "      <th>min</th>\n",
       "      <td>150.000000</td>\n",
       "      <td>0.000000</td>\n",
       "      <td>9.000000</td>\n",
       "      <td>12.00000</td>\n",
       "      <td>0.000000</td>\n",
       "      <td>2.197225</td>\n",
       "    </tr>\n",
       "    <tr>\n",
       "      <th>25%</th>\n",
       "      <td>2877.500000</td>\n",
       "      <td>0.000000</td>\n",
       "      <td>100.250000</td>\n",
       "      <td>360.00000</td>\n",
       "      <td>1.000000</td>\n",
       "      <td>4.607658</td>\n",
       "    </tr>\n",
       "    <tr>\n",
       "      <th>50%</th>\n",
       "      <td>3812.500000</td>\n",
       "      <td>1188.500000</td>\n",
       "      <td>129.000000</td>\n",
       "      <td>360.00000</td>\n",
       "      <td>1.000000</td>\n",
       "      <td>4.859812</td>\n",
       "    </tr>\n",
       "    <tr>\n",
       "      <th>75%</th>\n",
       "      <td>5795.000000</td>\n",
       "      <td>2297.250000</td>\n",
       "      <td>164.750000</td>\n",
       "      <td>360.00000</td>\n",
       "      <td>1.000000</td>\n",
       "      <td>5.104426</td>\n",
       "    </tr>\n",
       "    <tr>\n",
       "      <th>max</th>\n",
       "      <td>81000.000000</td>\n",
       "      <td>41667.000000</td>\n",
       "      <td>700.000000</td>\n",
       "      <td>480.00000</td>\n",
       "      <td>1.000000</td>\n",
       "      <td>6.551080</td>\n",
       "    </tr>\n",
       "  </tbody>\n",
       "</table>\n",
       "</div>"
      ],
      "text/plain": [
       "       ApplicantIncome  CoapplicantIncome  LoanAmount  Loan_Amount_Term  \\\n",
       "count       614.000000         614.000000  614.000000         600.00000   \n",
       "mean       5403.459283        1621.245798  146.412162         342.00000   \n",
       "std        6109.041673        2926.248369   84.037468          65.12041   \n",
       "min         150.000000           0.000000    9.000000          12.00000   \n",
       "25%        2877.500000           0.000000  100.250000         360.00000   \n",
       "50%        3812.500000        1188.500000  129.000000         360.00000   \n",
       "75%        5795.000000        2297.250000  164.750000         360.00000   \n",
       "max       81000.000000       41667.000000  700.000000         480.00000   \n",
       "\n",
       "       Credit_History  LoanAmount_log  \n",
       "count      614.000000      614.000000  \n",
       "mean         0.855049        4.862066  \n",
       "std          0.352339        0.496575  \n",
       "min          0.000000        2.197225  \n",
       "25%          1.000000        4.607658  \n",
       "50%          1.000000        4.859812  \n",
       "75%          1.000000        5.104426  \n",
       "max          1.000000        6.551080  "
      ]
     },
     "execution_count": 422,
     "metadata": {},
     "output_type": "execute_result"
    }
   ],
   "source": [
    "train.describe()"
   ]
  },
  {
   "cell_type": "code",
   "execution_count": 423,
   "metadata": {},
   "outputs": [
    {
     "data": {
      "text/plain": [
       "<AxesSubplot:>"
      ]
     },
     "execution_count": 423,
     "metadata": {},
     "output_type": "execute_result"
    },
    {
     "data": {
      "image/png": "[encoded data removed]",
      "text/plain": [
       "<Figure size 432x288 with 1 Axes>"
      ]
     },
     "metadata": {
      "needs_background": "light"
     },
     "output_type": "display_data"
    }
   ],
   "source": [
    "# Training and Testing datasets are loaded in variable train and test dataframe respectively\n",
    "\n",
    "# Add both ApplicantIncome and CoapplicantIncome to TotalIncome\n",
    "train['TotalIncome'] = train['ApplicantIncome'] + train['CoapplicantIncome']\n",
    "\n",
    "# Perform log transformation of TotalIncome to make it closer to normal\n",
    "train['TotalIncome_log']= np.log(train['TotalIncome'])\n",
    "train['TotalIncome_log'].hist(bins=20)"
   ]
  },
  {
   "cell_type": "markdown",
   "metadata": {},
   "source": [
    "# Chapter 5 - Building a Predictive model in Python"
   ]
  },
  {
   "cell_type": "markdown",
   "metadata": {},
   "source": [
    "## First Step of Model Building\n",
    "\n",
    "In Python, Scikit-Learn (sklearn) is the most commonly used library for building predictive / machine learning models. [This article provides a good overview of scikit-learn](http://www.analyticsvidhya.com/blog/2015/01/scikit-learn-python-machine-learning-tool/). It has gathered a lot of interest recently for model building. There are few pre-requisite before jumping into a model building exercise:\n",
    "\n",
    "Treat missing values\n",
    "Treat outlier/ exponential observation\n",
    "All inputs must be numeric array ( Requirement of scikit learn library)\n",
    "Can we build a model without treating missing values of a data set?"
   ]
  },
  {
   "cell_type": "markdown",
   "metadata": {},
   "source": [
    "## Label categories of Gender to number\n",
    "\n",
    "Library \"Scikit Learn\" only works with numeric array. Hence, we need to label all the character variables into a numeric array. For example Variable \"Gender\" has two labels \"Male\" and \"Female\". Hence, we will transform the labels to number as 1 for \"Male\" and 0 for \"Female\".\n",
    "\n",
    "\"Scikit Learn\" library has a module called \"LabelEncoder\" which helps to label character labels into numbers so first import module \"LabelEncoder\".\n",
    "\n",
    "```\n",
    "from sklearn.preprocessing import LabelEncoder\n",
    "\n",
    "number = LabelEncoder()\n",
    "\n",
    "train['Gender'] = number.fit_transform(train['Gender'].astype(str))\n",
    "```"
   ]
  },
  {
   "cell_type": "code",
   "execution_count": 424,
   "metadata": {},
   "outputs": [],
   "source": [
    "#import module for label encoding\n",
    "from sklearn.preprocessing import LabelEncoder\n",
    "\n",
    "#train and test dataset is already loaded in the enviornment\n",
    "# Perform label encoding for variable 'Married'\n",
    "number = LabelEncoder()\n",
    "train['Married_new'] = number.fit_transform(train['Married'].astype(str))\n",
    "train['Education_new'] = number.fit_transform(train['Education'].astype(str))\n",
    "train['Property_Area_new'] = number.fit_transform(train['Property_Area'].astype(str))\n",
    "train['Gender_new'] = number.fit_transform(train['Gender'].astype(str))\n",
    "train['Loan_Status_new'] = number.fit_transform(train['Loan_Status'].astype(str))\n",
    "train['Loan_Status_new_tree'] = number.fit_transform(train['Loan_Status'].astype(str))\n",
    "train['Loan_Status_new_forest'] = number.fit_transform(train['Loan_Status'].astype(str))"
   ]
  },
  {
   "cell_type": "markdown",
   "metadata": {},
   "source": [
    "## Selecting the right algorithm\n",
    "\n",
    "The basic principle behind selecting the right algorithm is to look at the dependent variable (or target variable). In this challenge \"Loan Prediction\", we need to classify a customer's eligibility for Loan as \"Y\" or \"N\" based on the available information about the customer. Here the dependent variable is categorical and our task is to classify the customer in two groups; eligible for the loan amount and not eligible for the loan amount.\n",
    "\n",
    "This is a classification challenge so we will import module of classification algorithms of sklearn library. Below are some commonly used classification algorithms: \n",
    "* Logistic Regression \n",
    "* Decision Tree \n",
    "* Random Forest"
   ]
  },
  {
   "cell_type": "markdown",
   "metadata": {},
   "source": [
    "## Have you performed data preprocessing step?\n",
    "\n",
    "As discussed before, you should perform some data pre processing steps for both train and test dataset before jumping into model building exercise. Here are a few things you need to perform at the minimum: \n",
    "* Missing value imputation \n",
    "* Outlier treatment \n",
    "* Label encoding for character variables \n",
    "* Algorithm selection"
   ]
  },
  {
   "cell_type": "markdown",
   "metadata": {},
   "source": [
    "## Logistic Regression Introduction\n",
    "\n",
    "Logistic Regression is a classification algorithm. It is used to predict a binary outcome (1 / 0, Yes / No, True / False) given a set of independent variables. To represent binary / categorical outcome, we use dummy variables. You can also think of logistic regression as a special case of linear regression when the outcome variable is categorical, where we are using log of odds as the dependent variable.\n",
    "\n",
    "In simple words, it predicts the probability of occurrence of an event by fitting data to a logit function, read more about [Logistic Regression](http://www.analyticsvidhya.com/blog/2015/11/beginners-guide-on-logistic-regression-in-r/).\n",
    "\n",
    "LogisticRegression() function is part of linear_model module of sklearn and is used to create logistic regression\n",
    "\n",
    "Reference: [Mathematical working and implementation from scratch for Logistic regression](http://www.analyticsvidhya.com/blog/2015/10/basics-logistic-regression/)."
   ]
  },
  {
   "cell_type": "code",
   "execution_count": 425,
   "metadata": {},
   "outputs": [],
   "source": [
    "# Import linear model of sklearn\n",
    "import sklearn.linear_model\n",
    "\n",
    "# Create object of Logistic Regression\n",
    "model=sklearn.linear_model.LogisticRegression()"
   ]
  },
  {
   "cell_type": "markdown",
   "metadata": {},
   "source": [
    "## Build your first logistic regression model\n",
    "\n",
    "Let’s build our first Logistic Regression model. One way would be to take all the variables into the model, but this might result in overfitting (don’t worry if you’re unaware of this terminology yet). In simple words, taking all variables might result in the model understanding complex relations specific to the data and will not generalize well.\n",
    "\n",
    "We can easily make some intuitive hypothesis to set the ball rolling. The chances of getting a loan will be higher for:\n",
    "\n",
    "Applicants having a credit history\n",
    "Applicants with higher applicant and co-applicant income\n",
    "Applicants with higher education level\n",
    "Properties in urban areas with high growth perspectives\n",
    "Ok, time for you to build your first logistics regression model! The pre processed trainmodified and testmodifed data are available in your workspace."
   ]
  },
  {
   "cell_type": "code",
   "execution_count": 426,
   "metadata": {
    "scrolled": false
   },
   "outputs": [
    {
     "data": {
      "text/html": [
       "<div>\n",
       "<style scoped>\n",
       "    .dataframe tbody tr th:only-of-type {\n",
       "        vertical-align: middle;\n",
       "    }\n",
       "\n",
       "    .dataframe tbody tr th {\n",
       "        vertical-align: top;\n",
       "    }\n",
       "\n",
       "    .dataframe thead th {\n",
       "        text-align: right;\n",
       "    }\n",
       "</style>\n",
       "<table border=\"1\" class=\"dataframe\">\n",
       "  <thead>\n",
       "    <tr style=\"text-align: right;\">\n",
       "      <th></th>\n",
       "      <th>Loan_ID</th>\n",
       "      <th>Gender</th>\n",
       "      <th>Married</th>\n",
       "      <th>Dependents</th>\n",
       "      <th>Education</th>\n",
       "      <th>Self_Employed</th>\n",
       "      <th>ApplicantIncome</th>\n",
       "      <th>CoapplicantIncome</th>\n",
       "      <th>LoanAmount</th>\n",
       "      <th>Loan_Amount_Term</th>\n",
       "      <th>...</th>\n",
       "      <th>LoanAmount_log</th>\n",
       "      <th>TotalIncome</th>\n",
       "      <th>TotalIncome_log</th>\n",
       "      <th>Married_new</th>\n",
       "      <th>Education_new</th>\n",
       "      <th>Property_Area_new</th>\n",
       "      <th>Gender_new</th>\n",
       "      <th>Loan_Status_new</th>\n",
       "      <th>Loan_Status_new_tree</th>\n",
       "      <th>Loan_Status_new_forest</th>\n",
       "    </tr>\n",
       "  </thead>\n",
       "  <tbody>\n",
       "    <tr>\n",
       "      <th>0</th>\n",
       "      <td>LP001002</td>\n",
       "      <td>Male</td>\n",
       "      <td>No</td>\n",
       "      <td>0</td>\n",
       "      <td>Graduate</td>\n",
       "      <td>No</td>\n",
       "      <td>5849</td>\n",
       "      <td>0.0</td>\n",
       "      <td>146.412162</td>\n",
       "      <td>360.0</td>\n",
       "      <td>...</td>\n",
       "      <td>4.986426</td>\n",
       "      <td>5849.0</td>\n",
       "      <td>8.674026</td>\n",
       "      <td>0</td>\n",
       "      <td>0</td>\n",
       "      <td>2</td>\n",
       "      <td>1</td>\n",
       "      <td>1</td>\n",
       "      <td>1</td>\n",
       "      <td>1</td>\n",
       "    </tr>\n",
       "    <tr>\n",
       "      <th>1</th>\n",
       "      <td>LP001003</td>\n",
       "      <td>Male</td>\n",
       "      <td>Yes</td>\n",
       "      <td>1</td>\n",
       "      <td>Graduate</td>\n",
       "      <td>No</td>\n",
       "      <td>4583</td>\n",
       "      <td>1508.0</td>\n",
       "      <td>128.000000</td>\n",
       "      <td>360.0</td>\n",
       "      <td>...</td>\n",
       "      <td>4.852030</td>\n",
       "      <td>6091.0</td>\n",
       "      <td>8.714568</td>\n",
       "      <td>1</td>\n",
       "      <td>0</td>\n",
       "      <td>0</td>\n",
       "      <td>1</td>\n",
       "      <td>0</td>\n",
       "      <td>0</td>\n",
       "      <td>0</td>\n",
       "    </tr>\n",
       "    <tr>\n",
       "      <th>2</th>\n",
       "      <td>LP001005</td>\n",
       "      <td>Male</td>\n",
       "      <td>Yes</td>\n",
       "      <td>0</td>\n",
       "      <td>Graduate</td>\n",
       "      <td>Yes</td>\n",
       "      <td>3000</td>\n",
       "      <td>0.0</td>\n",
       "      <td>66.000000</td>\n",
       "      <td>360.0</td>\n",
       "      <td>...</td>\n",
       "      <td>4.189655</td>\n",
       "      <td>3000.0</td>\n",
       "      <td>8.006368</td>\n",
       "      <td>1</td>\n",
       "      <td>0</td>\n",
       "      <td>2</td>\n",
       "      <td>1</td>\n",
       "      <td>1</td>\n",
       "      <td>1</td>\n",
       "      <td>1</td>\n",
       "    </tr>\n",
       "    <tr>\n",
       "      <th>3</th>\n",
       "      <td>LP001006</td>\n",
       "      <td>Male</td>\n",
       "      <td>Yes</td>\n",
       "      <td>0</td>\n",
       "      <td>Not Graduate</td>\n",
       "      <td>No</td>\n",
       "      <td>2583</td>\n",
       "      <td>2358.0</td>\n",
       "      <td>120.000000</td>\n",
       "      <td>360.0</td>\n",
       "      <td>...</td>\n",
       "      <td>4.787492</td>\n",
       "      <td>4941.0</td>\n",
       "      <td>8.505323</td>\n",
       "      <td>1</td>\n",
       "      <td>1</td>\n",
       "      <td>2</td>\n",
       "      <td>1</td>\n",
       "      <td>1</td>\n",
       "      <td>1</td>\n",
       "      <td>1</td>\n",
       "    </tr>\n",
       "    <tr>\n",
       "      <th>4</th>\n",
       "      <td>LP001008</td>\n",
       "      <td>Male</td>\n",
       "      <td>No</td>\n",
       "      <td>0</td>\n",
       "      <td>Graduate</td>\n",
       "      <td>No</td>\n",
       "      <td>6000</td>\n",
       "      <td>0.0</td>\n",
       "      <td>141.000000</td>\n",
       "      <td>360.0</td>\n",
       "      <td>...</td>\n",
       "      <td>4.948760</td>\n",
       "      <td>6000.0</td>\n",
       "      <td>8.699515</td>\n",
       "      <td>0</td>\n",
       "      <td>0</td>\n",
       "      <td>2</td>\n",
       "      <td>1</td>\n",
       "      <td>1</td>\n",
       "      <td>1</td>\n",
       "      <td>1</td>\n",
       "    </tr>\n",
       "    <tr>\n",
       "      <th>5</th>\n",
       "      <td>LP001011</td>\n",
       "      <td>Male</td>\n",
       "      <td>Yes</td>\n",
       "      <td>2</td>\n",
       "      <td>Graduate</td>\n",
       "      <td>Yes</td>\n",
       "      <td>5417</td>\n",
       "      <td>4196.0</td>\n",
       "      <td>267.000000</td>\n",
       "      <td>360.0</td>\n",
       "      <td>...</td>\n",
       "      <td>5.587249</td>\n",
       "      <td>9613.0</td>\n",
       "      <td>9.170872</td>\n",
       "      <td>1</td>\n",
       "      <td>0</td>\n",
       "      <td>2</td>\n",
       "      <td>1</td>\n",
       "      <td>1</td>\n",
       "      <td>1</td>\n",
       "      <td>1</td>\n",
       "    </tr>\n",
       "    <tr>\n",
       "      <th>6</th>\n",
       "      <td>LP001013</td>\n",
       "      <td>Male</td>\n",
       "      <td>Yes</td>\n",
       "      <td>0</td>\n",
       "      <td>Not Graduate</td>\n",
       "      <td>No</td>\n",
       "      <td>2333</td>\n",
       "      <td>1516.0</td>\n",
       "      <td>95.000000</td>\n",
       "      <td>360.0</td>\n",
       "      <td>...</td>\n",
       "      <td>4.553877</td>\n",
       "      <td>3849.0</td>\n",
       "      <td>8.255569</td>\n",
       "      <td>1</td>\n",
       "      <td>1</td>\n",
       "      <td>2</td>\n",
       "      <td>1</td>\n",
       "      <td>1</td>\n",
       "      <td>1</td>\n",
       "      <td>1</td>\n",
       "    </tr>\n",
       "    <tr>\n",
       "      <th>7</th>\n",
       "      <td>LP001014</td>\n",
       "      <td>Male</td>\n",
       "      <td>Yes</td>\n",
       "      <td>3+</td>\n",
       "      <td>Graduate</td>\n",
       "      <td>No</td>\n",
       "      <td>3036</td>\n",
       "      <td>2504.0</td>\n",
       "      <td>158.000000</td>\n",
       "      <td>360.0</td>\n",
       "      <td>...</td>\n",
       "      <td>5.062595</td>\n",
       "      <td>5540.0</td>\n",
       "      <td>8.619750</td>\n",
       "      <td>1</td>\n",
       "      <td>0</td>\n",
       "      <td>1</td>\n",
       "      <td>1</td>\n",
       "      <td>0</td>\n",
       "      <td>0</td>\n",
       "      <td>0</td>\n",
       "    </tr>\n",
       "    <tr>\n",
       "      <th>8</th>\n",
       "      <td>LP001018</td>\n",
       "      <td>Male</td>\n",
       "      <td>Yes</td>\n",
       "      <td>2</td>\n",
       "      <td>Graduate</td>\n",
       "      <td>No</td>\n",
       "      <td>4006</td>\n",
       "      <td>1526.0</td>\n",
       "      <td>168.000000</td>\n",
       "      <td>360.0</td>\n",
       "      <td>...</td>\n",
       "      <td>5.123964</td>\n",
       "      <td>5532.0</td>\n",
       "      <td>8.618305</td>\n",
       "      <td>1</td>\n",
       "      <td>0</td>\n",
       "      <td>2</td>\n",
       "      <td>1</td>\n",
       "      <td>1</td>\n",
       "      <td>1</td>\n",
       "      <td>1</td>\n",
       "    </tr>\n",
       "    <tr>\n",
       "      <th>9</th>\n",
       "      <td>LP001020</td>\n",
       "      <td>Male</td>\n",
       "      <td>Yes</td>\n",
       "      <td>1</td>\n",
       "      <td>Graduate</td>\n",
       "      <td>No</td>\n",
       "      <td>12841</td>\n",
       "      <td>10968.0</td>\n",
       "      <td>349.000000</td>\n",
       "      <td>360.0</td>\n",
       "      <td>...</td>\n",
       "      <td>5.855072</td>\n",
       "      <td>23809.0</td>\n",
       "      <td>10.077819</td>\n",
       "      <td>1</td>\n",
       "      <td>0</td>\n",
       "      <td>1</td>\n",
       "      <td>1</td>\n",
       "      <td>0</td>\n",
       "      <td>0</td>\n",
       "      <td>0</td>\n",
       "    </tr>\n",
       "    <tr>\n",
       "      <th>10</th>\n",
       "      <td>LP001024</td>\n",
       "      <td>Male</td>\n",
       "      <td>Yes</td>\n",
       "      <td>2</td>\n",
       "      <td>Graduate</td>\n",
       "      <td>No</td>\n",
       "      <td>3200</td>\n",
       "      <td>700.0</td>\n",
       "      <td>70.000000</td>\n",
       "      <td>360.0</td>\n",
       "      <td>...</td>\n",
       "      <td>4.248495</td>\n",
       "      <td>3900.0</td>\n",
       "      <td>8.268732</td>\n",
       "      <td>1</td>\n",
       "      <td>0</td>\n",
       "      <td>2</td>\n",
       "      <td>1</td>\n",
       "      <td>1</td>\n",
       "      <td>1</td>\n",
       "      <td>1</td>\n",
       "    </tr>\n",
       "    <tr>\n",
       "      <th>11</th>\n",
       "      <td>LP001027</td>\n",
       "      <td>Male</td>\n",
       "      <td>Yes</td>\n",
       "      <td>2</td>\n",
       "      <td>Graduate</td>\n",
       "      <td>NaN</td>\n",
       "      <td>2500</td>\n",
       "      <td>1840.0</td>\n",
       "      <td>109.000000</td>\n",
       "      <td>360.0</td>\n",
       "      <td>...</td>\n",
       "      <td>4.691348</td>\n",
       "      <td>4340.0</td>\n",
       "      <td>8.375630</td>\n",
       "      <td>1</td>\n",
       "      <td>0</td>\n",
       "      <td>2</td>\n",
       "      <td>1</td>\n",
       "      <td>1</td>\n",
       "      <td>1</td>\n",
       "      <td>1</td>\n",
       "    </tr>\n",
       "    <tr>\n",
       "      <th>12</th>\n",
       "      <td>LP001028</td>\n",
       "      <td>Male</td>\n",
       "      <td>Yes</td>\n",
       "      <td>2</td>\n",
       "      <td>Graduate</td>\n",
       "      <td>No</td>\n",
       "      <td>3073</td>\n",
       "      <td>8106.0</td>\n",
       "      <td>200.000000</td>\n",
       "      <td>360.0</td>\n",
       "      <td>...</td>\n",
       "      <td>5.298317</td>\n",
       "      <td>11179.0</td>\n",
       "      <td>9.321792</td>\n",
       "      <td>1</td>\n",
       "      <td>0</td>\n",
       "      <td>2</td>\n",
       "      <td>1</td>\n",
       "      <td>1</td>\n",
       "      <td>1</td>\n",
       "      <td>1</td>\n",
       "    </tr>\n",
       "    <tr>\n",
       "      <th>13</th>\n",
       "      <td>LP001029</td>\n",
       "      <td>Male</td>\n",
       "      <td>No</td>\n",
       "      <td>0</td>\n",
       "      <td>Graduate</td>\n",
       "      <td>No</td>\n",
       "      <td>1853</td>\n",
       "      <td>2840.0</td>\n",
       "      <td>114.000000</td>\n",
       "      <td>360.0</td>\n",
       "      <td>...</td>\n",
       "      <td>4.736198</td>\n",
       "      <td>4693.0</td>\n",
       "      <td>8.453827</td>\n",
       "      <td>0</td>\n",
       "      <td>0</td>\n",
       "      <td>0</td>\n",
       "      <td>1</td>\n",
       "      <td>0</td>\n",
       "      <td>0</td>\n",
       "      <td>0</td>\n",
       "    </tr>\n",
       "    <tr>\n",
       "      <th>14</th>\n",
       "      <td>LP001030</td>\n",
       "      <td>Male</td>\n",
       "      <td>Yes</td>\n",
       "      <td>2</td>\n",
       "      <td>Graduate</td>\n",
       "      <td>No</td>\n",
       "      <td>1299</td>\n",
       "      <td>1086.0</td>\n",
       "      <td>17.000000</td>\n",
       "      <td>120.0</td>\n",
       "      <td>...</td>\n",
       "      <td>2.833213</td>\n",
       "      <td>2385.0</td>\n",
       "      <td>7.776954</td>\n",
       "      <td>1</td>\n",
       "      <td>0</td>\n",
       "      <td>2</td>\n",
       "      <td>1</td>\n",
       "      <td>1</td>\n",
       "      <td>1</td>\n",
       "      <td>1</td>\n",
       "    </tr>\n",
       "    <tr>\n",
       "      <th>15</th>\n",
       "      <td>LP001032</td>\n",
       "      <td>Male</td>\n",
       "      <td>No</td>\n",
       "      <td>0</td>\n",
       "      <td>Graduate</td>\n",
       "      <td>No</td>\n",
       "      <td>4950</td>\n",
       "      <td>0.0</td>\n",
       "      <td>125.000000</td>\n",
       "      <td>360.0</td>\n",
       "      <td>...</td>\n",
       "      <td>4.828314</td>\n",
       "      <td>4950.0</td>\n",
       "      <td>8.507143</td>\n",
       "      <td>0</td>\n",
       "      <td>0</td>\n",
       "      <td>2</td>\n",
       "      <td>1</td>\n",
       "      <td>1</td>\n",
       "      <td>1</td>\n",
       "      <td>1</td>\n",
       "    </tr>\n",
       "    <tr>\n",
       "      <th>16</th>\n",
       "      <td>LP001034</td>\n",
       "      <td>Male</td>\n",
       "      <td>No</td>\n",
       "      <td>1</td>\n",
       "      <td>Not Graduate</td>\n",
       "      <td>No</td>\n",
       "      <td>3596</td>\n",
       "      <td>0.0</td>\n",
       "      <td>100.000000</td>\n",
       "      <td>240.0</td>\n",
       "      <td>...</td>\n",
       "      <td>4.605170</td>\n",
       "      <td>3596.0</td>\n",
       "      <td>8.187577</td>\n",
       "      <td>0</td>\n",
       "      <td>1</td>\n",
       "      <td>2</td>\n",
       "      <td>1</td>\n",
       "      <td>1</td>\n",
       "      <td>1</td>\n",
       "      <td>1</td>\n",
       "    </tr>\n",
       "  </tbody>\n",
       "</table>\n",
       "<p>17 rows × 23 columns</p>\n",
       "</div>"
      ],
      "text/plain": [
       "     Loan_ID Gender Married Dependents     Education Self_Employed  \\\n",
       "0   LP001002   Male      No          0      Graduate            No   \n",
       "1   LP001003   Male     Yes          1      Graduate            No   \n",
       "2   LP001005   Male     Yes          0      Graduate           Yes   \n",
       "3   LP001006   Male     Yes          0  Not Graduate            No   \n",
       "4   LP001008   Male      No          0      Graduate            No   \n",
       "5   LP001011   Male     Yes          2      Graduate           Yes   \n",
       "6   LP001013   Male     Yes          0  Not Graduate            No   \n",
       "7   LP001014   Male     Yes         3+      Graduate            No   \n",
       "8   LP001018   Male     Yes          2      Graduate            No   \n",
       "9   LP001020   Male     Yes          1      Graduate            No   \n",
       "10  LP001024   Male     Yes          2      Graduate            No   \n",
       "11  LP001027   Male     Yes          2      Graduate           NaN   \n",
       "12  LP001028   Male     Yes          2      Graduate            No   \n",
       "13  LP001029   Male      No          0      Graduate            No   \n",
       "14  LP001030   Male     Yes          2      Graduate            No   \n",
       "15  LP001032   Male      No          0      Graduate            No   \n",
       "16  LP001034   Male      No          1  Not Graduate            No   \n",
       "\n",
       "    ApplicantIncome  CoapplicantIncome  LoanAmount  Loan_Amount_Term  ...  \\\n",
       "0              5849                0.0  146.412162             360.0  ...   \n",
       "1              4583             1508.0  128.000000             360.0  ...   \n",
       "2              3000                0.0   66.000000             360.0  ...   \n",
       "3              2583             2358.0  120.000000             360.0  ...   \n",
       "4              6000                0.0  141.000000             360.0  ...   \n",
       "5              5417             4196.0  267.000000             360.0  ...   \n",
       "6              2333             1516.0   95.000000             360.0  ...   \n",
       "7              3036             2504.0  158.000000             360.0  ...   \n",
       "8              4006             1526.0  168.000000             360.0  ...   \n",
       "9             12841            10968.0  349.000000             360.0  ...   \n",
       "10             3200              700.0   70.000000             360.0  ...   \n",
       "11             2500             1840.0  109.000000             360.0  ...   \n",
       "12             3073             8106.0  200.000000             360.0  ...   \n",
       "13             1853             2840.0  114.000000             360.0  ...   \n",
       "14             1299             1086.0   17.000000             120.0  ...   \n",
       "15             4950                0.0  125.000000             360.0  ...   \n",
       "16             3596                0.0  100.000000             240.0  ...   \n",
       "\n",
       "    LoanAmount_log TotalIncome TotalIncome_log  Married_new  Education_new  \\\n",
       "0         4.986426      5849.0        8.674026            0              0   \n",
       "1         4.852030      6091.0        8.714568            1              0   \n",
       "2         4.189655      3000.0        8.006368            1              0   \n",
       "3         4.787492      4941.0        8.505323            1              1   \n",
       "4         4.948760      6000.0        8.699515            0              0   \n",
       "5         5.587249      9613.0        9.170872            1              0   \n",
       "6         4.553877      3849.0        8.255569            1              1   \n",
       "7         5.062595      5540.0        8.619750            1              0   \n",
       "8         5.123964      5532.0        8.618305            1              0   \n",
       "9         5.855072     23809.0       10.077819            1              0   \n",
       "10        4.248495      3900.0        8.268732            1              0   \n",
       "11        4.691348      4340.0        8.375630            1              0   \n",
       "12        5.298317     11179.0        9.321792            1              0   \n",
       "13        4.736198      4693.0        8.453827            0              0   \n",
       "14        2.833213      2385.0        7.776954            1              0   \n",
       "15        4.828314      4950.0        8.507143            0              0   \n",
       "16        4.605170      3596.0        8.187577            0              1   \n",
       "\n",
       "    Property_Area_new  Gender_new  Loan_Status_new  Loan_Status_new_tree  \\\n",
       "0                   2           1                1                     1   \n",
       "1                   0           1                0                     0   \n",
       "2                   2           1                1                     1   \n",
       "3                   2           1                1                     1   \n",
       "4                   2           1                1                     1   \n",
       "5                   2           1                1                     1   \n",
       "6                   2           1                1                     1   \n",
       "7                   1           1                0                     0   \n",
       "8                   2           1                1                     1   \n",
       "9                   1           1                0                     0   \n",
       "10                  2           1                1                     1   \n",
       "11                  2           1                1                     1   \n",
       "12                  2           1                1                     1   \n",
       "13                  0           1                0                     0   \n",
       "14                  2           1                1                     1   \n",
       "15                  2           1                1                     1   \n",
       "16                  2           1                1                     1   \n",
       "\n",
       "    Loan_Status_new_forest  \n",
       "0                        1  \n",
       "1                        0  \n",
       "2                        1  \n",
       "3                        1  \n",
       "4                        1  \n",
       "5                        1  \n",
       "6                        1  \n",
       "7                        0  \n",
       "8                        1  \n",
       "9                        0  \n",
       "10                       1  \n",
       "11                       1  \n",
       "12                       1  \n",
       "13                       0  \n",
       "14                       1  \n",
       "15                       1  \n",
       "16                       1  \n",
       "\n",
       "[17 rows x 23 columns]"
      ]
     },
     "execution_count": 426,
     "metadata": {},
     "output_type": "execute_result"
    }
   ],
   "source": [
    "train.head(17)"
   ]
  },
  {
   "cell_type": "code",
   "execution_count": 427,
   "metadata": {},
   "outputs": [
    {
     "data": {
      "text/plain": [
       "LogisticRegression()"
      ]
     },
     "execution_count": 427,
     "metadata": {},
     "output_type": "execute_result"
    }
   ],
   "source": [
    "#train_modified and test_modified already loaded in the workspace\n",
    "#Import module for Logistic regression\n",
    "import sklearn.linear_model\n",
    "\n",
    "# Select three predictors Credit_History, Education and Gender\n",
    "predictors =['Property_Area_new','Credit_History','Married_new','Education_new','Gender_new','TotalIncome_log','LoanAmount_log']\n",
    "\n",
    "# Converting predictors and outcome to numpy array\n",
    "x_train = train[predictors].values\n",
    "y_train = train['Loan_Status_new'].values\n",
    "\n",
    "# Model Building\n",
    "model = sklearn.linear_model.LogisticRegression()\n",
    "model.fit(x_train, y_train)"
   ]
  },
  {
   "cell_type": "markdown",
   "metadata": {},
   "source": [
    "## Prediction and submission to DataHack\n",
    "\n",
    "To upload a submission to DataHack, you need to predict the loan approval rate for the observations in the test set. This can be done using \".predict()\" method with logistic regression object (model). To extract the test features we will need to create a numpy array of input features of test data set in the same way as we did when training the model for training data.\n",
    "\n",
    "Next, you need to make sure your output is in line with the submission requirements of DataHack: a csv file with exactly 367 entries and two columns: LoanID and LoanStatus. Then create a csv file using to_csv() method from Pandas."
   ]
  },
  {
   "cell_type": "code",
   "execution_count": 428,
   "metadata": {},
   "outputs": [],
   "source": [
    "#test_modified already loaded in the workspace\n",
    "\n",
    "# Select three predictors Credit_History, Education and Gender \n",
    "predictors =['Property_Area_new','Credit_History','Married_new','Education_new','Gender_new','TotalIncome_log','LoanAmount_log']\n",
    "\n",
    "# Converting predictors and outcome to numpy array\n",
    "x_train = train[predictors].values\n",
    "\n",
    "#Predict Output\n",
    "predicted = model.predict(x_train)\n",
    "\n",
    "#Reverse encoding for predicted outcome\n",
    "predicted = number.inverse_transform(predicted)\n",
    "\n",
    "#Store it to test dataset\n",
    "train['Loan_Status_new'] = predicted"
   ]
  },
  {
   "cell_type": "code",
   "execution_count": 429,
   "metadata": {
    "scrolled": true
   },
   "outputs": [],
   "source": [
    "#Output file to make submission\n",
    "#train.to_csv('myfistexport.csv')"
   ]
  },
  {
   "cell_type": "code",
   "execution_count": 430,
   "metadata": {},
   "outputs": [
    {
     "data": {
      "text/plain": [
       "Y    525\n",
       "N     89\n",
       "Name: Loan_Status_new, dtype: int64"
      ]
     },
     "execution_count": 430,
     "metadata": {},
     "output_type": "execute_result"
    }
   ],
   "source": [
    "train['Loan_Status_new'].value_counts()"
   ]
  },
  {
   "cell_type": "markdown",
   "metadata": {},
   "source": [
    "## Decision Tree Introduction\n",
    "\n",
    "Decision trees are mostly used in classification problems. It works for both categorical and continuous input and output variables. In this technique, we split the population or sample into two or more homogeneous sets (or sub-populations) based on most significant splitter / differentiator in input variables, read more about [Decision Tree](http://www.analyticsvidhya.com/blog/2015/01/decision-tree-simplified/)."
   ]
  },
  {
   "cell_type": "code",
   "execution_count": 431,
   "metadata": {},
   "outputs": [],
   "source": [
    "# Import tree module of sklearn\n",
    "import sklearn.tree\n",
    "\n",
    "# Create object of DecisionTreeClassifier\n",
    "model = sklearn.tree.DecisionTreeClassifier()"
   ]
  },
  {
   "cell_type": "markdown",
   "metadata": {},
   "source": [
    "## Train model and do prediction using Decision Tree\n",
    "\n",
    "Let’s make first Decision Tree model. Similar to Logistic regression, we first select the input features, train our model and finally perform prediction on test data set."
   ]
  },
  {
   "cell_type": "code",
   "execution_count": 432,
   "metadata": {
    "scrolled": true
   },
   "outputs": [],
   "source": [
    "#train_modified and test_modified already loaded in the workspace\n",
    "#Import module for Decision tree\n",
    "import sklearn.tree\n",
    "\n",
    "# Select three predictors 'Credit_History', 'Education', 'Gender'\n",
    "predictors =['Credit_History','Education_new','Gender_new']\n",
    "\n",
    "# Converting predictors and outcome to numpy array\n",
    "x_train = train[predictors].values\n",
    "y_train = train['Loan_Status_new_tree'].values\n",
    "\n",
    "# Model Building\n",
    "model = sklearn.tree.DecisionTreeClassifier()\n",
    "model.fit(x_train, y_train)\n",
    "\n",
    "# Converting predictors and outcome to numpy array\n",
    "x_train = train[predictors].values\n",
    "\n",
    "#Predict Output\n",
    "predicted= model.predict(x_train)\n",
    "\n",
    "#Reverse encoding for predicted outcome\n",
    "predicted = number.inverse_transform(predicted)\n",
    "\n",
    "#Store it to test dataset\n",
    "train['Loan_Status_new_tree']=predicted\n",
    "\n",
    "#Output file to make submission\n",
    "#test_modified.to_csv(\"Submission1.csv\",columns=['Loan_ID','Loan_Status'])"
   ]
  },
  {
   "cell_type": "code",
   "execution_count": 433,
   "metadata": {},
   "outputs": [
    {
     "data": {
      "text/plain": [
       "Y    525\n",
       "N     89\n",
       "Name: Loan_Status_new_tree, dtype: int64"
      ]
     },
     "execution_count": 433,
     "metadata": {},
     "output_type": "execute_result"
    }
   ],
   "source": [
    "train['Loan_Status_new_tree'].value_counts()"
   ]
  },
  {
   "cell_type": "markdown",
   "metadata": {},
   "source": [
    "## Random Forest Introduction\n",
    "\n",
    "Random Forest is a versatile machine learning method capable of performing both regression and classification tasks. It also undertakes dimensional reduction methods, treats missing values, outlier values and other essential steps of data exploration, and does a fairly good job. It is a type of ensemble learning method, where a group of weak models combine to form a powerful model, read more about [Random Forest](http://www.analyticsvidhya.com/blog/2015/09/random-forest-algorithm-multiple-challenges/)."
   ]
  },
  {
   "cell_type": "code",
   "execution_count": 434,
   "metadata": {},
   "outputs": [],
   "source": [
    "# Import ensemble module from sklearn\n",
    "import sklearn.ensemble\n",
    "\n",
    "# Create object of RandomForestClassifier\n",
    "model=sklearn.ensemble.RandomForestClassifier()"
   ]
  },
  {
   "cell_type": "markdown",
   "metadata": {},
   "source": [
    "## Train model and do prediction using Random Forest\n",
    "\n",
    "Let’s make first Random Forest model. Similar to Logistic regression and Decision Tree, here we also first select the input features, train model and finally perform prediction on test data set."
   ]
  },
  {
   "cell_type": "code",
   "execution_count": 435,
   "metadata": {},
   "outputs": [],
   "source": [
    "#train_modified and test_modified already loaded in the workspace\n",
    "#Import module for Random Forest\n",
    "import sklearn.ensemble\n",
    "\n",
    "# Select three predictors Credit_History, Education and Gender\n",
    "predictors =['Property_Area_new','Credit_History','Married_new','Education_new','Gender_new','TotalIncome_log','LoanAmount_log']\n",
    "\n",
    "# Converting predictors and outcome to numpy array\n",
    "x_train = train[predictors].values\n",
    "y_train = train['Loan_Status_new_forest'].values\n",
    "\n",
    "# Model Building\n",
    "model = sklearn.ensemble.RandomForestClassifier()\n",
    "model.fit(x_train, y_train)\n",
    "\n",
    "# Converting predictors and outcome to numpy array\n",
    "x_train = train[predictors].values\n",
    "\n",
    "#Predict Output\n",
    "predicted= model.predict(x_train)\n",
    "\n",
    "#Reverse encoding for predicted outcome\n",
    "predicted = number.inverse_transform(predicted)\n",
    "\n",
    "#Store it to test dataset\n",
    "train['Loan_Status_new_forest']=predicted\n",
    "\n",
    "#Output file to make submission\n",
    "#test_modified.to_csv(\"Submission1.csv\",columns=['Loan_ID','Loan_Status'])"
   ]
  },
  {
   "cell_type": "code",
   "execution_count": 436,
   "metadata": {},
   "outputs": [
    {
     "data": {
      "text/plain": [
       "Y    422\n",
       "N    192\n",
       "Name: Loan_Status_new_forest, dtype: int64"
      ]
     },
     "execution_count": 436,
     "metadata": {},
     "output_type": "execute_result"
    }
   ],
   "source": [
    "train['Loan_Status_new_forest'].value_counts()"
   ]
  },
  {
   "cell_type": "markdown",
   "metadata": {},
   "source": [
    "## Selecting important variables for model building\n",
    "\n",
    "One of the benefits of Random forest is the power of handle large data set with higher dimensionality. It can handle thousands of input variables and identify most significant variables so it is considered as one of the dimensionality reduction methods. Further, the model outputs the importance of the variables, which can be a very handy feature.\n",
    "```\n",
    "featimp = pd.Series(model.feature_importances_, index=predictors).sort_values(ascending=False)\n",
    "\n",
    "print (featimp)\n",
    "```\n",
    "I have selected all the features available in the train data set and model it using random forest:\n",
    "```\n",
    "predictors=['ApplicantIncome', 'CoapplicantIncome', 'Credit_History','Dependents', 'Education', 'Gender', 'LoanAmount',\n",
    "            'Loan_Amount_Term', 'Married', 'Property_Area', 'Self_Employed', 'TotalIncome','Log_TotalIncome']\n",
    "```\n",
    "Run feature importance command and identify Which variable has the highest impact on the model??"
   ]
  },
  {
   "cell_type": "code",
   "execution_count": 437,
   "metadata": {},
   "outputs": [
    {
     "name": "stdout",
     "output_type": "stream",
     "text": [
      "TotalIncome_log      0.332326\n",
      "LoanAmount_log       0.285402\n",
      "Credit_History       0.261174\n",
      "Property_Area_new    0.049834\n",
      "Married_new          0.027506\n",
      "Education_new        0.022835\n",
      "Gender_new           0.020923\n",
      "dtype: float64\n"
     ]
    }
   ],
   "source": [
    "featimp = pd.Series(model.feature_importances_, index=predictors).sort_values(ascending=False)\n",
    "\n",
    "print (featimp)"
   ]
  },
  {
   "cell_type": "markdown",
   "metadata": {},
   "source": [
    "# Chapter 6 - Expert advice to improve model performance"
   ]
  },
  {
   "cell_type": "markdown",
   "metadata": {},
   "source": [
    "## How to approach a challenge?\n",
    "\n",
    "The model development cycle goes through various stages, starting from data collection to model building. Most of us admit that data exploration needs more attention to unleashing the hidden story of data but before exploring the data to understand relationships (in variables), It’s always recommended to perform hypothesis generation. (To know more about hypothesis generation, refer to [this link](http://discuss.analyticsvidhya.com/t/why-and-when-is-hypothesis-generation-important/2109)).\n",
    "\n",
    "It is important that you spend time thinking about the given problem and gaining the domain knowledge. So, how does it help?\n",
    "\n",
    "This practice usually helps in building better features later on, which are not biased by the data available in the dataset. This is a crucial step which usually improves a model’s accuracy.\n",
    "\n",
    "At this stage, you are expected to apply structured thinking to the problem i.e. a thinking process which takes into consideration all the possible aspects of a particular problem.\n",
    "\n",
    "Which of the following has the right order of model building life cycle?\n",
    "\n",
    "**Hypothesis Generation --> Data Collection --> Data Exploration --> Model Building --> Prediction**"
   ]
  },
  {
   "cell_type": "markdown",
   "metadata": {},
   "source": [
    "## Feature Engineering\n",
    "\n",
    "This step helps to extract more information from existing data. New information is extracted in terms of new features. These features may have a higher ability to explain the variance in the training data. Thus, giving improved model accuracy.\n",
    "\n",
    "Feature engineering is highly influenced by hypotheses generation. A good hypothesis results in a good feature. That’s why experts always suggest investing quality time in hypothesis generation. Feature engineering process can be divided into two steps:\n",
    "\n",
    "- Feature Transformation\n",
    "- Feature Creation\n",
    "\n",
    "Feature Transformation:\n",
    "There are various scenarios where feature transformation is required: \n",
    "* Changing the scale of a variable from original scale to scale between zero and one. \n",
    "* Some algorithms works well with normally distributed data. Therefore, we must remove skewness of variable(s). There are methods like log, square root or inverse of the values to remove skewness \n",
    "* Binning of numerical variables\n",
    "\n",
    "Feature Creation:\n",
    "Deriving new variable(s) from existing variables is known as feature creation. It helps to unleash the hidden relationship of a data set. Let’s say, we want to predict the number of transactions in a store based on transaction dates. Here transaction dates may not have a direct correlation with the number of transaction, but if we look at the day of a week, it may have a higher correlation. In this case, the information about the day of the week is hidden. We need to extract it to make the model better."
   ]
  },
  {
   "cell_type": "markdown",
   "metadata": {},
   "source": [
    "## Feature Selection\n",
    "\n",
    "Feature Selection is a process of finding out the best subset of attributes which better explains the relationship of independent variables with target variable.\n",
    "\n",
    "You can select the useful features based on various metrics like:\n",
    "\n",
    "* Domain Knowledge: Based on domain experience, we select feature(s) which may have a higher impact on target variable.\n",
    "* Visualization: As the name suggests, it helps to visualize the relationship between variables, which makes your variable selection process easier.\n",
    "* Statistical Parameters: We also consider the p-values, information values, and other statistical metrics to select right features."
   ]
  },
  {
   "cell_type": "markdown",
   "metadata": {},
   "source": [
    "## How to select the right value of model parameter?\n",
    "\n",
    "We know that machine learning algorithms are driven by parameters. These parameters majorly influence the outcome of the learning process.\n",
    "\n",
    "The objective of parameter tuning is to find the optimum value for each parameter to improve the accuracy of the model. To tune these parameters, you must have a good understanding of their meaning and individual impact on the model. You can repeat this process with a number of well-performing models.\n",
    "\n",
    "For example: In a random forest, we have various parameters like maxfeatures, numbertrees, randomstate, oobscore and others. Intuitive optimization of these parameter values will result in better and more accurate models."
   ]
  },
  {
   "cell_type": "markdown",
   "metadata": {},
   "source": [
    "## Use ensemble methods to combine output of more than one models?\n",
    "\n",
    "This is the most common approach found majorly in winning solutions of Data science competitions. This technique simply combines the result of multiple weak models and produce better results. This can be achieved through many ways:\n",
    "\n",
    "- Bagging (Bootstrap Aggregating)\n",
    "- Boosting\n",
    "\n",
    "To know more about these methods, you can refer article [“Introduction to ensemble learning“](http://www.analyticsvidhya.com/blog/2015/08/introduction-ensemble-learning/).\n",
    "\n",
    "It is always a better idea to apply ensemble methods to improve the accuracy of your model. There are two good reasons for this: \n",
    "* They are generally more complex than traditional methods \n",
    "* The traditional methods give you a good base level from which you can improve and draw from to create your ensembles."
   ]
  },
  {
   "cell_type": "markdown",
   "metadata": {},
   "source": [
    "## Cross validtion helps to improve your score on out of sample data set\n",
    "\n",
    "Till here, we have seen methods which can improve the accuracy of a model. But, it is not necessary that higher accuracy models always perform better (for unseen data points). Sometimes, the improvement in model’s accuracy can be due to over-fitting too.\n",
    "\n",
    "Here Cross-Validation helps to find the right answer to this question. Cross Validation says, try to leave a sample on which you do not train the model and test the model on this sample before finalizing the model. This method helps us to achieve more generalized relationships. To know more about this cross validation method, you should refer article [“Improve model performance using cross-validation“](http://www.analyticsvidhya.com/blog/2015/11/improve-model-performance-cross-validation-in-python-r/) .\n",
    "\n",
    "### Common methods used for Cross-Validation ?\n",
    "The Validation set Approach:\n",
    "In this approach, we reserve 50% of the dataset for validation and rest 50% for model training. A major disadvantage of this approach is that we train a model on 50% of the dataset only, it may be possible that we are leaving some interesting information about data i.e. higher bias.\n",
    "\n",
    "### Leave one out cross validation (LOOCV)\n",
    "In this approach, we reserve only one data-point of the available data set. And, train model on the rest of data set. This process iterates for each data point. This approach leads to higher variation in testing model effectiveness because we test against one data point. So, our estimation gets highly influenced by that one data point. If the data point turns out to be an outlier, it can lead to higher variation.\n",
    "\n",
    "### K-fold cross validation\n",
    "In this method, we follow below steps: \n",
    "* Randomly split your entire dataset into k-”folds”. \n",
    "* For each k folds in your dataset, build your model on k – 1 folds of the data set. \n",
    "* Then, test the model to check the effectiveness for kth fold and record the error you see on each of the predictions. \n",
    "* Repeat this until each of the k folds has served as the test set.\n",
    "\n",
    "The average of your k recorded errors is called the cross-validation error and will serve as your performance metric for the model.\n",
    "\n",
    "How to choose right value of k for K-fold cross validation?\n",
    "Use k=10"
   ]
  }
 ],
 "metadata": {
  "kernelspec": {
   "display_name": "Python 3",
   "language": "python",
   "name": "python3"
  },
  "language_info": {
   "codemirror_mode": {
    "name": "ipython",
    "version": 3
   },
   "file_extension": ".py",
   "mimetype": "text/x-python",
   "name": "python",
   "nbconvert_exporter": "python",
   "pygments_lexer": "ipython3",
   "version": "3.8.5"
  }
 },
 "nbformat": 4,
 "nbformat_minor": 4
}
