{
 "cells": [
  {
   "cell_type": "markdown",
   "metadata": {},
   "source": [
    "# Profitable App Profiles for the App Store and Google Play Markets\n",
    "Our aim in this project is to find mobile app profiles that are profitable for the App Store and Google Play markets. We're working as data analysts for a company that builds Android and iOS mobile apps, and our job is to enable our team of developers to make data-driven decisions with respect to the kind of apps they build.\n",
    "At our company, we only build apps that are free to download and install, and our main source of revenue consists of in-app ads. This means that our revenue for any given app is mostly influenced by the number of users that use our app. Our goal for this project is to analyze data to help our developers understand what kinds of apps are likely to attract more users.\n",
    "\n",
    "# Opening and Exploring the Data\n",
    "\n",
    "As of September 2018, there were approximately 2 million iOS apps available on the App Store, and 2.1 million Android apps on Google Play.\n",
    "Collecting data for over four million apps requires a significant amount of time and money, so we'll try to analyze a sample of data instead. To avoid spending resources with collecting new data ourselves, we should first try to see whether we can find any relevant existing data at no cost. Luckily, these are two data sets that seem suitable for our purpose:\n",
    "- [A data](https://www.kaggle.com/lava18/google-play-store-apps) set containing data about approximately ten thousand Android apps from Google Play. You can download the data set directly from [this link](https://dq-content.s3.amazonaws.com/350/googleplaystore.csv).\n",
    "- [A data](https://www.kaggle.com/ramamet4/app-store-apple-data-set-10k-apps) set containing data about approximately seven thousand iOS apps from the App Store. You can download the data set directly from [this link](https://dq-content.s3.amazonaws.com/350/AppleStore.csv).\n",
    "Let's start by opening the two data sets and then continue with exploring the data."
   ]
  },
  {
   "cell_type": "markdown",
   "metadata": {},
   "source": [
    "# 1 - Import two data sets"
   ]
  },
  {
   "cell_type": "code",
   "execution_count": 1,
   "metadata": {},
   "outputs": [],
   "source": [
    "from csv import reader\n",
    "\n",
    "### The Google Play data set ###\n",
    "opened_file = open('googleplaystore.csv')\n",
    "read_file = reader(opened_file)\n",
    "android = list(read_file)\n",
    "android_header = android[0]\n",
    "android = android[1:]\n",
    "\n",
    "### The App Store data set ###\n",
    "opened_file = open('AppleStore.csv')\n",
    "read_file = reader(opened_file)\n",
    "ios = list(read_file)\n",
    "ios_header = ios[0]\n",
    "ios = ios[1:]"
   ]
  },
  {
   "cell_type": "markdown",
   "metadata": {},
   "source": [
    "# 2 - Print headers of two data sets"
   ]
  },
  {
   "cell_type": "markdown",
   "metadata": {},
   "source": [
    "## Create explore Data function to print rows of dataset"
   ]
  },
  {
   "cell_type": "code",
   "execution_count": 2,
   "metadata": {},
   "outputs": [],
   "source": [
    "def explore_data(dataset, start, end, rows_and_columns=False):\n",
    "    dataset_slice = dataset[start:end]    \n",
    "    for row in dataset_slice:\n",
    "        print(row)\n",
    "        print('\\n') # adds a new (empty) line between rows\n",
    "        \n",
    "    if rows_and_columns:\n",
    "        print('Number of rows:', len(dataset))\n",
    "        print('Number of columns:', len(dataset[0]))"
   ]
  },
  {
   "cell_type": "markdown",
   "metadata": {},
   "source": [
    "## Print Android data"
   ]
  },
  {
   "cell_type": "code",
   "execution_count": 3,
   "metadata": {},
   "outputs": [
    {
     "name": "stdout",
     "output_type": "stream",
     "text": [
      "['App', 'Category', 'Rating', 'Reviews', 'Size', 'Installs', 'Type', 'Price', 'Content Rating', 'Genres', 'Last Updated', 'Current Ver', 'Android Ver']\n",
      "\n",
      "\n",
      "['Photo Editor & Candy Camera & Grid & ScrapBook', 'ART_AND_DESIGN', '4.1', '159', '19M', '10,000+', 'Free', '0', 'Everyone', 'Art & Design', 'January 7, 2018', '1.0.0', '4.0.3 and up']\n",
      "\n",
      "\n",
      "['Coloring book moana', 'ART_AND_DESIGN', '3.9', '967', '14M', '500,000+', 'Free', '0', 'Everyone', 'Art & Design;Pretend Play', 'January 15, 2018', '2.0.0', '4.0.3 and up']\n",
      "\n",
      "\n",
      "['U Launcher Lite – FREE Live Cool Themes, Hide Apps', 'ART_AND_DESIGN', '4.7', '87510', '8.7M', '5,000,000+', 'Free', '0', 'Everyone', 'Art & Design', 'August 1, 2018', '1.2.4', '4.0.3 and up']\n",
      "\n",
      "\n",
      "Number of rows: 10841\n",
      "Number of columns: 13\n"
     ]
    }
   ],
   "source": [
    "print(android_header)\n",
    "print('\\n')\n",
    "explore_data(android, 0, 3, True)"
   ]
  },
  {
   "cell_type": "markdown",
   "metadata": {},
   "source": [
    "## Print Apple data"
   ]
  },
  {
   "cell_type": "code",
   "execution_count": 4,
   "metadata": {
    "scrolled": true
   },
   "outputs": [
    {
     "name": "stdout",
     "output_type": "stream",
     "text": [
      "['id', 'track_name', 'size_bytes', 'currency', 'price', 'rating_count_tot', 'rating_count_ver', 'user_rating', 'user_rating_ver', 'ver', 'cont_rating', 'prime_genre', 'sup_devices.num', 'ipadSc_urls.num', 'lang.num', 'vpp_lic']\n",
      "\n",
      "\n",
      "['284882215', 'Facebook', '389879808', 'USD', '0.0', '2974676', '212', '3.5', '3.5', '95.0', '4+', 'Social Networking', '37', '1', '29', '1']\n",
      "\n",
      "\n",
      "['389801252', 'Instagram', '113954816', 'USD', '0.0', '2161558', '1289', '4.5', '4.0', '10.23', '12+', 'Photo & Video', '37', '0', '29', '1']\n",
      "\n",
      "\n",
      "['529479190', 'Clash of Clans', '116476928', 'USD', '0.0', '2130805', '579', '4.5', '4.5', '9.24.12', '9+', 'Games', '38', '5', '18', '1']\n",
      "\n",
      "\n",
      "Number of rows: 7197\n",
      "Number of columns: 16\n"
     ]
    }
   ],
   "source": [
    "print(ios_header)\n",
    "print('\\n')\n",
    "explore_data(ios, 0, 3, True)"
   ]
  },
  {
   "cell_type": "markdown",
   "metadata": {},
   "source": [
    "# 3 - Data Cleaning"
   ]
  },
  {
   "cell_type": "markdown",
   "metadata": {},
   "source": [
    "## 3.1 Remove row from Android that had missing data\n",
    "This is info came from exploring forums for the dataset"
   ]
  },
  {
   "cell_type": "code",
   "execution_count": 5,
   "metadata": {},
   "outputs": [],
   "source": [
    "del android[10472]"
   ]
  },
  {
   "cell_type": "code",
   "execution_count": 6,
   "metadata": {
    "scrolled": true
   },
   "outputs": [
    {
     "name": "stdout",
     "output_type": "stream",
     "text": [
      "['App', 'Category', 'Rating', 'Reviews', 'Size', 'Installs', 'Type', 'Price', 'Content Rating', 'Genres', 'Last Updated', 'Current Ver', 'Android Ver']\n",
      "\n",
      "\n",
      "['Xposed Wi-Fi-Pwd', 'PERSONALIZATION', '3.5', '1042', '404k', '100,000+', 'Free', '0', 'Everyone', 'Personalization', 'August 5, 2014', '3.0.0', '4.0.3 and up']\n",
      "\n",
      "\n",
      "['osmino Wi-Fi: free WiFi', 'TOOLS', '4.2', '134203', '4.1M', '10,000,000+', 'Free', '0', 'Everyone', 'Tools', 'August 7, 2018', '6.06.14', '4.4 and up']\n",
      "\n",
      "\n",
      "['Sat-Fi Voice', 'COMMUNICATION', '3.4', '37', '14M', '1,000+', 'Free', '0', 'Everyone', 'Communication', 'November 21, 2014', '2.2.1.5', '2.2 and up']\n",
      "\n",
      "\n",
      "['Wi-Fi Visualizer', 'TOOLS', '3.9', '132', '2.6M', '50,000+', 'Free', '0', 'Everyone', 'Tools', 'May 17, 2017', '0.0.9', '2.3 and up']\n",
      "\n",
      "\n",
      "Number of rows: 10840\n",
      "Number of columns: 13\n"
     ]
    }
   ],
   "source": [
    "print(android_header)\n",
    "print('\\n')\n",
    "explore_data(android, 10471, 10475, True)"
   ]
  },
  {
   "cell_type": "markdown",
   "metadata": {},
   "source": [
    "## 3.2 Check for duplicates\n",
    "### Part 1 \n",
    "lets check Android dataset for duplicates and decide what is the best way to delete them"
   ]
  },
  {
   "cell_type": "markdown",
   "metadata": {},
   "source": [
    "To do the check lets create a list with Duplicated values and print some examples."
   ]
  },
  {
   "cell_type": "code",
   "execution_count": 7,
   "metadata": {},
   "outputs": [
    {
     "name": "stdout",
     "output_type": "stream",
     "text": [
      "1181\n"
     ]
    }
   ],
   "source": [
    "duplicate_android_apps = []\n",
    "unique_android_apps = []\n",
    "\n",
    "for row in android:\n",
    "    name = row[0]\n",
    "    if name in unique_android_apps:\n",
    "        duplicate_android_apps.append(name)\n",
    "    else:\n",
    "        unique_android_apps.append(name)\n",
    "        \n",
    "print(len(duplicate_android_apps))"
   ]
  },
  {
   "cell_type": "code",
   "execution_count": 8,
   "metadata": {},
   "outputs": [
    {
     "name": "stdout",
     "output_type": "stream",
     "text": [
      "['Quick PDF Scanner + OCR FREE', 'Box', 'Google My Business', 'ZOOM Cloud Meetings', 'join.me - Simple Meetings', 'Box', 'Zenefits', 'Google Ads', 'Google My Business', 'Slack', 'FreshBooks Classic', 'Insightly CRM', 'QuickBooks Accounting: Invoicing & Expenses', 'HipChat - Chat Built for Teams', 'Xero Accounting Software']\n"
     ]
    }
   ],
   "source": [
    "print(duplicate_android_apps[:15])"
   ]
  },
  {
   "cell_type": "code",
   "execution_count": 9,
   "metadata": {},
   "outputs": [
    {
     "name": "stdout",
     "output_type": "stream",
     "text": [
      "{'Quick PDF Scanner + OCR FREE': 3, 'Box': 3, 'Google My Business': 3, 'ZOOM Cloud Meetings': 2, 'join.me - Simple Meetings': 3, 'Zenefits': 2, 'Google Ads': 3, 'Slack': 3, 'FreshBooks Classic': 2, 'Insightly CRM': 2, 'QuickBooks Accounting: Invoicing & Expenses': 3, 'HipChat - Chat Built for Teams': 2, 'Xero Accounting Software': 2, 'MailChimp - Email, Marketing Automation': 2, 'Crew - Free Messaging and Scheduling': 2, 'Asana: organize team projects': 2, 'Google Analytics': 2, 'AdWords Express': 2, 'Accounting App - Zoho Books': 2, 'Invoice & Time Tracking - Zoho': 2, 'Invoice 2go — Professional Invoices and Estimates': 2, 'SignEasy | Sign and Fill PDF and other Documents': 2, 'Genius Scan - PDF Scanner': 2, 'Tiny Scanner - PDF Scanner App': 2, 'Fast Scanner : Free PDF Scan': 2, 'Mobile Doc Scanner (MDScan) Lite': 2, 'TurboScan: scan documents and receipts in PDF': 2, 'Tiny Scanner Pro: PDF Doc Scan': 2, 'Docs To Go™ Free Office Suite': 2, 'OfficeSuite : Free Office + PDF Editor': 2, 'WhatsApp Messenger': 3, 'Messenger – Text and Video Chat for Free': 3, 'imo free video calls and chat': 4, 'Viber Messenger': 5, 'Hangouts': 4, 'WeChat': 4, 'Telegram': 3, 'Who': 2, 'Google Voice': 3, 'Android Messages': 2, 'Firefox Focus: The privacy browser': 3, 'Google Allo': 3, 'Google Chrome: Fast & Secure': 3, 'Firefox Browser fast & private': 3, 'Puffin Web Browser': 3, 'Opera Browser: Fast and Secure': 3, 'Opera Mini - fast web browser': 3, 'UC Browser Mini -Tiny Fast Private & Secure': 3, 'UC Browser - Fast Download Private & Secure': 3, 'Calls & Text by Mo+': 2, 'Call Blocker': 2, 'Gmail': 3, 'Yahoo Mail – Stay Organized': 3, 'free video calls and chat': 3, 'Skype - free IM & video calls': 3, 'Glide - Video Chat Messenger': 2, 'Talkray - Free Calls & Texts': 2, 'LINE: Free Calls & Messages': 3, 'KakaoTalk: Free Calls & Text': 3, 'OkCupid Dating': 3, 'CMB Free Dating App': 2, 'Hily: Dating, Chat, Match, Meet & Hook up': 3, 'Hinge: Dating & Relationships': 2, 'BBW Dating & Plus Size Chat': 3, 'Casual Dating & Adult Singles - Joyride': 2, 'EliteSingles – Dating for Single Professionals': 2, 'Clover Dating App': 2, 'Moco - Chat, Meet People': 3, 'Hot or Not - Find someone right now': 3, 'Just She - Top Lesbian Dating': 3, 'Once - Quality Matches Every day': 2, 'Sudy – Meet Elite & Rich Single': 2, 'muzmatch: Muslim & Arab Singles, Marriage & Dating': 3, 'Chispa, the Dating App for Latino, Latina Singles': 2, 'Blendr - Chat, Flirt & Meet': 2, 'Find Real Love — YouLove Premium Dating': 2, 'Cougar Dating Life : Date Older Women Sugar Mummy': 2, 'stranger chat - anonymous chat': 2, 'Millionaire Match: Rich Singles Dating App': 2, 'Dating for 50 plus Mature Singles – FINALLY': 2, 'Moco+ - Chat, Meet People': 2, 'Chat Rooms, Avatars, Date - Galaxy': 2, 'FastMeet: Chat, Dating, Love': 2, 'Christian Dating For Free App': 2, 'Meet24 - Love, Chat, Singles': 2, 'Black White Interracial Dating - Interracial Match': 2, 'Gay Sugar Daddy Dating & Hookup – Sudy Gay': 2, 'Adult Dirty Emojis': 3, 'Hide App, Private Dating, Safe Chat - PrivacyHider': 2, 'Meet4U - Chat, Love, Singles!': 2, '95Live -SG#1 Live Streaming App': 2, 'O-Star': 3, 'Random Video Chat': 2, 'Black People Meet Singles Date': 2, 'Howlr': 2, 'Free Dating & Flirt Chat - Choice of Love': 2, 'Cardi B Live Stream Video Chat - Prank': 2, 'Chat Kids - Chat Room For Kids': 2, 'Transenger – Ts Dating and Chat for Free': 2, 'BBW Dating & Curvy Singles Chat- LargeFriends': 2, 'MouseMingle': 2, 'FlirtChat - ♥Free Dating/Flirting App♥': 2, 'Live Talk - Free Text and Video Chat': 2, 'Free Cam Girls - Live Webcam': 2, 'Random Video Chat App With Strangers': 2, 'Live Girls Talk - Free Video Chat': 2, 'Girls Live Chat - Free Text & Video Chat': 2, 'Free Dating App - Meet Local Singles - Flirt Chat': 2, 'iPair-Meet, Chat, Dating': 2, 'Free Dating Hook Up Messenger': 2, 'Free Dating App - YoCutie - Flirt, Chat & Meet': 2, 'Khan Academy': 3, 'TED': 4, 'Lumosity: #1 Brain Games & Cognitive Training App': 2, 'Udemy - Online Courses': 3, 'Duolingo: Learn Languages Free': 7, 'Quizlet: Learn Languages & Vocab with Flashcards': 4, 'Coursera: Online courses': 2, 'Udacity - Lifelong Learning': 2, 'edX - Online Courses by Harvard, MIT & more': 2, 'Lynda - Online Training Videos': 2, 'Learn languages, grammar & vocabulary with Memrise': 4, 'Brilliant': 2, 'Babbel – Learn Languages': 4, 'Rosetta Stone: Learn to Speak & Read New Languages': 4, 'Learn English with Wlingua': 2, 'Google Classroom': 3, 'Learn 50 languages': 2, 'Mango Languages: Lovable Language Courses': 2, 'busuu: Learn Languages - Spanish, English & More': 4, 'My Class Schedule: Timetable': 2, 'Socratic - Math Answers & Homework Help': 2, 'ClassDojo': 3, 'HelloTalk — Chat, Speak & Learn Foreign Languages': 2, 'Movies by Flixster, with Rotten Tomatoes': 3, 'IMDb Movies & TV': 3, 'Netflix': 5, 'Tubi TV - Free Movies & TV': 3, 'Crunchyroll - Everything Anime': 3, 'STARZ': 3, 'Crackle - Free TV & Movies': 3, 'CBS - Full Episodes & Live TV': 2, 'Nick': 6, 'Hulu: Stream TV, Movies & more': 4, 'FOX NOW - On Demand & Live TV': 3, 'The CW': 4, 'HISTORY: Watch TV Show Full Episodes & Specials': 3, 'HBO NOW: Stream TV & Movies': 4, 'A&E - Watch Full Episodes of TV Shows': 4, 'VH1': 3, 'Lifetime - Watch Full Episodes & Original Movies': 3, 'BET NOW - Watch Shows': 3, 'Food Network': 3, 'Viki: Asian TV Dramas & Movies': 3, 'Univision NOW - Live TV and On Demand': 2, 'SHOWTIME': 2, 'MTV': 2, 'Comedy Central': 2, 'FOX': 2, 'Telemundo Now': 2, 'Fandango Movies - Times + Tickets': 2, 'Google Pay': 4, 'Wells Fargo Daily Change': 2, 'Credit Karma': 3, 'Robinhood - Investing, No Fees': 2, 'Digit Save Money Automatically': 2, 'Acorns - Invest Spare Change': 2, 'Money Lover: Expense Tracker, Budget Planner': 2, 'Mint: Budget, Bills, Finance': 3, 'Simple - Better Banking': 2, 'PayPal': 2, 'Wells Fargo Mobile': 2, 'Capital One® Mobile': 2, 'Grubhub: Food Delivery': 2, 'Postmates Food Delivery: Order Eats & Alcohol': 2, \"Domino's Pizza USA\": 2, 'Chick-fil-A': 3, 'Zomato - Restaurant Finder and Food Delivery App': 2, 'Run with Map My Run': 3, 'Weight Loss Running by Verv': 3, 'Nike+ Run Club': 4, 'Runtastic Running App & Mile Tracker': 3, '8fit Workouts & Meal Planner': 2, 'Daily Yoga - Yoga Fitness Plans': 3, 'Pocket Yoga': 2, 'Calorie Counter - MyFitnessPal': 5, 'Seven - 7 Minute Workout Training Challenge': 2, 'Weight Watchers Mobile': 3, 'Walk with Map My Walk': 2, 'Workout Trainer: fitness coach': 2, 'Nike Training Club - Workouts & Fitness Plans': 3, 'Fitbit Coach': 2, 'Endomondo - Running & Walking': 2, 'Runkeeper - GPS Track Run Walk': 2, 'Lose It! - Calorie Counter': 3, 'Calorie Counter - MyNetDiary': 2, '10 Best Foods for You': 2, 'MyPlate Calorie Tracker': 2, 'Weight Loss Tracker - RecStyle': 2, 'Calorie Counter by FatSecret': 2, 'Calorie Counter - Macros': 2, 'My Diet Diary Calorie Counter': 2, 'Lark - 24/7 Health Coach': 2, 'Calorie Counter & Diet Tracker': 2, 'MealLogger-Photo Food Journal': 2, 'Health and Nutrition Guide': 2, 'Food Calorie Calculator': 2, 'Relax Meditation: Sleep with Sleep Sounds': 2, 'Meditation Music - Relax, Yoga': 2, '21-Day Meditation Experience': 2, 'Fabulous: Motivate Me! Meditate, Relax, Sleep': 2, 'Calm - Meditate, Sleep, Relax': 2, 'Relax Melodies: Sleep Sounds': 2, 'Simple Habit Meditation': 2, 'Headspace: Meditation & Mindfulness': 2, 'Houzz Interior Design Ideas': 4, 'Mortgage by Zillow: Calculator & Rates': 2, 'Redfin Real Estate': 2, 'Apartment List: Housing, Apt, and Property Rentals': 2, 'Realtor.com Real Estate: Homes for Sale and Rent': 2, 'Trulia Real Estate & Rentals': 2, 'Zillow: Find Houses for Sale & Apartments for Rent': 2, 'Apartments & Rentals - Zillow': 2, 'Trulia Rent Apartments & Homes': 2, 'Apartments.com Rental Search': 2, 'Vaniday - Beauty Booking App': 2, 'StyleSeat': 2, 'JOANN - Crafts & Coupons': 2, 'Fashion in Vogue': 3, 'Wheretoget: Shop in style': 2, 'My Dressing - Fashion closet': 2, 'Chictopia': 2, 'Scarf Fashion Designer': 2, 'Zara': 2, 'Subway Surfers': 6, 'ROBLOX': 9, 'Pou': 4, '8 Ball Pool': 7, 'Clash of Clans': 4, 'Candy Crush Saga': 7, 'Plants vs. Zombies FREE': 5, 'My Talking Angela': 4, 'Bubble Shooter': 6, 'Word Search': 4, 'Candy Crush Soda Saga': 3, 'Fishdom': 3, 'Block Puzzle': 4, 'Clash Royale': 4, 'Sniper 3D Gun Shooter: Free Shooting Games - FPS': 6, 'Granny': 5, 'Galaxy Attack: Alien Shooter': 3, 'Angry Birds Rio': 4, 'Zombie Catchers': 6, 'Zombie Hunter King': 4, 'Temple Run 2': 6, 'Zombie Tsunami': 5, 'Farm Heroes Saga': 5, 'Super Jim Jump - pixel 3d': 3, 'slither.io': 6, 'Angry Birds Classic': 5, 'Flow Free': 5, 'Helix Jump': 6, 'Toon Blast': 3, 'Kick the Buddy': 4, 'Magic Tiles 3': 4, 'Bowmasters': 6, 'Wordscapes': 4, 'Block Craft 3D: Building Simulator Games For Free': 3, 'PUBG MOBILE': 4, 'DRAGON BALL LEGENDS': 4, 'Harry Potter: Hogwarts Mystery': 2, 'MARVEL Strike Force': 3, 'Merge Dragons!': 2, 'Honkai Impact 3rd': 2, 'Toy Blast': 2, 'Homescapes': 2, 'Cooking Fever': 2, 'Gardenscapes': 2, 'Score! Hero': 3, 'Dream League Soccer 2018': 3, 'Fruits Bomb': 2, 'Talking Tom Gold Run': 4, 'My Talking Tom': 3, 'Hill Climb Racing': 4, 'Pixel Art: Color by Number Game': 3, 'Rider': 2, 'Garena Free Fire': 4, 'Miraculous Ladybug & Cat Noir - The Official Game': 3, 'Solitaire': 3, 'Traffic Racer': 2, 'Earn to Die 2': 2, 'Bubble Shooter 2': 2, 'Candy Crush Jelly Saga': 2, 'Cut the Rope FULL FREE': 3, 'Jewels Star: OZ adventure': 2, 'Hungry Shark Evolution': 3, 'Best Fiends - Free Puzzle Game': 2, 'Hill Climb Racing 2': 2, 'Swamp Attack': 2, 'Block Puzzle Classic Legend !': 2, 'DEAD TARGET: FPS Zombie Apocalypse Survival Games': 2, 'YouTube Kids': 4, 'Candy Bomb': 2, 'Princess Coloring Book': 2, 'Hello Kitty Nail Salon': 2, 'Dog Run - Pet Dog Simulator': 3, 'Coloring book moana': 2, 'Barbie™ Fashion Closet': 2, 'Minion Rush: Despicable Me Official Game': 4, 'No.Draw - Colors by Number 2018': 2, 'Super ABC! Learning games for kids! Preschool apps': 2, 'PJ Masks: Moonlight Heroes': 3, 'Hot Wheels: Race Off': 2, 'Farming Simulator 14': 2, 'Mcqueen Coloring pages': 2, 'Monster Truck Driver & Racing': 2, 'Strawberry Shortcake BerryRush': 3, 'DC Super Hero Girls™': 4, 'Toca Kitchen 2': 3, 'Disney Magic Kingdoms: Build Your Own Magical Park': 2, 'Toca Life: City': 2, 'Papumba Academy - Fun Learning For Kids': 3, 'Kids Balloon Pop Game Free 🎈': 2, 'Sounds for Toddlers FREE': 2, 'Elmo Calls by Sesame Street': 3, 'Sago Mini Friends': 3, 'Tee and Mo Bath Time Free': 2, 'Bita and the Animals - Pelos Ares': 2, 'TO-FU Oh!SUSHI': 2, 'DreamWorks Friends': 2, 'Avokiddo Emotions': 2, 'Nighty Night Circus': 2, 'Sago Mini Babies': 2, \"Dr. Panda & Toto's Treehouse\": 3, 'PlayKids - Educational cartoons and games for kids': 2, 'Baby Panda Care': 2, 'Monster High™': 2, 'Shopkins World!': 2, 'DisneyNOW – TV Shows & Games': 3, 'Equestria Girls': 3, 'Frozen Free Fall': 3, 'Thomas & Friends: Race On!': 2, 'Inside Out Thought Bubbles': 2, 'School of Dragons': 2, 'Peak – Brain Games & Training': 2, 'Period Tracker': 2, 'Vargo Anesthesia Mega App': 2, 'Monash Uni Low FODMAP Diet': 2, 'mySugr: the blood sugar tracker made just for you': 3, 'Human Anatomy Atlas 2018: Complete 3D Human Body': 3, 'ASCCP Mobile': 2, 'Paramedic Protocol Provider': 2, '2017 EMRA Antibiotic Guide': 2, 'Essential Anatomy 3': 2, 'EMT PASS': 2, 'Block Buddy': 2, 'EMT Review Plus': 2, 'Journal Club: Medicine': 2, 'Pedi STAT': 2, 'AnatomyMapp': 2, 'Diabetes & Diet Tracker': 2, 'A Manual of Acupuncture': 2, 'PTA Content Master': 2, 'Muscle Premium - Human Anatomy, Kinesiology, Bones': 2, 'Cardiac diagnosis (heart rate, arrhythmia)': 3, 'Medical ID - In Case of Emergency (ICE)': 2, 'IBM Micromedex Drug Info': 2, 'Advanced Comprehension Therapy': 2, 'Hospitalist Handbook': 2, 'Teladoc Member': 2, 'Ada - Your Health Guide': 2, 'Ovia Fertility Tracker & Ovulation Calculator': 2, 'Youper - AI Therapy': 3, 'MoodSpace': 2, 'Super Hearing Super Ear Amplifier': 2, 'Penn State Health OnDemand': 2, 'ScriptSave WellRx Rx Discounts': 2, 'Free Blood Pressure': 3, 'All Mental disorders': 2, 'Nurse Grid': 2, 'JH Blood Pressure Monitor': 2, 'Blood Pressure': 3, 'RT 516 VET': 2, 'Anthem Anywhere': 2, 'Sway Medical': 2, \"fred's Pharmacy\": 2, 'Breastfeeding Tracker Baby Log': 2, 'Banfield Pet Health Tracker': 2, '1800 Contacts - Lens Store': 2, 'TextNow - free text + calls': 2, 'Tumblr': 3, 'Snapchat': 4, 'Instagram': 4, 'Periscope - Live Video': 3, 'Pinterest': 3, 'MeetMe: Chat & Meet New People': 5, 'ooVoo Video Calls, Messaging & Stories': 2, 'LinkedIn': 2, 'Tango - Live Video Broadcast': 2, 'SayHi Chat, Meet New People': 3, 'Tapatalk - 100,000+ Forums': 2, 'Badoo - Free Chat & Dating App': 4, 'Nextdoor - Local neighborhood news & classifieds': 2, 'Meetup': 4, 'Text Free: WiFi Calling App': 3, 'textPlus: Free Text & Calls': 2, 'POF Free Dating App': 3, 'Tagged - Meet, Chat & Dating': 2, 'LOVOO': 2, 'SKOUT - Meet, Chat, Go Live': 2, 'Jaumo Dating, Flirt & Live Video': 2, 'Couple - Relationship App': 2, 'Wish - Shopping Made Fun': 5, 'SnipSnap Coupon App': 2, 'Extreme Coupon Finder': 3, 'Checkout 51: Grocery coupons': 3, 'The Coupons App': 4, 'RetailMeNot - Coupons, Deals & Discount Shopping': 3, 'Groupon - Shop Deals, Discounts & Coupons': 4, 'Stocard - Rewards Cards Wallet': 2, 'eBay: Buy & Sell this Summer - Discover Deals Now!': 5, 'Gyft - Mobile Gift Card Wallet': 3, 'Shopkick: Free Gift Cards, Shop Rewards & Deals': 2, 'Shopular: Coupons, Weekly Ads & Shopping Deals': 2, 'Carousell: Snap-Sell, Chat-Buy': 2, 'Walmart': 2, 'Ibotta: Cash Back Savings, Rewards & Coupons App': 2, 'AliExpress - Smarter Shopping, Better Living': 4, 'LivingSocial - Local Deals': 3, 'Amazon Shopping': 3, 'Poshmark - Buy & Sell Fashion': 2, 'Target - now with Cartwheel': 3, 'ZALORA Fashion Shopping': 2, 'Fancy': 3, \"Modcloth – Unique Indie Women's Fashion & Style\": 2, \"JackThreads: Men's Shopping\": 3, 'Zappos – Shoe shopping made simple': 2, 'Wanelo Shopping': 2, 'Etsy: Handmade & Vintage Goods': 2, 'Slickdeals: Coupons & Shopping': 3, 'ASOS': 2, 'Google Photos': 4, 'Shutterfly: Free Prints, Photo Books, Cards, Gifts': 4, 'InstaBeauty -Makeup Selfie Cam': 2, 'B612 - Beauty & Filter Camera': 3, 'BeautyPlus - Easy Photo Editor & Selfie Camera': 5, 'YouCam Perfect - Selfie Photo Editor': 3, 'Muzy - Share photos & collages': 2, 'QuickPic - Photo Gallery with Google Drive Support': 3, 'Flickr': 2, 'Open Camera': 3, 'Camera for Android': 3, 'Cymera Camera- Photo Editor, Filter,Collage,Layout': 4, 'Candy Camera - selfie, beauty camera, photo editor': 3, 'Camera360: Selfie Photo Editor with Funny Sticker': 3, 'Facetune - For Free': 3, 'Photo Editor Selfie Camera Filter & Mirror Image': 2, 'HD Camera for Android': 2, 'Photo Editor Pro': 2, 'YouCam Makeup - Magic Selfie Makeovers': 2, 'Photo Editor-': 2, 'Photo Editor': 2, 'Adobe Photoshop Express:Photo Editor Collage Maker': 2, 'InstaSize Photo Filters & Collage Editor': 2, 'CBS Sports App - Scores, News, Stats & Watch Live': 8, 'Yahoo Fantasy Sports - #1 Rated Fantasy App': 5, 'ESPN': 7, 'NFL': 3, 'Bleacher Report: sports news, scores, & highlights': 6, 'ESPN Fantasy Sports': 4, 'theScore: Live Sports Scores, News, Stats & Videos': 5, 'MLB At Bat': 5, 'WatchESPN': 4, 'Hole19: Golf GPS App, Rangefinder & Scorecard': 2, 'CBS Sports Fantasy': 2, 'Yahoo Sports - scores, stats, news, & highlights': 3, 'FotMob - Live Soccer Scores': 2, 'US Open Tennis Championships 2018': 2, 'FIFA - Tournaments, Soccer News & Live Scores': 2, 'Golfshot: Golf GPS + Tee Times': 2, 'BBC Sport': 2, 'MLB Ballpark': 2, 'FOX Sports: Live Streaming, Scores & News': 2, 'Fantasy Football': 2, 'PGA TOUR': 2, 'UFC': 2, 'trivago: Hotels & Travel': 3, 'Expedia Hotels, Flights & Car Rental Travel Deals': 4, 'TripAdvisor Hotels Flights Restaurants Attractions': 5, 'Skyscanner': 5, 'Booking.com Travel Deals': 3, 'Priceline Hotel Deals, Rental Cars & Flights': 3, 'United Airlines': 2, 'Southwest Airlines': 2, 'Hopper - Watch & Book Flights': 2, 'Fly Delta': 2, 'KAYAK Flights, Hotels & Cars': 3, 'American Airlines': 3, 'Orbitz - Hotels, Flights & Package Deals': 2, 'Hotels.com: Book Hotel Rooms & Find Vacation Deals': 2, 'Hostelworld: Hostels & Cheap Hotels Travel App': 2, 'Airbnb': 2, 'HotelTonight: Book amazing deals at great hotels': 3, 'Maps - Navigate & Explore': 3, 'Google Street View': 2, 'Calculator': 2, 'Gboard - the Google Keyboard': 3, 'ZEDGE™ Ringtones & Wallpapers': 4, 'Nova Launcher': 2, 'Apex Launcher': 3, 'Smart Launcher 5': 2, 'Google Keep': 4, 'Evernote – Organizer, Planner for Notes & Memos': 4, 'ES File Explorer File Manager': 3, 'Microsoft Word': 3, 'Google Drive': 4, 'Adobe Acrobat Reader': 3, 'Google PDF Viewer': 3, 'Microsoft Excel': 2, 'Google Docs': 3, 'Microsoft PowerPoint': 2, 'Microsoft OneNote': 3, 'Google Calendar': 3, 'Wunderlist: To-Do List & Tasks': 3, 'Any.do: To-do list, Calendar, Reminders & Planner': 3, 'Todoist: To-do lists for task management & errands': 3, 'Planner Pro-Personal Organizer': 2, 'Microsoft OneDrive': 2, 'Dropbox': 3, 'MX Player': 3, 'Video Editor': 3, 'Google News': 4, 'Flipboard: News For Our Time': 3, 'BBC News': 3, 'Fox News – Breaking News, Live Video & News Alerts': 3, 'USA TODAY': 3, 'CNN Breaking US & World News': 3, 'Twitter': 3, 'NPR News': 2, 'Haystack TV: Local & World News - Free': 2, 'ABC News - US & World News': 2, 'NBC News': 2, 'The Wall Street Journal: Business & Market News': 2, 'NYTimes - Latest News': 3, 'Newsroom: News Worth Sharing': 2, 'BuzzFeed: News, Tasty, Quizzes': 2, 'Flashlight': 2, 'Agar.io': 2, 'LEGO® Juniors Create & Cruise': 2, 'Google Translate': 2, 'Pokémon GO': 2, 'PAC-MAN': 2, 'Colorfy: Coloring Book for Adults - Free': 2, 'YouTube': 2, \"Alto's Adventure\": 2, 'Facebook': 2, 'VPN Free - Betternet Hotspot VPN & Private Browser': 2, 'EMT Tutor NREMT-B Study Guide': 2, 'EMT-B Pocket Prep': 2, 'Diary with lock': 2, 'C Programming': 2, 'CppDroid - C/C++ IDE': 2, 'Learn C++': 2, 'Google Duo - High Quality Video Calls': 2, 'Crossy Road': 2, 'E*TRADE Mobile': 2, 'WWE': 2, 'Amazon Kindle': 2, 'Microsoft Edge': 2, 'Microsoft Outlook': 2, 'Ebook Reader': 2, 'Flipkart Online Shopping App': 2, 'Facebook Lite': 2, 'Messenger Lite: Free Calls & Messages': 2, 'imo beta free calls and text': 2, 'Geometry Dash World': 2, 'Google+': 2, 'Google': 2, 'G Cloud Backup': 2, 'H&M': 2, 'H TV': 2, 'Talking Ben the Dog': 2, 'Sonic Dash': 2, 'Talkatone: Free Texts, Calls & Phone Number': 2, 'Textgram - write on photos': 2, 'Jetpack Joyride': 2, 'Anger of stick 5 : zombie': 2, 'Turbo FAST': 2, 'K PLUS': 2, 'PowerDirector Video Editor App: 4K, Slow Mo & More': 2, 'Fuzzy Numbers: Pre-K Number Foundation': 2, 'LiveMe - Video chat, new friends, and make money': 2, 'letgo: Buy & Sell Used Stuff, Cars & Real Estate': 2, 'Love Balls': 2, 'Last Day on Earth: Survival': 2, 'Minecraft': 2, 'MEGA': 2, 'I’m Expecting - Pregnancy App': 2, 'Diabetes:M': 2, 'PicsArt Photo Studio: Collage Maker & Pic Editor': 2, 'Quora': 2, 'SHAREit - Transfer & Share': 2, 'Topbuzz: Breaking News, Videos & Funny GIFs': 2, 'Twitch: Livestream Multiplayer Games & Esports': 2, 'myAT&T': 2, 'Truecaller: Caller ID, SMS spam blocking & Dialer': 2, 'Showtime Anytime': 2, 'Uber': 2, 'VLC for Android': 2, 'Vigo Video': 2, 'Wattpad 📖 Free Books': 2, 'Waze - GPS, Maps, Traffic Alerts & Live Navigation': 2, 'Dating App, Flirt & Chat : W-Match': 2, 'WPS Office - Word, Docs, PDF, Note, Slide & Sheet': 2, 'LINE WEBTOON - Free Comics': 2, 'WhatsApp Business': 2, 'We Heart It': 2, 'Telegram X': 2, 'Share Music & Transfer Files - Xender': 2, 'Yandex Browser with Protect': 2, 'YouTube Studio': 2, 'PBS KIDS Video': 2, 'YouTube Gaming': 2, 'GO Keyboard - Emoticon keyboard, Free Theme, GIF': 2, 'Zello PTT Walkie Talkie': 2, 'Z Camera - Photo Editor, Beauty Selfie, Collage': 2, 'Six Pack in 30 Days - Abs Workout': 2, 'Angry Birds 2': 2, 'AC - Tips & News for Android™': 2, 'CM Browser - Ad Blocker , Fast Download , Privacy': 2, 'Mobi Calculator free & AD free!': 2, 'Flipp - Weekly Shopping': 2, 'Camera FV-5 Lite': 2, 'All Football - Latest News & Videos': 2, 'Maricopa AH': 2, 'Animal Jam - Play Wild!': 2, 'RULES OF SURVIVAL': 2, 'Amazon for Tablets': 2, 'Final Fantasy XV: A New Empire': 2, 'The Sims™ FreePlay': 2, 'Text free - Free Text + Call': 2, '365Scores - Live Scores': 2, 'DINO HUNTER: DEADLY SHORES': 2, 'AP Mobile - Breaking News': 2, 'Reuters News': 2, 'AccuWeather: Daily Forecast & Live Weather Reports': 2, 'Moovit: Bus Time & Train Time Live Info': 2, 'Jurassic World™ Alive': 2, 'Overstock – Home Decor, Furniture Shopping': 2, 'Choices: Stories You Play': 2, 'Runtastic Sleep Better: Sleep Cycle & Smart Alarm': 2, 'Ringtone Maker': 2, 'Plants vs. Zombies™ Heroes': 2, 'CM FILE MANAGER HD': 2, 'realestate.com.au - Buy, Rent & Sell Property': 2, 'Video Player All Format': 2, 'DEER HUNTER 2018': 2, 'Google Play Games': 2, 'ai.type Free Emoji Keyboard': 2, 'Manga AZ - Manga Comic Reader': 2, 'British Airways': 2, 'Anthem BC Anywhere': 2, 'Transit: Real-Time Transit App': 2, 'PMHNP-BC Pocket Prep': 2, 'Backgrounds HD (Wallpapers)': 2, 'Blur Image Background': 2, 'Newegg Mobile': 2, 'English Dictionary - Offline': 2, 'English Grammar Test': 2, 'Daily Manga - Comic & Webtoon': 2, 'BBM - Free Calls & Messages': 2, 'BeyondMenu Food Delivery': 2, 'NOOK: Read eBooks & Magazines': 2, 'NOOK App for NOOK Devices': 2, 'HBO GO: Stream with TV Package': 2, 'No Crop & Square for Instagram': 2, 'Hungry Shark World': 2, 'iBP Blood Pressure': 2, 'Blood Pressure Log - MyDiary': 2, 'Blood Pressure(BP) Diary': 2, 'BP Journal - Blood Pressure Diary': 2, 'Blood Pressure Monitor': 2, 'Blood Pressure Companion': 2, 'High Blood Pressure Symptoms': 2, 'QR Scanner & Barcode Scanner 2018': 2, 'Camera FV-5': 2, 'Camera MX - Free Photo & Video Camera': 2, 'Cardboard': 2, 'Maps & GPS Navigation — OsmAnd': 2, 'Beautiful Widgets Pro': 2, 'Beautiful Widgets Free': 2, 'HD Widgets': 2, 'Color by Number – New Coloring Book': 2, 'Photo Editor by Aviary': 2, 'UNICORN - Color By Number & Pixel Art Coloring': 2, '420 BZ Budeze Delivery': 2, 'BZWBK24 mobile': 2, 'Zoosk Dating App: Meet Singles': 2, 'Cricbuzz - Live Cricket Scores & News': 2, 'Cheapflights – Flight Search': 2, 'Chrome Beta': 2, 'Chrome Dev': 2, 'CJmall': 2, 'Castle Clash: Heroes of the Empire US': 2, 'CM Launcher 3D - Theme, Wallpapers, Efficient': 2, 'CM Locker - Security Lockscreen': 2, 'CM Flashlight (Compass, SOS)': 2, 'Ruler': 2, 'Cartoon Network App': 2, 'LEGO® TV': 2, 'Brit + Co': 2, 'CT Scan Cross Sectional Anatomy': 2, 'Shadow Fight 2': 2, 'Curriculum vitae App CV Builder Free Resume Maker': 2, 'CW Seed': 2, 'Camera360 Lite - Selfie Camera': 2, 'Mapy.cz - Cycling & Hiking offline maps': 2, 'Face Filter, Selfie Editor - Sweet Camera': 2, 'Metal Soldiers 2': 2, \"COOKING MAMA Let's Cook!\": 2, 'Run Sausage Run!': 2, 'Knife Hit': 2, 'DC Comics': 2, 'MARVEL Contest of Champions': 2, 'wetter.com - Weather and Radar': 2, 'CallApp: Caller ID, Blocker & Phone Call Recorder': 2, 'LINE Camera - Photo editor': 2, 'Racing in Car 2': 2, 'Dungeon Hunter Champions: Epic Online Action RPG': 2, 'Red Bull TV: Live Sports, Music & Entertainment': 2, 'Idle Heroes': 2, 'Free phone calls, free texting SMS on free number': 2, 'Phone Tracker : Family Locator': 2, 'My Photo Keyboard': 2, 'Whoscall - Caller ID & Block': 2, 'Google Sheets': 2, 'Video Downloader': 2, 'Notepad & To do list': 2, 'Polaris Office - Word, Docs, Sheets, Slide, PDF': 2, 'Do It Later: Tasks & To-Dos': 2, 'To-Do Calendar Planner': 2, 'TickTick: To Do List with Reminder, Day Planner': 2, 'ColorNote Notepad Notes': 2, 'Dude Perfect 2': 2, 'Dairy Queen': 2, 'SONIC Drive-In': 2, \"McDonald's\": 2, 'Wendy’s – Food and Offers': 2, \"Dunkin' Donuts\": 2, 'SUBWAY®': 2, 'Panera Bread': 2, 'Starbucks': 2, 'Cache Cleaner-DU Speed Booster (booster & cleaner)': 2, 'DU Browser—Browse fast & fun': 2, 'Real Racing 3': 2, 'My Little Pony Celebration': 2, 'My Little Pony: Harmony Quest': 2, 'The Emirates App': 2, 'Phogy, 3D Camera': 2, 'Weather by eltiempo.es': 2, 'The Game of Life': 2, 'Spanish English Translator': 2, \"Game for KIDS: KIDS match'em\": 2, 'Dictionary - Merriam-Webster': 2, 'Edmodo': 2, 'Chess Free': 2, 'Oxford Dictionary of English : Free': 2, 'Masha and the Bear Child Games': 2, 'Episode - Choose Your Story': 2, 'The NBC App - Watch Live TV and Full Episodes': 2, 'Moto File Manager': 2, 'Moneycontrol – Stocks, Sensex, Mutual Funds, IPO': 2, 'CNBC: Breaking Business News & Live Market Data': 2, 'Google Earth': 2, 'Amino: Communities and Chats': 2, 'Hangouts Dialer - Call Phones': 2, 'Offline Maps & Navigation': 2, 'Strawberry Shortcake Ice Cream Island': 2, 'Home Workout - No Equipment': 2, 'Home Security Camera WardenCam - reuse old phones': 2, 'Web Browser for Android': 2, 'Airway Ex - Intubate. Anesthetize. Train.': 2, 'FilterGrid - Cam&Photo Editor': 2, 'Messages, Text and Video Chat for Messenger': 2, 'All Social Networks': 2, 'Premier League - Official App': 2, 'Fallout Shelter': 2, 'Facebook Pages Manager': 2, 'Facebook Ads Manager': 2, 'Who Viewed My Facebook Profile - Stalkers Visitors': 2, 'The 5th Stand': 2, 'osmino Wi-Fi: free WiFi': 2, 'Fun Kid Racing - Motocross': 2, 'Podcast App: Free & Offline Podcasts by Player FM': 2, 'Motorola FM Radio': 2, 'FarmersOnly Dating': 2, 'FP Notebook': 2, 'AAFP': 2}\n"
     ]
    }
   ],
   "source": [
    "duplicate_android_apps_counts = {}\n",
    "for app in duplicate_android_apps:\n",
    "    name = app\n",
    "    if name in duplicate_android_apps_counts:\n",
    "        duplicate_android_apps_counts[name] += 1\n",
    "    else:\n",
    "        duplicate_android_apps_counts[name] = 2\n",
    "\n",
    "print(duplicate_android_apps_counts)"
   ]
  },
  {
   "cell_type": "code",
   "execution_count": 10,
   "metadata": {
    "scrolled": true
   },
   "outputs": [
    {
     "name": "stdout",
     "output_type": "stream",
     "text": [
      "['busuu: Learn Languages - Spanish, English & More', 'EDUCATION', '4.3', '206527', '21M', '10,000,000+', 'Free', '0', 'Everyone 10+', 'Education', 'August 1, 2018', '13.9.0.161', '5.0 and up']\n",
      "['busuu: Learn Languages - Spanish, English & More', 'EDUCATION', '4.3', '206532', '21M', '10,000,000+', 'Free', '0', 'Everyone 10+', 'Education', 'August 1, 2018', '13.9.0.161', '5.0 and up']\n",
      "['busuu: Learn Languages - Spanish, English & More', 'EDUCATION', '4.3', '206532', '21M', '10,000,000+', 'Free', '0', 'Everyone 10+', 'Education', 'August 1, 2018', '13.9.0.161', '5.0 and up']\n",
      "['busuu: Learn Languages - Spanish, English & More', 'FAMILY', '4.3', '207294', '21M', '10,000,000+', 'Free', '0', 'Everyone 10+', 'Education', 'August 1, 2018', '13.9.0.161', '5.0 and up']\n"
     ]
    }
   ],
   "source": [
    "for app in android:\n",
    "    name = app[0]\n",
    "    if name == \"busuu: Learn Languages - Spanish, English & More\":\n",
    "        print(app)"
   ]
  },
  {
   "cell_type": "markdown",
   "metadata": {},
   "source": [
    "### Part 2 Removing duplicates\n",
    "To remove the duplicates, we will:\n",
    "\n",
    "- Create a dictionary, where each dictionary key is a unique app name and the corresponding dictionary value is the highest number of reviews of that app.\n",
    "- Use the information stored in the dictionary and create a new data set, which will have only one entry per app (and for each app, we'll only select the entry with the highest number of reviews)."
   ]
  },
  {
   "cell_type": "code",
   "execution_count": 11,
   "metadata": {},
   "outputs": [
    {
     "name": "stdout",
     "output_type": "stream",
     "text": [
      "Expected length: 9659\n",
      "Actual length: 9659\n"
     ]
    }
   ],
   "source": [
    "reviews_max = {}\n",
    "for app in android:\n",
    "    name = app[0]\n",
    "    n_reviews = float(app[3])\n",
    "    if name in reviews_max and reviews_max[name] < n_reviews:\n",
    "        reviews_max[name] = n_reviews\n",
    "    elif name not in reviews_max:\n",
    "        reviews_max[name] = n_reviews\n",
    "        \n",
    "print('Expected length:', len(android) - 1181)\n",
    "print('Actual length:', len(reviews_max))\n",
    "        "
   ]
  },
  {
   "cell_type": "markdown",
   "metadata": {},
   "source": [
    "Now, let's use the reviews_max dictionary to remove the duplicates. For the duplicate cases, we'll only keep the entries with the highest number of reviews. In the code cell below:\n",
    "- We start by initializing two empty lists, android_clean and already_added.\n",
    "- We loop through the android data set, and for every iteration:\n",
    "    - We isolate the name of the app and the number of reviews.\n",
    "    - We add the current row (app) to the android_clean list, and the app name (name) to the already_added list if:\n",
    "        - The number of reviews of the current app matches the number of reviews of that app as described in the reviews_max dictionary; and\n",
    "        - The name of the app is not already in the already_added list. We need to add this supplementary condition to account for those cases where the highest number of reviews of a duplicate app is the same for more than one entry (for example, the Box app has three entries, and the number of reviews is the same). If we just check for reviews_max[name] == n_reviews, we'll still end up with duplicate entries for some apps."
   ]
  },
  {
   "cell_type": "code",
   "execution_count": 12,
   "metadata": {},
   "outputs": [],
   "source": [
    "android_clean = []\n",
    "already_added = []\n",
    "\n",
    "for app in android:\n",
    "    name = app[0]\n",
    "    n_reviews = float(app[3])\n",
    "    \n",
    "    if (reviews_max[name] == n_reviews) and (name not in already_added):\n",
    "        android_clean.append(app)\n",
    "        already_added.append(name) # make sure this is inside the if block"
   ]
  },
  {
   "cell_type": "code",
   "execution_count": 13,
   "metadata": {
    "scrolled": false
   },
   "outputs": [
    {
     "name": "stdout",
     "output_type": "stream",
     "text": [
      "9659\n"
     ]
    }
   ],
   "source": [
    "print(len(android_clean))"
   ]
  },
  {
   "cell_type": "markdown",
   "metadata": {},
   "source": [
    "## 3.3 Removing non English apps\n",
    "\n",
    "Behind the scenes, each character we use in a string has a corresponding number associated with it. For instance, the corresponding number for character 'a' is 97, character 'A' is 65, and character '爱' is 29,233. We can get the corresponding number of each character using the ord() built-in function.\n",
    "\n",
    "The numbers corresponding to the characters we commonly use in an English text are all in the range 0 to 127, according to the [ASCII](https://en.wikipedia.org/wiki/ASCII) (American Standard Code for Information Interchange) system. Based on this number range, we can build a function that detects whether a character belongs to the set of common English characters or not. If the number is equal to or less than 127, then the character belongs to the set of common English characters."
   ]
  },
  {
   "cell_type": "code",
   "execution_count": 14,
   "metadata": {},
   "outputs": [
    {
     "name": "stdout",
     "output_type": "stream",
     "text": [
      "False\n",
      "False\n",
      "False\n"
     ]
    }
   ],
   "source": [
    "def is_english(string):\n",
    "    \n",
    "    for character in string:\n",
    "        if ord(character) > 127:\n",
    "            return False\n",
    "    \n",
    "    return True\n",
    "\n",
    "print(is_english('Docs To Go™ Free Office Suite'))\n",
    "print(is_english('Instachat 😜'))\n",
    "print(is_english('爱奇艺PPS -《欢乐颂2》电视剧热播'))"
   ]
  },
  {
   "cell_type": "markdown",
   "metadata": {},
   "source": [
    "lets optimize to check for 3 characters that do not fit to ASCII"
   ]
  },
  {
   "cell_type": "code",
   "execution_count": 15,
   "metadata": {},
   "outputs": [
    {
     "name": "stdout",
     "output_type": "stream",
     "text": [
      "True\n",
      "True\n",
      "False\n"
     ]
    }
   ],
   "source": [
    "def is_english(string):\n",
    "    char_count = 0\n",
    "    \n",
    "    for character in string:\n",
    "        if ord(character) > 127:\n",
    "            char_count += 1\n",
    "    if char_count > 3:\n",
    "        return False\n",
    "    else: \n",
    "        return True\n",
    "\n",
    "print(is_english('Docs To Go™ Free Office Suite'))\n",
    "print(is_english('Instachat 😜'))\n",
    "print(is_english('爱奇艺PPS -《欢乐颂2》电视剧热播'))"
   ]
  },
  {
   "cell_type": "markdown",
   "metadata": {},
   "source": [
    "Now lets filter App data names in both datasets with this function."
   ]
  },
  {
   "cell_type": "code",
   "execution_count": 16,
   "metadata": {},
   "outputs": [
    {
     "name": "stdout",
     "output_type": "stream",
     "text": [
      "['Photo Editor & Candy Camera & Grid & ScrapBook', 'ART_AND_DESIGN', '4.1', '159', '19M', '10,000+', 'Free', '0', 'Everyone', 'Art & Design', 'January 7, 2018', '1.0.0', '4.0.3 and up']\n",
      "\n",
      "\n",
      "['U Launcher Lite – FREE Live Cool Themes, Hide Apps', 'ART_AND_DESIGN', '4.7', '87510', '8.7M', '5,000,000+', 'Free', '0', 'Everyone', 'Art & Design', 'August 1, 2018', '1.2.4', '4.0.3 and up']\n",
      "\n",
      "\n",
      "['Sketch - Draw & Paint', 'ART_AND_DESIGN', '4.5', '215644', '25M', '50,000,000+', 'Free', '0', 'Teen', 'Art & Design', 'June 8, 2018', 'Varies with device', '4.2 and up']\n",
      "\n",
      "\n",
      "Number of rows: 9614\n",
      "Number of columns: 13\n",
      "\n",
      "\n",
      "['284882215', 'Facebook', '389879808', 'USD', '0.0', '2974676', '212', '3.5', '3.5', '95.0', '4+', 'Social Networking', '37', '1', '29', '1']\n",
      "\n",
      "\n",
      "['389801252', 'Instagram', '113954816', 'USD', '0.0', '2161558', '1289', '4.5', '4.0', '10.23', '12+', 'Photo & Video', '37', '0', '29', '1']\n",
      "\n",
      "\n",
      "['529479190', 'Clash of Clans', '116476928', 'USD', '0.0', '2130805', '579', '4.5', '4.5', '9.24.12', '9+', 'Games', '38', '5', '18', '1']\n",
      "\n",
      "\n",
      "Number of rows: 6183\n",
      "Number of columns: 16\n"
     ]
    }
   ],
   "source": [
    "android_english = []\n",
    "ios_english = []\n",
    "\n",
    "for app in android_clean:\n",
    "    name = app[0]\n",
    "    if is_english(name):\n",
    "        android_english.append(app)\n",
    "        \n",
    "for app in ios:\n",
    "    name = app[1]\n",
    "    if is_english(name):\n",
    "        ios_english.append(app)\n",
    "        \n",
    "explore_data(android_english, 0, 3, True)\n",
    "print('\\n')\n",
    "explore_data(ios_english, 0, 3, True)"
   ]
  },
  {
   "cell_type": "markdown",
   "metadata": {},
   "source": [
    "## 3.4 Removing non-Free apps\n",
    "\n"
   ]
  },
  {
   "cell_type": "code",
   "execution_count": 17,
   "metadata": {},
   "outputs": [
    {
     "name": "stdout",
     "output_type": "stream",
     "text": [
      "8864\n",
      "3222\n"
     ]
    }
   ],
   "source": [
    "android_free = []\n",
    "ios_free = []\n",
    "\n",
    "for app in android_english:\n",
    "    price = app[7]\n",
    "    if price == '0':\n",
    "        android_free.append(app)\n",
    "        \n",
    "for app in ios_english:\n",
    "    price = app[4]\n",
    "    if price == '0.0':\n",
    "        ios_free.append(app)\n",
    "    \n",
    "print(len(android_free))\n",
    "print(len(ios_free))"
   ]
  },
  {
   "cell_type": "markdown",
   "metadata": {},
   "source": [
    "# 4 - Analysis\n",
    "## 4.1 Most Common Apps by Genre\n",
    "As we mentioned in the introduction, our aim is to determine the kinds of apps that are likely to attract more users because our revenue is highly influenced by the number of people using our apps.\n",
    "\n",
    "To minimize risks and overhead, our validation strategy for an app idea is comprised of three steps:\n",
    "\n",
    "1. Build a minimal Android version of the app, and add it to Google Play.\n",
    "2. If the app has a good response from users, we develop it further.\n",
    "3. If the app is profitable after six months, we build an iOS version of the app and add it to the App Store.\n",
    "\n",
    "Because our end goal is to add the app on both Google Play and the App Store, we need to find app profiles that are successful on both markets. For instance, a profile that works well for both markets might be a productivity app that makes use of gamification."
   ]
  },
  {
   "cell_type": "markdown",
   "metadata": {},
   "source": [
    "To calculate sorted frequency tables with percentages we will use two functions.\n",
    "- One function to generate frequency tables that show percentages\n",
    "- Another function we can use to display the percentages in a descending order\n",
    "    to sort we could use [sorted() function](https://docs.python.org/3/library/functions.html#sorted) but it doesn't work too well with dictionaries because it only considers and returns the dictionary keys. However, the sorted() function works well if we transform the dictionary into a list of tuples, where each tuple contains a dictionary key along with its corresponding dictionary value. To ensure the sorting works right, the dictionary value comes first, and the dictionary key comes second. This is a bit overcomplicated to just sort a dictionary, but there are much simpler ways to do this once we learn more advanced techniques."
   ]
  },
  {
   "cell_type": "code",
   "execution_count": 18,
   "metadata": {},
   "outputs": [],
   "source": [
    "def freq_table(dataset, index):\n",
    "    freq_table = {}\n",
    "    total = 0\n",
    "    \n",
    "    for row in dataset:\n",
    "        total += 1\n",
    "        freq = row[index]\n",
    "        if freq in freq_table:\n",
    "            freq_table[freq] += 1\n",
    "        else:\n",
    "            freq_table[freq] = 1\n",
    "     \n",
    "    freq_table_percent = {}\n",
    "    for key in freq_table:\n",
    "        freq_percent = (freq_table[key] / total ) * 100\n",
    "        freq_table_percent[key] = freq_percent\n",
    "    return freq_table_percent\n",
    "\n",
    "def display_table(dataset, index):\n",
    "    table = freq_table(dataset, index)\n",
    "    table_display = []\n",
    "    for key in table:\n",
    "        key_val_as_tuple = (table[key], key)\n",
    "        table_display.append(key_val_as_tuple)\n",
    "\n",
    "    table_sorted = sorted(table_display, reverse = True)\n",
    "    for entry in table_sorted:\n",
    "        print(entry[1], ':', entry[0])"
   ]
  },
  {
   "cell_type": "code",
   "execution_count": 19,
   "metadata": {},
   "outputs": [
    {
     "name": "stdout",
     "output_type": "stream",
     "text": [
      "FAMILY : 18.907942238267147\n",
      "GAME : 9.724729241877256\n",
      "TOOLS : 8.461191335740072\n",
      "BUSINESS : 4.591606498194946\n",
      "LIFESTYLE : 3.9034296028880866\n",
      "PRODUCTIVITY : 3.892148014440433\n",
      "FINANCE : 3.7003610108303246\n",
      "MEDICAL : 3.531137184115524\n",
      "SPORTS : 3.395758122743682\n",
      "PERSONALIZATION : 3.3167870036101084\n",
      "COMMUNICATION : 3.2378158844765346\n",
      "HEALTH_AND_FITNESS : 3.0798736462093865\n",
      "PHOTOGRAPHY : 2.944494584837545\n",
      "NEWS_AND_MAGAZINES : 2.7978339350180503\n",
      "SOCIAL : 2.6624548736462095\n",
      "TRAVEL_AND_LOCAL : 2.33528880866426\n",
      "SHOPPING : 2.2450361010830324\n",
      "BOOKS_AND_REFERENCE : 2.1435018050541514\n",
      "DATING : 1.861462093862816\n",
      "VIDEO_PLAYERS : 1.7937725631768955\n",
      "MAPS_AND_NAVIGATION : 1.3989169675090252\n",
      "FOOD_AND_DRINK : 1.2409747292418771\n",
      "EDUCATION : 1.1620036101083033\n",
      "ENTERTAINMENT : 0.9589350180505415\n",
      "LIBRARIES_AND_DEMO : 0.9363718411552346\n",
      "AUTO_AND_VEHICLES : 0.9250902527075812\n",
      "HOUSE_AND_HOME : 0.8235559566787004\n",
      "WEATHER : 0.8009927797833934\n",
      "EVENTS : 0.7107400722021661\n",
      "PARENTING : 0.6543321299638989\n",
      "ART_AND_DESIGN : 0.6430505415162455\n",
      "COMICS : 0.6204873646209386\n",
      "BEAUTY : 0.5979241877256317\n"
     ]
    }
   ],
   "source": [
    "display_table(android_free, 1)"
   ]
  },
  {
   "cell_type": "code",
   "execution_count": 20,
   "metadata": {},
   "outputs": [
    {
     "name": "stdout",
     "output_type": "stream",
     "text": [
      "Tools : 8.449909747292418\n",
      "Entertainment : 6.069494584837545\n",
      "Education : 5.347472924187725\n",
      "Business : 4.591606498194946\n",
      "Productivity : 3.892148014440433\n",
      "Lifestyle : 3.892148014440433\n",
      "Finance : 3.7003610108303246\n",
      "Medical : 3.531137184115524\n",
      "Sports : 3.463447653429603\n",
      "Personalization : 3.3167870036101084\n",
      "Communication : 3.2378158844765346\n",
      "Action : 3.1024368231046933\n",
      "Health & Fitness : 3.0798736462093865\n",
      "Photography : 2.944494584837545\n",
      "News & Magazines : 2.7978339350180503\n",
      "Social : 2.6624548736462095\n",
      "Travel & Local : 2.3240072202166067\n",
      "Shopping : 2.2450361010830324\n",
      "Books & Reference : 2.1435018050541514\n",
      "Simulation : 2.0419675090252705\n",
      "Dating : 1.861462093862816\n",
      "Arcade : 1.8501805054151623\n",
      "Video Players & Editors : 1.7712093862815883\n",
      "Casual : 1.7599277978339352\n",
      "Maps & Navigation : 1.3989169675090252\n",
      "Food & Drink : 1.2409747292418771\n",
      "Puzzle : 1.128158844765343\n",
      "Racing : 0.9927797833935018\n",
      "Role Playing : 0.9363718411552346\n",
      "Libraries & Demo : 0.9363718411552346\n",
      "Auto & Vehicles : 0.9250902527075812\n",
      "Strategy : 0.9138086642599278\n",
      "House & Home : 0.8235559566787004\n",
      "Weather : 0.8009927797833934\n",
      "Events : 0.7107400722021661\n",
      "Adventure : 0.6768953068592057\n",
      "Comics : 0.6092057761732852\n",
      "Beauty : 0.5979241877256317\n",
      "Art & Design : 0.5979241877256317\n",
      "Parenting : 0.4963898916967509\n",
      "Card : 0.45126353790613716\n",
      "Casino : 0.42870036101083037\n",
      "Trivia : 0.41741877256317694\n",
      "Educational;Education : 0.39485559566787\n",
      "Board : 0.3835740072202166\n",
      "Educational : 0.3722924187725632\n",
      "Education;Education : 0.33844765342960287\n",
      "Word : 0.2594765342960289\n",
      "Casual;Pretend Play : 0.236913357400722\n",
      "Music : 0.2030685920577617\n",
      "Racing;Action & Adventure : 0.16922382671480143\n",
      "Puzzle;Brain Games : 0.16922382671480143\n",
      "Entertainment;Music & Video : 0.16922382671480143\n",
      "Casual;Brain Games : 0.13537906137184114\n",
      "Casual;Action & Adventure : 0.13537906137184114\n",
      "Arcade;Action & Adventure : 0.12409747292418773\n",
      "Action;Action & Adventure : 0.10153429602888085\n",
      "Educational;Pretend Play : 0.09025270758122744\n",
      "Simulation;Action & Adventure : 0.078971119133574\n",
      "Parenting;Education : 0.078971119133574\n",
      "Entertainment;Brain Games : 0.078971119133574\n",
      "Board;Brain Games : 0.078971119133574\n",
      "Parenting;Music & Video : 0.06768953068592057\n",
      "Educational;Brain Games : 0.06768953068592057\n",
      "Casual;Creativity : 0.06768953068592057\n",
      "Art & Design;Creativity : 0.06768953068592057\n",
      "Education;Pretend Play : 0.056407942238267145\n",
      "Role Playing;Pretend Play : 0.04512635379061372\n",
      "Education;Creativity : 0.04512635379061372\n",
      "Role Playing;Action & Adventure : 0.033844765342960284\n",
      "Puzzle;Action & Adventure : 0.033844765342960284\n",
      "Entertainment;Creativity : 0.033844765342960284\n",
      "Entertainment;Action & Adventure : 0.033844765342960284\n",
      "Educational;Creativity : 0.033844765342960284\n",
      "Educational;Action & Adventure : 0.033844765342960284\n",
      "Education;Music & Video : 0.033844765342960284\n",
      "Education;Brain Games : 0.033844765342960284\n",
      "Education;Action & Adventure : 0.033844765342960284\n",
      "Adventure;Action & Adventure : 0.033844765342960284\n",
      "Video Players & Editors;Music & Video : 0.02256317689530686\n",
      "Sports;Action & Adventure : 0.02256317689530686\n",
      "Simulation;Pretend Play : 0.02256317689530686\n",
      "Puzzle;Creativity : 0.02256317689530686\n",
      "Music;Music & Video : 0.02256317689530686\n",
      "Entertainment;Pretend Play : 0.02256317689530686\n",
      "Casual;Education : 0.02256317689530686\n",
      "Board;Action & Adventure : 0.02256317689530686\n",
      "Video Players & Editors;Creativity : 0.01128158844765343\n",
      "Trivia;Education : 0.01128158844765343\n",
      "Travel & Local;Action & Adventure : 0.01128158844765343\n",
      "Tools;Education : 0.01128158844765343\n",
      "Strategy;Education : 0.01128158844765343\n",
      "Strategy;Creativity : 0.01128158844765343\n",
      "Strategy;Action & Adventure : 0.01128158844765343\n",
      "Simulation;Education : 0.01128158844765343\n",
      "Role Playing;Brain Games : 0.01128158844765343\n",
      "Racing;Pretend Play : 0.01128158844765343\n",
      "Puzzle;Education : 0.01128158844765343\n",
      "Parenting;Brain Games : 0.01128158844765343\n",
      "Music & Audio;Music & Video : 0.01128158844765343\n",
      "Lifestyle;Pretend Play : 0.01128158844765343\n",
      "Lifestyle;Education : 0.01128158844765343\n",
      "Health & Fitness;Education : 0.01128158844765343\n",
      "Health & Fitness;Action & Adventure : 0.01128158844765343\n",
      "Entertainment;Education : 0.01128158844765343\n",
      "Communication;Creativity : 0.01128158844765343\n",
      "Comics;Creativity : 0.01128158844765343\n",
      "Casual;Music & Video : 0.01128158844765343\n",
      "Card;Action & Adventure : 0.01128158844765343\n",
      "Books & Reference;Education : 0.01128158844765343\n",
      "Art & Design;Pretend Play : 0.01128158844765343\n",
      "Art & Design;Action & Adventure : 0.01128158844765343\n",
      "Arcade;Pretend Play : 0.01128158844765343\n",
      "Adventure;Education : 0.01128158844765343\n"
     ]
    }
   ],
   "source": [
    "display_table(android_free, 9)"
   ]
  },
  {
   "cell_type": "code",
   "execution_count": 21,
   "metadata": {
    "scrolled": false
   },
   "outputs": [
    {
     "name": "stdout",
     "output_type": "stream",
     "text": [
      "Games : 58.16263190564867\n",
      "Entertainment : 7.883302296710118\n",
      "Photo & Video : 4.9658597144630665\n",
      "Education : 3.662321539416512\n",
      "Social Networking : 3.2898820608317814\n",
      "Shopping : 2.60707635009311\n",
      "Utilities : 2.5139664804469275\n",
      "Sports : 2.1415270018621975\n",
      "Music : 2.0484171322160147\n",
      "Health & Fitness : 2.0173805090006205\n",
      "Productivity : 1.7380509000620732\n",
      "Lifestyle : 1.5828677839851024\n",
      "News : 1.3345747982619491\n",
      "Travel : 1.2414649286157666\n",
      "Finance : 1.1173184357541899\n",
      "Weather : 0.8690254500310366\n",
      "Food & Drink : 0.8069522036002483\n",
      "Reference : 0.5586592178770949\n",
      "Business : 0.5276225946617008\n",
      "Book : 0.4345127250155183\n",
      "Navigation : 0.186219739292365\n",
      "Medical : 0.186219739292365\n",
      "Catalogs : 0.12414649286157665\n"
     ]
    }
   ],
   "source": [
    "display_table(ios_free, -5)"
   ]
  },
  {
   "cell_type": "markdown",
   "metadata": {},
   "source": [
    "## 4.2 Calculating the average number of user ratings per app genre on the App Store \n",
    "\n",
    "we will use loop inside the loop to do that. Loop inside another loop is called a nested loop.\n"
   ]
  },
  {
   "cell_type": "code",
   "execution_count": 22,
   "metadata": {
    "scrolled": true
   },
   "outputs": [
    {
     "name": "stdout",
     "output_type": "stream",
     "text": [
      "{'Social Networking': 3.2898820608317814, 'Photo & Video': 4.9658597144630665, 'Games': 58.16263190564867, 'Music': 2.0484171322160147, 'Reference': 0.5586592178770949, 'Health & Fitness': 2.0173805090006205, 'Weather': 0.8690254500310366, 'Utilities': 2.5139664804469275, 'Travel': 1.2414649286157666, 'Shopping': 2.60707635009311, 'News': 1.3345747982619491, 'Navigation': 0.186219739292365, 'Lifestyle': 1.5828677839851024, 'Entertainment': 7.883302296710118, 'Food & Drink': 0.8069522036002483, 'Sports': 2.1415270018621975, 'Book': 0.4345127250155183, 'Finance': 1.1173184357541899, 'Education': 3.662321539416512, 'Productivity': 1.7380509000620732, 'Business': 0.5276225946617008, 'Catalogs': 0.12414649286157665, 'Medical': 0.186219739292365}\n"
     ]
    }
   ],
   "source": [
    "prime_genre = freq_table(ios_free, -5)\n",
    "print(prime_genre)"
   ]
  },
  {
   "cell_type": "code",
   "execution_count": 23,
   "metadata": {
    "scrolled": false
   },
   "outputs": [
    {
     "name": "stdout",
     "output_type": "stream",
     "text": [
      "Social Networking : 71548.34905660378\n",
      "Photo & Video : 28441.54375\n",
      "Games : 22788.6696905016\n",
      "Music : 57326.530303030304\n",
      "Reference : 74942.11111111111\n",
      "Health & Fitness : 23298.015384615384\n",
      "Weather : 52279.892857142855\n",
      "Utilities : 18684.456790123455\n",
      "Travel : 28243.8\n",
      "Shopping : 26919.690476190477\n",
      "News : 21248.023255813954\n",
      "Navigation : 86090.33333333333\n",
      "Lifestyle : 16485.764705882353\n",
      "Entertainment : 14029.830708661417\n",
      "Food & Drink : 33333.92307692308\n",
      "Sports : 23008.898550724636\n",
      "Book : 39758.5\n",
      "Finance : 31467.944444444445\n",
      "Education : 7003.983050847458\n",
      "Productivity : 21028.410714285714\n",
      "Business : 7491.117647058823\n",
      "Catalogs : 4004.0\n",
      "Medical : 612.0\n"
     ]
    }
   ],
   "source": [
    "for genre in prime_genre:\n",
    "    genre_len = 0\n",
    "    genre_r_total = 0\n",
    "    for row in ios_free:\n",
    "        app_genre = row[-5]\n",
    "        if genre == app_genre:\n",
    "            app_rating = float(row[5])\n",
    "            genre_len += 1\n",
    "            genre_r_total += app_rating\n",
    "    \n",
    "    avg_rating = genre_r_total / genre_len\n",
    "    print(genre, ':', avg_rating)\n",
    "    "
   ]
  },
  {
   "cell_type": "code",
   "execution_count": 26,
   "metadata": {},
   "outputs": [
    {
     "name": "stdout",
     "output_type": "stream",
     "text": [
      "Waze - GPS Navigation, Maps & Real-time Traffic : 345046\n",
      "Google Maps - Navigation & Transit : 154911\n",
      "Geocaching® : 12811\n",
      "CoPilot GPS – Car Navigation & Offline Maps : 3582\n",
      "ImmobilienScout24: Real Estate Search in Germany : 187\n",
      "Railway Route Search : 5\n"
     ]
    }
   ],
   "source": [
    "for app in ios_free:\n",
    "    if app[-5] == 'Navigation':\n",
    "        print(app[1], ':', app[5]) # print name and number of ratings"
   ]
  },
  {
   "cell_type": "markdown",
   "metadata": {},
   "source": [
    "The same pattern applies to social networking apps, where the average number is heavily influenced by a few giants like Facebook, Pinterest, Skype, etc. Same applies to music apps, where a few big players like Pandora, Spotify, and Shazam heavily influence the average number.\n",
    "Our aim is to find popular genres, but navigation, social networking or music apps might seem more popular than they really are. The average number of ratings seem to be skewed by very few apps which have hundreds of thousands of user ratings, while the other apps may struggle to get past the 10,000 threshold. We could get a better picture by removing these extremely popular apps for each genre and then rework the averages, but we'll leave this level of detail for later.\n",
    "\n",
    "Reference apps have 74,942 user ratings on average, but it's actually the Bible and Dictionary.com which skew up the average rating:"
   ]
  },
  {
   "cell_type": "code",
   "execution_count": 25,
   "metadata": {},
   "outputs": [
    {
     "name": "stdout",
     "output_type": "stream",
     "text": [
      "Bible : 985920\n",
      "Dictionary.com Dictionary & Thesaurus : 200047\n",
      "Dictionary.com Dictionary & Thesaurus for iPad : 54175\n",
      "Google Translate : 26786\n",
      "Muslim Pro: Ramadan 2017 Prayer Times, Azan, Quran : 18418\n",
      "New Furniture Mods - Pocket Wiki & Game Tools for Minecraft PC Edition : 17588\n",
      "Merriam-Webster Dictionary : 16849\n",
      "Night Sky : 12122\n",
      "City Maps for Minecraft PE - The Best Maps for Minecraft Pocket Edition (MCPE) : 8535\n",
      "LUCKY BLOCK MOD ™ for Minecraft PC Edition - The Best Pocket Wiki & Mods Installer Tools : 4693\n",
      "GUNS MODS for Minecraft PC Edition - Mods Tools : 1497\n",
      "Guides for Pokémon GO - Pokemon GO News and Cheats : 826\n",
      "WWDC : 762\n",
      "Horror Maps for Minecraft PE - Download The Scariest Maps for Minecraft Pocket Edition (MCPE) Free : 718\n",
      "VPN Express : 14\n",
      "Real Bike Traffic Rider Virtual Reality Glasses : 8\n",
      "教えて!goo : 0\n",
      "Jishokun-Japanese English Dictionary & Translator : 0\n"
     ]
    }
   ],
   "source": [
    "for app in ios_free:\n",
    "    if app[-5] == 'Reference':\n",
    "        print(app[1], ':', app[5])"
   ]
  },
  {
   "cell_type": "markdown",
   "metadata": {},
   "source": [
    "However, this niche seems to show some potential. One thing we could do is take another popular book and turn it into an app where we could add different features besides the raw version of the book. This might include daily quotes from the book, an audio version of the book, quizzes about the book, etc. On top of that, we could also embed a dictionary within the app, so users don't need to exit our app to look up words in an external app.\n",
    "This idea seems to fit well with the fact that the App Store is dominated by for-fun apps. This suggests the market might be a bit saturated with for-fun apps, which means a practical app might have more of a chance to stand out among the huge number of apps on the App Store.\n",
    "Other genres that seem popular include weather, book, food and drink, or finance. The book genre seem to overlap a bit with the app idea we described above, but the other genres don't seem too interesting to us:\n",
    "Weather apps — people generally don't spend too much time in-app, and the chances of making profit from in-app adds are low. Also, getting reliable live weather data may require us to connect our apps to non-free APIs.\n",
    "Food and drink — examples here include Starbucks, Dunkin' Donuts, McDonald's, etc. So making a popular food and drink app requires actual cooking and a delivery service, which is outside the scope of our company.\n",
    "Finance apps — these apps involve banking, paying bills, money transfer, etc. Building a finance app requires domain knowledge, and we don't want to hire a finance expert just to build an app.\n",
    "Now let's analyze the Google Play market a bit."
   ]
  },
  {
   "cell_type": "markdown",
   "metadata": {},
   "source": [
    "## 4.3 Most popular apps by genre on google play"
   ]
  },
  {
   "cell_type": "markdown",
   "metadata": {},
   "source": [
    "We're going to leave the numbers as they are, which means that we'll consider that an app with 100,000+ installs has 100,000 installs, and an app with 1,000,000+ installs has 1,000,000 installs, and so on. To perform computations, however, we'll need to convert each install number from string to float. This means we need to remove the commas and the plus characters, otherwise the conversion will fail and raise an error.\n",
    "To remove characters from strings, we can use [str.replace(old, new) method](https://docs.python.org/3/library/stdtypes.html?#str.replace) (just like list.append() or list.copy(), str.replace() is a special kind of function called method — we'll learn more about this early in the next course). "
   ]
  },
  {
   "cell_type": "code",
   "execution_count": 29,
   "metadata": {},
   "outputs": [
    {
     "name": "stdout",
     "output_type": "stream",
     "text": [
      "1,000,000+ : 15.726534296028879\n",
      "100,000+ : 11.552346570397113\n",
      "10,000,000+ : 10.548285198555957\n",
      "10,000+ : 10.198555956678701\n",
      "1,000+ : 8.393501805054152\n",
      "100+ : 6.915613718411552\n",
      "5,000,000+ : 6.825361010830325\n",
      "500,000+ : 5.561823104693141\n",
      "50,000+ : 4.7721119133574\n",
      "5,000+ : 4.512635379061372\n",
      "10+ : 3.5424187725631766\n",
      "500+ : 3.2490974729241873\n",
      "50,000,000+ : 2.3014440433213\n",
      "100,000,000+ : 2.1322202166064983\n",
      "50+ : 1.917870036101083\n",
      "5+ : 0.78971119133574\n",
      "1+ : 0.5076714801444043\n",
      "500,000,000+ : 0.2707581227436823\n",
      "1,000,000,000+ : 0.22563176895306858\n",
      "0+ : 0.04512635379061372\n",
      "0 : 0.01128158844765343\n"
     ]
    }
   ],
   "source": [
    "display_table(android_free, 5) # the Installs columns"
   ]
  },
  {
   "cell_type": "code",
   "execution_count": 28,
   "metadata": {
    "scrolled": true
   },
   "outputs": [
    {
     "name": "stdout",
     "output_type": "stream",
     "text": [
      "ART_AND_DESIGN : 1986335.0877192982\n",
      "AUTO_AND_VEHICLES : 647317.8170731707\n",
      "BEAUTY : 513151.88679245283\n",
      "BOOKS_AND_REFERENCE : 8767811.894736841\n",
      "BUSINESS : 1712290.1474201474\n",
      "COMICS : 817657.2727272727\n",
      "COMMUNICATION : 38456119.167247385\n",
      "DATING : 854028.8303030303\n",
      "EDUCATION : 1833495.145631068\n",
      "ENTERTAINMENT : 11640705.88235294\n",
      "EVENTS : 253542.22222222222\n",
      "FINANCE : 1387692.475609756\n",
      "FOOD_AND_DRINK : 1924897.7363636363\n",
      "HEALTH_AND_FITNESS : 4188821.9853479853\n",
      "HOUSE_AND_HOME : 1331540.5616438356\n",
      "LIBRARIES_AND_DEMO : 638503.734939759\n",
      "LIFESTYLE : 1437816.2687861272\n",
      "GAME : 15588015.603248259\n",
      "FAMILY : 3695641.8198090694\n",
      "MEDICAL : 120550.61980830671\n",
      "SOCIAL : 23253652.127118643\n",
      "SHOPPING : 7036877.311557789\n",
      "PHOTOGRAPHY : 17840110.40229885\n",
      "SPORTS : 3638640.1428571427\n",
      "TRAVEL_AND_LOCAL : 13984077.710144928\n",
      "TOOLS : 10801391.298666667\n",
      "PERSONALIZATION : 5201482.6122448975\n",
      "PRODUCTIVITY : 16787331.344927534\n",
      "PARENTING : 542603.6206896552\n",
      "WEATHER : 5074486.197183099\n",
      "VIDEO_PLAYERS : 24727872.452830188\n",
      "NEWS_AND_MAGAZINES : 9549178.467741935\n",
      "MAPS_AND_NAVIGATION : 4056941.7741935486\n"
     ]
    }
   ],
   "source": [
    "prime_category = freq_table(android_free, 1)\n",
    "\n",
    "for category in prime_category:\n",
    "    category_len = 0\n",
    "    category_i_sum = 0\n",
    "    for row in android_free:\n",
    "        app_category = row[1]\n",
    "        if category == app_category:\n",
    "            category_len += 1\n",
    "            app_installs = row[5]\n",
    "            app_installs = app_installs.replace('+','')\n",
    "            app_installs = app_installs.replace(',','')\n",
    "            category_i_sum += float(app_installs)\n",
    "    \n",
    "    avg_installs = category_i_sum / category_len\n",
    "    print(category, ':', avg_installs)"
   ]
  },
  {
   "cell_type": "code",
   "execution_count": 27,
   "metadata": {
    "scrolled": true
   },
   "outputs": [
    {
     "name": "stdout",
     "output_type": "stream",
     "text": [
      "WhatsApp Messenger : 1,000,000,000+\n",
      "imo beta free calls and text : 100,000,000+\n",
      "Android Messages : 100,000,000+\n",
      "Google Duo - High Quality Video Calls : 500,000,000+\n",
      "Messenger – Text and Video Chat for Free : 1,000,000,000+\n",
      "imo free video calls and chat : 500,000,000+\n",
      "Skype - free IM & video calls : 1,000,000,000+\n",
      "Who : 100,000,000+\n",
      "GO SMS Pro - Messenger, Free Themes, Emoji : 100,000,000+\n",
      "LINE: Free Calls & Messages : 500,000,000+\n",
      "Google Chrome: Fast & Secure : 1,000,000,000+\n",
      "Firefox Browser fast & private : 100,000,000+\n",
      "UC Browser - Fast Download Private & Secure : 500,000,000+\n",
      "Gmail : 1,000,000,000+\n",
      "Hangouts : 1,000,000,000+\n",
      "Messenger Lite: Free Calls & Messages : 100,000,000+\n",
      "Kik : 100,000,000+\n",
      "KakaoTalk: Free Calls & Text : 100,000,000+\n",
      "Opera Mini - fast web browser : 100,000,000+\n",
      "Opera Browser: Fast and Secure : 100,000,000+\n",
      "Telegram : 100,000,000+\n",
      "Truecaller: Caller ID, SMS spam blocking & Dialer : 100,000,000+\n",
      "UC Browser Mini -Tiny Fast Private & Secure : 100,000,000+\n",
      "Viber Messenger : 500,000,000+\n",
      "WeChat : 100,000,000+\n",
      "Yahoo Mail – Stay Organized : 100,000,000+\n",
      "BBM - Free Calls & Messages : 100,000,000+\n"
     ]
    }
   ],
   "source": [
    "for app in android_free:\n",
    "    if app[1] == 'COMMUNICATION' and (app[5] == '1,000,000,000+'\n",
    "                                      or app[5] == '500,000,000+'\n",
    "                                      or app[5] == '100,000,000+'):\n",
    "        print(app[0], ':', app[5])\n"
   ]
  },
  {
   "cell_type": "markdown",
   "metadata": {},
   "source": [
    "# Conclusions\n",
    "In this project, we analyzed data about the App Store and Google Play mobile apps with the goal of recommending an app profile that can be profitable for both markets.\n",
    "We concluded that taking a popular book (perhaps a more recent book) and turning it into an app could be profitable for both the Google Play and the App Store markets. The markets are already full of libraries, so we need to add some special features besides the raw version of the book. This might include daily quotes from the book, an audio version of the book, quizzes on the book, a forum where people can discuss the book, etc."
   ]
  }
 ],
 "metadata": {
  "kernelspec": {
   "display_name": "Python 3",
   "language": "python",
   "name": "python3"
  },
  "language_info": {
   "codemirror_mode": {
    "name": "ipython",
    "version": 3
   },
   "file_extension": ".py",
   "mimetype": "text/x-python",
   "name": "python",
   "nbconvert_exporter": "python",
   "pygments_lexer": "ipython3",
   "version": "3.8.5"
  }
 },
 "nbformat": 4,
 "nbformat_minor": 2
}
